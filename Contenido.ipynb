{
 "cells": [
  {
   "cell_type": "markdown",
   "metadata": {},
   "source": [
    "<h2 align=\"center\">Implementación de modelos ANN para clasificación de objetos astrofísicos identificados por el SDSS</h2>\n",
    "<h2 align=\"center\">( Galaxias, Estrellas y Quasars)</h2>\n",
    "\n",
    "Para dar solución a una máquina que logre clsificar las imágenes del Sloan Digital Sky Survey DR14, se realizaun modelo perceptron multicapa, se describe paso por paso cada una de sus aspectos más importantes.\n",
    "\n",
    "\n",
    "\n",
    "<h3>Autores</h3>\n",
    "\n",
    "1. Jose Alejandro Ramirez,  joaramirezcu@unal.edu.co\n",
    "2. Oscar Julian Layton Galindo, ojlaytong@unal.edu.co\n",
    "3. Alvaro Mauricio Montenegro Díaz, ammontenegrod@unal.edu.co\n",
    "\n",
    "\n",
    "\n",
    "\n",
    "<h3>Lenguaje de Programación </h3>\n",
    "\n",
    "Python 3.7"
   ]
  },
  {
   "cell_type": "markdown",
   "metadata": {},
   "source": [
    "<h2 align='center'> Contenido</h2>\n",
    "\n",
    "<h3>  Video introductorio </h3>\n",
    "\n",
    "<a href=\"https://www.youtube.com/watch?v=6cBUY7NVD9Y\" target=\"_blank\">Video introductorio </a>\n",
    "\n",
    "<h3>  Modelamiento</h3>\n",
    "\n",
    "1. [Caracterización.](./Cuadernos/t2_Feature_Ingeniering.ipynb)\n",
    "2. [ANN1.](./Cuadernos/t2_ANN.ipynb)\n",
    "3. [ANN2](./Cuadernos/t2_ANN2.ipynb).\n",
    "4. [ANN3](./Cuadernos/t2_ANN3.ipynb).\n",
    "\n"
   ]
  },
  {
   "cell_type": "markdown",
   "metadata": {},
   "source": [
    "<h3>Referencias</h3>\n",
    "\n",
    "1.  Christofer. M. Bishop, *Pattern Recognition and machine Learning*, first edition,Springer, 2006"
   ]
  },
  {
   "cell_type": "code",
   "execution_count": null,
   "metadata": {},
   "outputs": [],
   "source": []
  }
 ],
 "metadata": {
  "kernelspec": {
   "display_name": "Python 3",
   "language": "python",
   "name": "python3"
  },
  "language_info": {
   "codemirror_mode": {
    "name": "ipython",
    "version": 3
   },
   "file_extension": ".py",
   "mimetype": "text/x-python",
   "name": "python",
   "nbconvert_exporter": "python",
   "pygments_lexer": "ipython3",
   "version": "3.7.4"
  }
 },
 "nbformat": 4,
 "nbformat_minor": 4
}
