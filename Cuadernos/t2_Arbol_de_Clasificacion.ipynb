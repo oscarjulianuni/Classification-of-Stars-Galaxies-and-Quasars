{
 "cells": [
  {
   "cell_type": "markdown",
   "metadata": {},
   "source": [
    "# Arbol de clasificación simple"
   ]
  },
  {
   "cell_type": "code",
   "execution_count": 1,
   "metadata": {},
   "outputs": [],
   "source": [
    "from sklearn.tree import DecisionTreeClassifier                                 # importando el clasificador de arboles de decisiones.\n",
    "from sklearn.model_selection import train_test_split ,cross_val_score           # Para dividir los datos en entrenamiento y test.\n",
    "from sklearn.tree import export_graphviz                                        # Para graficar arbol\n",
    "import graphviz                                                                 # Para graficar arbol\n",
    "import matplotlib.pyplot as plt                                                 # Para graficar arbol\n",
    "import numpy as np\n",
    "import pandas as pd\n",
    "\n",
    "\n",
    "from sklearn.model_selection import GridSearchCV\n",
    "from sklearn import tree, preprocessing, model_selection, ensemble\n",
    "from sklearn.metrics import accuracy_score, roc_auc_score, precision_score, recall_score, mean_squared_error, make_scorer, plot_confusion_matrix, classification_report\n",
    "from sklearn import metrics"
   ]
  },
  {
   "cell_type": "code",
   "execution_count": 215,
   "metadata": {},
   "outputs": [
    {
     "data": {
      "text/html": [
       "<div>\n",
       "<style scoped>\n",
       "    .dataframe tbody tr th:only-of-type {\n",
       "        vertical-align: middle;\n",
       "    }\n",
       "\n",
       "    .dataframe tbody tr th {\n",
       "        vertical-align: top;\n",
       "    }\n",
       "\n",
       "    .dataframe thead th {\n",
       "        text-align: right;\n",
       "    }\n",
       "</style>\n",
       "<table border=\"1\" class=\"dataframe\">\n",
       "  <thead>\n",
       "    <tr style=\"text-align: right;\">\n",
       "      <th></th>\n",
       "      <th>objid</th>\n",
       "      <th>ra</th>\n",
       "      <th>dec</th>\n",
       "      <th>u</th>\n",
       "      <th>g</th>\n",
       "      <th>r</th>\n",
       "      <th>i</th>\n",
       "      <th>z</th>\n",
       "      <th>run</th>\n",
       "      <th>camcol</th>\n",
       "      <th>field</th>\n",
       "      <th>specobjid</th>\n",
       "      <th>class</th>\n",
       "      <th>plate</th>\n",
       "      <th>mjd</th>\n",
       "      <th>fiberid</th>\n",
       "    </tr>\n",
       "  </thead>\n",
       "  <tbody>\n",
       "    <tr>\n",
       "      <th>0</th>\n",
       "      <td>1.237650e+18</td>\n",
       "      <td>183.531326</td>\n",
       "      <td>0.089693</td>\n",
       "      <td>19.47406</td>\n",
       "      <td>17.04240</td>\n",
       "      <td>15.94699</td>\n",
       "      <td>15.50342</td>\n",
       "      <td>15.22531</td>\n",
       "      <td>752</td>\n",
       "      <td>4</td>\n",
       "      <td>267</td>\n",
       "      <td>3.722360e+18</td>\n",
       "      <td>STAR</td>\n",
       "      <td>3306</td>\n",
       "      <td>54922</td>\n",
       "      <td>491</td>\n",
       "    </tr>\n",
       "    <tr>\n",
       "      <th>1</th>\n",
       "      <td>1.237650e+18</td>\n",
       "      <td>183.598371</td>\n",
       "      <td>0.135285</td>\n",
       "      <td>18.66280</td>\n",
       "      <td>17.21449</td>\n",
       "      <td>16.67637</td>\n",
       "      <td>16.48922</td>\n",
       "      <td>16.39150</td>\n",
       "      <td>752</td>\n",
       "      <td>4</td>\n",
       "      <td>267</td>\n",
       "      <td>3.638140e+17</td>\n",
       "      <td>STAR</td>\n",
       "      <td>323</td>\n",
       "      <td>51615</td>\n",
       "      <td>541</td>\n",
       "    </tr>\n",
       "    <tr>\n",
       "      <th>2</th>\n",
       "      <td>1.237650e+18</td>\n",
       "      <td>183.680207</td>\n",
       "      <td>0.126185</td>\n",
       "      <td>19.38298</td>\n",
       "      <td>18.19169</td>\n",
       "      <td>17.47428</td>\n",
       "      <td>17.08732</td>\n",
       "      <td>16.80125</td>\n",
       "      <td>752</td>\n",
       "      <td>4</td>\n",
       "      <td>268</td>\n",
       "      <td>3.232740e+17</td>\n",
       "      <td>GALAXY</td>\n",
       "      <td>287</td>\n",
       "      <td>52023</td>\n",
       "      <td>513</td>\n",
       "    </tr>\n",
       "    <tr>\n",
       "      <th>3</th>\n",
       "      <td>1.237650e+18</td>\n",
       "      <td>183.870529</td>\n",
       "      <td>0.049911</td>\n",
       "      <td>17.76536</td>\n",
       "      <td>16.60272</td>\n",
       "      <td>16.16116</td>\n",
       "      <td>15.98233</td>\n",
       "      <td>15.90438</td>\n",
       "      <td>752</td>\n",
       "      <td>4</td>\n",
       "      <td>269</td>\n",
       "      <td>3.722370e+18</td>\n",
       "      <td>STAR</td>\n",
       "      <td>3306</td>\n",
       "      <td>54922</td>\n",
       "      <td>510</td>\n",
       "    </tr>\n",
       "    <tr>\n",
       "      <th>4</th>\n",
       "      <td>1.237650e+18</td>\n",
       "      <td>183.883288</td>\n",
       "      <td>0.102557</td>\n",
       "      <td>17.55025</td>\n",
       "      <td>16.26342</td>\n",
       "      <td>16.43869</td>\n",
       "      <td>16.55492</td>\n",
       "      <td>16.61326</td>\n",
       "      <td>752</td>\n",
       "      <td>4</td>\n",
       "      <td>269</td>\n",
       "      <td>3.722370e+18</td>\n",
       "      <td>STAR</td>\n",
       "      <td>3306</td>\n",
       "      <td>54922</td>\n",
       "      <td>512</td>\n",
       "    </tr>\n",
       "  </tbody>\n",
       "</table>\n",
       "</div>"
      ],
      "text/plain": [
       "          objid          ra       dec         u         g         r         i  \\\n",
       "0  1.237650e+18  183.531326  0.089693  19.47406  17.04240  15.94699  15.50342   \n",
       "1  1.237650e+18  183.598371  0.135285  18.66280  17.21449  16.67637  16.48922   \n",
       "2  1.237650e+18  183.680207  0.126185  19.38298  18.19169  17.47428  17.08732   \n",
       "3  1.237650e+18  183.870529  0.049911  17.76536  16.60272  16.16116  15.98233   \n",
       "4  1.237650e+18  183.883288  0.102557  17.55025  16.26342  16.43869  16.55492   \n",
       "\n",
       "          z  run  camcol  field     specobjid   class  plate    mjd  fiberid  \n",
       "0  15.22531  752       4    267  3.722360e+18    STAR   3306  54922      491  \n",
       "1  16.39150  752       4    267  3.638140e+17    STAR    323  51615      541  \n",
       "2  16.80125  752       4    268  3.232740e+17  GALAXY    287  52023      513  \n",
       "3  15.90438  752       4    269  3.722370e+18    STAR   3306  54922      510  \n",
       "4  16.61326  752       4    269  3.722370e+18    STAR   3306  54922      512  "
      ]
     },
     "execution_count": 215,
     "metadata": {},
     "output_type": "execute_result"
    }
   ],
   "source": [
    "url = 'https://raw.githubusercontent.com/joaramirezcu/Mineria_Proyecto/master/Skyserver_SQL2_27_2018%206_51_39%20PM.csv'\n",
    "data_f1 = pd.read_csv(url, error_bad_lines=False)\n",
    "data_f1=data_f1.drop(['rerun'], axis=1)\n",
    "data_f1=data_f1.drop(['redshift'], axis=1)\n",
    "data_f1.head()"
   ]
  },
  {
   "cell_type": "code",
   "execution_count": 216,
   "metadata": {},
   "outputs": [
    {
     "data": {
      "text/plain": [
       "<matplotlib.axes._subplots.AxesSubplot at 0x1b1edb43fc8>"
      ]
     },
     "execution_count": 216,
     "metadata": {},
     "output_type": "execute_result"
    },
    {
     "data": {
      "image/png": "[encoded data removed]",
      "text/plain": [
       "<Figure size 432x288 with 1 Axes>"
      ]
     },
     "metadata": {
      "needs_background": "light"
     },
     "output_type": "display_data"
    }
   ],
   "source": [
    "data_f1['class'].value_counts().plot(kind='bar')"
   ]
  },
  {
   "cell_type": "markdown",
   "metadata": {},
   "source": [
    "Al generar una partición sobre el conjunto de datos del Sloan tenemos:"
   ]
  },
  {
   "cell_type": "code",
   "execution_count": 218,
   "metadata": {},
   "outputs": [
    {
     "name": "stdout",
     "output_type": "stream",
     "text": [
      "<class 'pandas.core.frame.DataFrame'>\n",
      "<class 'pandas.core.series.Series'>\n"
     ]
    }
   ],
   "source": [
    "# Separamos los predictores (X) de la variable respuesta (y)\n",
    "X = data_f1.loc[:, data_f1.columns != 'class']\n",
    "y = data_f1['class']\n",
    "print(type(X))\n",
    "print(type(y))"
   ]
  },
  {
   "cell_type": "markdown",
   "metadata": {},
   "source": [
    "Tengase en cuenta el tipo de objeto que nos aporta X, y, todo para poder interpretar las entradas del objeto estimador tree.DecisionClassifier "
   ]
  },
  {
   "cell_type": "code",
   "execution_count": 223,
   "metadata": {},
   "outputs": [],
   "source": [
    "# Dividimos los datos en entrenamiento (80%) y test (20%) de forma aleatoria\n",
    "X_train, X_test, Y_train, Y_test = model_selection.train_test_split(X, y, random_state=0, test_size=0.2)"
   ]
  },
  {
   "cell_type": "markdown",
   "metadata": {},
   "source": [
    "Para ajustar un árbol simple de clasificación, implementaremos la clase tree.DecisionClassifier de la librería sklearn. Utilizaremos como criterio para medir la calidad de la división de los nodos el Accuracy. Métricas disponibles para clasificación: https://scikit-learn.org/stable/modules/model_evaluation.html"
   ]
  },
  {
   "cell_type": "code",
   "execution_count": 220,
   "metadata": {},
   "outputs": [
    {
     "name": "stdout",
     "output_type": "stream",
     "text": [
      "<class 'pandas.core.series.Series'>\n"
     ]
    }
   ],
   "source": [
    "# Es necesario codificar la variable categorica predictora \"class\"  a numerica\n",
    "#Y_train = Y_train.map({'GALAXY': 0, 'STAR': 1, 'QSO': 2})\n",
    "#Y_test = Y_test.map({'GALAXY': 0, 'STAR': 1, 'QSO': 2})\n",
    "#print(type(Y_train))"
   ]
  },
  {
   "cell_type": "code",
   "execution_count": 221,
   "metadata": {},
   "outputs": [
    {
     "name": "stdout",
     "output_type": "stream",
     "text": [
      "(8000, 3)\n",
      "<class 'numpy.ndarray'>\n"
     ]
    }
   ],
   "source": [
    "#from sklearn import preprocessing\n",
    "#Y_train = preprocessing.label_binarize(Y_train, classes=[0, 1, 2])\n",
    "#Y_test = preprocessing.label_binarize(Y_test, classes=[0, 1, 2])\n",
    "#print(Y_train.shape)\n",
    "#print(type(Y_train))"
   ]
  },
  {
   "cell_type": "markdown",
   "metadata": {},
   "source": [
    "## Estableciendo parámetros y "
   ]
  },
  {
   "cell_type": "markdown",
   "metadata": {},
   "source": [
    "La función *DecisionTreeClassifier* ofrece un parámetro para la post-poda del árbol para equilibrar la precisión con su tamaño: ccp_alpha (cost complexity o poda por coste-complejidad). La complejidad viene dada por el número de nodos terminales. Alpha indica el parámetro de complejidad (alpha ≥ 0). Valores mayores de este parámetro aumentan el número de nodos podados."
   ]
  },
  {
   "cell_type": "code",
   "execution_count": 225,
   "metadata": {},
   "outputs": [
    {
     "data": {
      "text/plain": [
       "GridSearchCV(cv=10, error_score=nan,\n",
       "             estimator=DecisionTreeClassifier(ccp_alpha=0.0, class_weight=None,\n",
       "                                              criterion='gini', max_depth=None,\n",
       "                                              max_features=None,\n",
       "                                              max_leaf_nodes=None,\n",
       "                                              min_impurity_decrease=0.0,\n",
       "                                              min_impurity_split=None,\n",
       "                                              min_samples_leaf=1,\n",
       "                                              min_samples_split=2,\n",
       "                                              min_weight_fraction_leaf=0.0,\n",
       "                                              presort='deprecated',\n",
       "                                              random_state=0, splitter='best'),\n",
       "             iid='deprecated', n_jobs=-1,\n",
       "             param_grid={'ccp_alpha': [0.001, 0.002, 0.003],\n",
       "                         'criterion': ['gini', 'entropy'],\n",
       "                         'max_depth': [3, 4, 5], 'max_features': [3, 4, 5],\n",
       "                         'min_samples_split': [10, 20, 30, 40, 50]},\n",
       "             pre_dispatch='2*n_jobs', refit='accuracy',\n",
       "             return_train_score=False, scoring=['accuracy'], verbose=0)"
      ]
     },
     "execution_count": 225,
     "metadata": {},
     "output_type": "execute_result"
    }
   ],
   "source": [
    "from sklearn.tree import DecisionTreeClassifier\n",
    "\n",
    "# Establecemos un grid con las combinaciones de valores que queremos evaluar. Combinaciones resultantes=2*3*5*3*3=270\n",
    "grid_hiperparametros = {'criterion': ['gini', 'entropy'], #funcion para medir la calidad de las divisiones\n",
    "                        'max_features': [3, 4, 5], #nº de variables a tener en cuenta para las divisiones \n",
    "                        'min_samples_split': [10, 20, 30, 40, 50], #nº minimo de observaciones para dividir nodo\n",
    "                        'max_depth': [3, 4, 5], # profundidad maxima (pre-poda)\n",
    "                        'ccp_alpha': [0.001, 0.002, 0.003]} \n",
    "\n",
    "# Definimos las métricas de interés\n",
    "metricas = ['accuracy']\n",
    "\n",
    "# Definimos los parámetros de la búsqueda por validación cruzada\n",
    "busqueda_grid = GridSearchCV(estimator = DecisionTreeClassifier(random_state = 0), #tipo de modelo\n",
    "                             param_grid = grid_hiperparametros, \n",
    "                             cv = 10, #folds\n",
    "                             scoring = metricas, \n",
    "                             refit='accuracy',\n",
    "                             #return_train_score = True,\n",
    "                             n_jobs = -1)\n",
    "\n",
    "\n",
    "# Aplicamos la busqueda\n",
    "busqueda_grid.fit(X_train, Y_train)"
   ]
  },
  {
   "cell_type": "code",
   "execution_count": 226,
   "metadata": {},
   "outputs": [
    {
     "data": {
      "text/plain": [
       "dict_keys(['mean_fit_time', 'std_fit_time', 'mean_score_time', 'std_score_time', 'param_ccp_alpha', 'param_criterion', 'param_max_depth', 'param_max_features', 'param_min_samples_split', 'params', 'split0_test_accuracy', 'split1_test_accuracy', 'split2_test_accuracy', 'split3_test_accuracy', 'split4_test_accuracy', 'split5_test_accuracy', 'split6_test_accuracy', 'split7_test_accuracy', 'split8_test_accuracy', 'split9_test_accuracy', 'mean_test_accuracy', 'std_test_accuracy', 'rank_test_accuracy'])"
      ]
     },
     "execution_count": 226,
     "metadata": {},
     "output_type": "execute_result"
    }
   ],
   "source": [
    "# Valores que devuelve la busqueda grid\n",
    "busqueda_grid.cv_results_.keys()"
   ]
  },
  {
   "cell_type": "code",
   "execution_count": 239,
   "metadata": {},
   "outputs": [
    {
     "name": "stdout",
     "output_type": "stream",
     "text": [
      "Conjunto de hiperparámetros óptimos:\n",
      " {'ccp_alpha': 0.001, 'criterion': 'gini', 'max_depth': 5, 'max_features': 5, 'min_samples_split': 20} \n",
      "Accuracy +- std = 0.871 +- 0.015\n"
     ]
    }
   ],
   "source": [
    "# Mejores hiperparametros sobre los datos hold-out\n",
    "print('Conjunto de hiperparámetros óptimos:\\n', busqueda_grid.best_params_,\n",
    "     '\\nAccuracy +- std =', round(busqueda_grid.cv_results_['mean_test_accuracy'][busqueda_grid.best_index_],3),\n",
    "     '+-', round(busqueda_grid.cv_results_['std_test_accuracy'][busqueda_grid.best_index_],3))\n",
    "\n",
    "#   ,'\\nROC AUC +- std = ', round(busqueda_grid.cv_results_['mean_test_roc_auc'][busqueda_grid.best_index_],3),\n",
    "#     '+-', round(busqueda_grid.cv_results_['std_test_roc_auc'][busqueda_grid.best_index_],3)"
   ]
  },
  {
   "cell_type": "markdown",
   "metadata": {},
   "source": [
    "Luego a la variable arbol se le pasará el clasificacdor de arbol de desiciones."
   ]
  },
  {
   "cell_type": "code",
   "execution_count": 250,
   "metadata": {},
   "outputs": [
    {
     "name": "stdout",
     "output_type": "stream",
     "text": [
      "Decision Tree Training Accuracy: 0.884\n",
      "Decision Tree Training Accuracy: 0.875\n"
     ]
    }
   ],
   "source": [
    "modelo_arbolC = DecisionTreeClassifier(criterion = 'gini', \n",
    "                                       max_features = 6,\n",
    "                                       min_samples_split = 10, #nº minimo de observaciones para dividir nodo\n",
    "                                       max_depth = 5, #profundidad maxima\n",
    "                                       ccp_alpha = 0.001,\n",
    "                                       random_state = 0) #semilla\n",
    "# Entrenamos el modelo con los datos de entrenamiento \n",
    "modelo_arbolC.fit(X_train, Y_train)\n",
    "print('Decision Tree Training Accuracy: {:.3f}'.format(accuracy_score(Y_train, modelo_arbolC.predict(X_train))))\n",
    "print('Decision Tree Training Accuracy: {:.3f}'.format(accuracy_score(Y_test, modelo_arbolC.predict(X_test))))"
   ]
  },
  {
   "cell_type": "markdown",
   "metadata": {},
   "source": [
    "Tengase en cuenta que algunos valores por default para **DecisionTreeClassifier** estan dados por:"
   ]
  },
  {
   "cell_type": "raw",
   "metadata": {},
   "source": [
    "Estos parámetros fueron puestos por default:\n",
    "   \n",
    "     *ccp_alpha=0.0, class_weight=None, criterion='gini',\n",
    "                       max_depth=None, max_features=None, max_leaf_nodes=None,\n",
    "                       min_impurity_decrease=0.0, min_impurity_split=None,\n",
    "                       min_samples_leaf=1, min_samples_split=2,\n",
    "                       min_weight_fraction_leaf=0.0, presort='deprecated',\n",
    "                       random_state=None, splitter='best'*"
   ]
  },
  {
   "cell_type": "code",
   "execution_count": 229,
   "metadata": {},
   "outputs": [],
   "source": [
    "export_graphviz(modelo_arbolC, out_file='arbolC.dot',  feature_names=X_train.columns.tolist(), impurity=False , filled=True)"
   ]
  },
  {
   "cell_type": "code",
   "execution_count": 230,
   "metadata": {},
   "outputs": [
    {
     "data": {
      "image/svg+xml": [
       "<?xml version=\"1.0\" encoding=\"UTF-8\" standalone=\"no\"?>\r\n",
       "<!DOCTYPE svg PUBLIC \"-//W3C//DTD SVG 1.1//EN\"\r\n",
       " \"http://www.w3.org/Graphics/SVG/1.1/DTD/svg11.dtd\">\r\n",
       "<!-- Generated by graphviz version 2.38.0 (20140413.2041)\r\n",
       " -->\r\n",
       "<!-- Title: Tree Pages: 1 -->\r\n",
       "<svg width=\"1601pt\" height=\"491pt\"\r\n",
       " viewBox=\"0.00 0.00 1601.00 491.00\" xmlns=\"http://www.w3.org/2000/svg\" xmlns:xlink=\"http://www.w3.org/1999/xlink\">\r\n",
       "<g id=\"graph0\" class=\"graph\" transform=\"scale(1 1) rotate(0) translate(4 487)\">\r\n",
       "<title>Tree</title>\r\n",
       "<polygon fill=\"white\" stroke=\"none\" points=\"-4,4 -4,-487 1597,-487 1597,4 -4,4\"/>\r\n",
       "<!-- 0 -->\r\n",
       "<g id=\"node1\" class=\"node\"><title>0</title>\r\n",
       "<polygon fill=\"#fbede3\" stroke=\"black\" points=\"1104,-483 945,-483 945,-430 1104,-430 1104,-483\"/>\r\n",
       "<text text-anchor=\"middle\" x=\"1024.5\" y=\"-467.8\" font-family=\"Times New Roman,serif\" font-size=\"14.00\">plate &lt;= 856.5</text>\r\n",
       "<text text-anchor=\"middle\" x=\"1024.5\" y=\"-452.8\" font-family=\"Times New Roman,serif\" font-size=\"14.00\">samples = 8000</text>\r\n",
       "<text text-anchor=\"middle\" x=\"1024.5\" y=\"-437.8\" font-family=\"Times New Roman,serif\" font-size=\"14.00\">value = [3999, 672, 3329]</text>\r\n",
       "</g>\r\n",
       "<!-- 1 -->\r\n",
       "<g id=\"node2\" class=\"node\"><title>1</title>\r\n",
       "<polygon fill=\"#eda877\" stroke=\"black\" points=\"950.5,-394 798.5,-394 798.5,-341 950.5,-341 950.5,-394\"/>\r\n",
       "<text text-anchor=\"middle\" x=\"874.5\" y=\"-378.8\" font-family=\"Times New Roman,serif\" font-size=\"14.00\">z &lt;= 17.462</text>\r\n",
       "<text text-anchor=\"middle\" x=\"874.5\" y=\"-363.8\" font-family=\"Times New Roman,serif\" font-size=\"14.00\">samples = 5246</text>\r\n",
       "<text text-anchor=\"middle\" x=\"874.5\" y=\"-348.8\" font-family=\"Times New Roman,serif\" font-size=\"14.00\">value = [3874, 543, 829]</text>\r\n",
       "</g>\r\n",
       "<!-- 0&#45;&gt;1 -->\r\n",
       "<g id=\"edge1\" class=\"edge\"><title>0&#45;&gt;1</title>\r\n",
       "<path fill=\"none\" stroke=\"black\" d=\"M980.306,-429.868C963.748,-420.264 944.766,-409.254 927.492,-399.235\"/>\r\n",
       "<polygon fill=\"black\" stroke=\"black\" points=\"929.043,-396.089 918.637,-394.099 925.531,-402.144 929.043,-396.089\"/>\r\n",
       "<text text-anchor=\"middle\" x=\"925.059\" y=\"-414.56\" font-family=\"Times New Roman,serif\" font-size=\"14.00\">True</text>\r\n",
       "</g>\r\n",
       "<!-- 22 -->\r\n",
       "<g id=\"node23\" class=\"node\"><title>22</title>\r\n",
       "<polygon fill=\"#8d4ce8\" stroke=\"black\" points=\"1254.5,-394 1102.5,-394 1102.5,-341 1254.5,-341 1254.5,-394\"/>\r\n",
       "<text text-anchor=\"middle\" x=\"1178.5\" y=\"-378.8\" font-family=\"Times New Roman,serif\" font-size=\"14.00\">g &lt;= 18.725</text>\r\n",
       "<text text-anchor=\"middle\" x=\"1178.5\" y=\"-363.8\" font-family=\"Times New Roman,serif\" font-size=\"14.00\">samples = 2754</text>\r\n",
       "<text text-anchor=\"middle\" x=\"1178.5\" y=\"-348.8\" font-family=\"Times New Roman,serif\" font-size=\"14.00\">value = [125, 129, 2500]</text>\r\n",
       "</g>\r\n",
       "<!-- 0&#45;&gt;22 -->\r\n",
       "<g id=\"edge22\" class=\"edge\"><title>0&#45;&gt;22</title>\r\n",
       "<path fill=\"none\" stroke=\"black\" d=\"M1069.87,-429.868C1086.87,-420.264 1106.36,-409.254 1124.09,-399.235\"/>\r\n",
       "<polygon fill=\"black\" stroke=\"black\" points=\"1126.2,-402.065 1133.19,-394.099 1122.76,-395.971 1126.2,-402.065\"/>\r\n",
       "<text text-anchor=\"middle\" x=\"1126.49\" y=\"-414.486\" font-family=\"Times New Roman,serif\" font-size=\"14.00\">False</text>\r\n",
       "</g>\r\n",
       "<!-- 2 -->\r\n",
       "<g id=\"node3\" class=\"node\"><title>2</title>\r\n",
       "<polygon fill=\"#e9975b\" stroke=\"black\" points=\"521.5,-305 375.5,-305 375.5,-252 521.5,-252 521.5,-305\"/>\r\n",
       "<text text-anchor=\"middle\" x=\"448.5\" y=\"-289.8\" font-family=\"Times New Roman,serif\" font-size=\"14.00\">u &lt;= 18.844</text>\r\n",
       "<text text-anchor=\"middle\" x=\"448.5\" y=\"-274.8\" font-family=\"Times New Roman,serif\" font-size=\"14.00\">samples = 4454</text>\r\n",
       "<text text-anchor=\"middle\" x=\"448.5\" y=\"-259.8\" font-family=\"Times New Roman,serif\" font-size=\"14.00\">value = [3790, 69, 595]</text>\r\n",
       "</g>\r\n",
       "<!-- 1&#45;&gt;2 -->\r\n",
       "<g id=\"edge2\" class=\"edge\"><title>1&#45;&gt;2</title>\r\n",
       "<path fill=\"none\" stroke=\"black\" d=\"M798.34,-350.946C723.33,-335.627 609.056,-312.29 531.7,-296.492\"/>\r\n",
       "<polygon fill=\"black\" stroke=\"black\" points=\"532.009,-292.982 521.511,-294.411 530.608,-299.841 532.009,-292.982\"/>\r\n",
       "</g>\r\n",
       "<!-- 13 -->\r\n",
       "<g id=\"node14\" class=\"node\"><title>13</title>\r\n",
       "<polygon fill=\"#aaf4c9\" stroke=\"black\" points=\"944,-305 805,-305 805,-252 944,-252 944,-305\"/>\r\n",
       "<text text-anchor=\"middle\" x=\"874.5\" y=\"-289.8\" font-family=\"Times New Roman,serif\" font-size=\"14.00\">g &lt;= 18.521</text>\r\n",
       "<text text-anchor=\"middle\" x=\"874.5\" y=\"-274.8\" font-family=\"Times New Roman,serif\" font-size=\"14.00\">samples = 792</text>\r\n",
       "<text text-anchor=\"middle\" x=\"874.5\" y=\"-259.8\" font-family=\"Times New Roman,serif\" font-size=\"14.00\">value = [84, 474, 234]</text>\r\n",
       "</g>\r\n",
       "<!-- 1&#45;&gt;13 -->\r\n",
       "<g id=\"edge13\" class=\"edge\"><title>1&#45;&gt;13</title>\r\n",
       "<path fill=\"none\" stroke=\"black\" d=\"M874.5,-340.868C874.5,-332.886 874.5,-323.932 874.5,-315.384\"/>\r\n",
       "<polygon fill=\"black\" stroke=\"black\" points=\"878,-315.25 874.5,-305.25 871,-315.25 878,-315.25\"/>\r\n",
       "</g>\r\n",
       "<!-- 3 -->\r\n",
       "<g id=\"node4\" class=\"node\"><title>3</title>\r\n",
       "<polygon fill=\"#eda978\" stroke=\"black\" points=\"285.5,-216 139.5,-216 139.5,-163 285.5,-163 285.5,-216\"/>\r\n",
       "<text text-anchor=\"middle\" x=\"212.5\" y=\"-200.8\" font-family=\"Times New Roman,serif\" font-size=\"14.00\">z &lt;= 15.653</text>\r\n",
       "<text text-anchor=\"middle\" x=\"212.5\" y=\"-185.8\" font-family=\"Times New Roman,serif\" font-size=\"14.00\">samples = 2048</text>\r\n",
       "<text text-anchor=\"middle\" x=\"212.5\" y=\"-170.8\" font-family=\"Times New Roman,serif\" font-size=\"14.00\">value = [1539, 51, 458]</text>\r\n",
       "</g>\r\n",
       "<!-- 2&#45;&gt;3 -->\r\n",
       "<g id=\"edge3\" class=\"edge\"><title>2&#45;&gt;3</title>\r\n",
       "<path fill=\"none\" stroke=\"black\" d=\"M379.287,-251.985C351.671,-241.804 319.727,-230.029 291.232,-219.524\"/>\r\n",
       "<polygon fill=\"black\" stroke=\"black\" points=\"292.305,-216.19 281.712,-216.015 289.884,-222.757 292.305,-216.19\"/>\r\n",
       "</g>\r\n",
       "<!-- 8 -->\r\n",
       "<g id=\"node9\" class=\"node\"><title>8</title>\r\n",
       "<polygon fill=\"#e78a47\" stroke=\"black\" points=\"521.5,-216 375.5,-216 375.5,-163 521.5,-163 521.5,-216\"/>\r\n",
       "<text text-anchor=\"middle\" x=\"448.5\" y=\"-200.8\" font-family=\"Times New Roman,serif\" font-size=\"14.00\">i &lt;= 17.345</text>\r\n",
       "<text text-anchor=\"middle\" x=\"448.5\" y=\"-185.8\" font-family=\"Times New Roman,serif\" font-size=\"14.00\">samples = 2406</text>\r\n",
       "<text text-anchor=\"middle\" x=\"448.5\" y=\"-170.8\" font-family=\"Times New Roman,serif\" font-size=\"14.00\">value = [2251, 18, 137]</text>\r\n",
       "</g>\r\n",
       "<!-- 2&#45;&gt;8 -->\r\n",
       "<g id=\"edge8\" class=\"edge\"><title>2&#45;&gt;8</title>\r\n",
       "<path fill=\"none\" stroke=\"black\" d=\"M448.5,-251.868C448.5,-243.886 448.5,-234.932 448.5,-226.384\"/>\r\n",
       "<polygon fill=\"black\" stroke=\"black\" points=\"452,-226.25 448.5,-216.25 445,-226.25 452,-226.25\"/>\r\n",
       "</g>\r\n",
       "<!-- 4 -->\r\n",
       "<g id=\"node5\" class=\"node\"><title>4</title>\r\n",
       "<polygon fill=\"#e88d4d\" stroke=\"black\" points=\"125,-119.5 0,-119.5 0,-81.5 125,-81.5 125,-119.5\"/>\r\n",
       "<text text-anchor=\"middle\" x=\"62.5\" y=\"-104.3\" font-family=\"Times New Roman,serif\" font-size=\"14.00\">samples = 964</text>\r\n",
       "<text text-anchor=\"middle\" x=\"62.5\" y=\"-89.3\" font-family=\"Times New Roman,serif\" font-size=\"14.00\">value = [877, 6, 81]</text>\r\n",
       "</g>\r\n",
       "<!-- 3&#45;&gt;4 -->\r\n",
       "<g id=\"edge4\" class=\"edge\"><title>3&#45;&gt;4</title>\r\n",
       "<path fill=\"none\" stroke=\"black\" d=\"M168.306,-162.868C147.379,-150.73 122.578,-136.345 102.25,-124.555\"/>\r\n",
       "<polygon fill=\"black\" stroke=\"black\" points=\"103.952,-121.496 93.546,-119.507 100.44,-127.552 103.952,-121.496\"/>\r\n",
       "</g>\r\n",
       "<!-- 5 -->\r\n",
       "<g id=\"node6\" class=\"node\"><title>5</title>\r\n",
       "<polygon fill=\"#f5ccaf\" stroke=\"black\" points=\"282,-127 143,-127 143,-74 282,-74 282,-127\"/>\r\n",
       "<text text-anchor=\"middle\" x=\"212.5\" y=\"-111.8\" font-family=\"Times New Roman,serif\" font-size=\"14.00\">u &lt;= 17.907</text>\r\n",
       "<text text-anchor=\"middle\" x=\"212.5\" y=\"-96.8\" font-family=\"Times New Roman,serif\" font-size=\"14.00\">samples = 1084</text>\r\n",
       "<text text-anchor=\"middle\" x=\"212.5\" y=\"-81.8\" font-family=\"Times New Roman,serif\" font-size=\"14.00\">value = [662, 45, 377]</text>\r\n",
       "</g>\r\n",
       "<!-- 3&#45;&gt;5 -->\r\n",
       "<g id=\"edge5\" class=\"edge\"><title>3&#45;&gt;5</title>\r\n",
       "<path fill=\"none\" stroke=\"black\" d=\"M212.5,-162.868C212.5,-154.886 212.5,-145.932 212.5,-137.384\"/>\r\n",
       "<polygon fill=\"black\" stroke=\"black\" points=\"216,-137.25 212.5,-127.25 209,-137.25 216,-137.25\"/>\r\n",
       "</g>\r\n",
       "<!-- 6 -->\r\n",
       "<g id=\"node7\" class=\"node\"><title>6</title>\r\n",
       "<polygon fill=\"#bd97f1\" stroke=\"black\" points=\"201.5,-38 69.5,-38 69.5,-0 201.5,-0 201.5,-38\"/>\r\n",
       "<text text-anchor=\"middle\" x=\"135.5\" y=\"-22.8\" font-family=\"Times New Roman,serif\" font-size=\"14.00\">samples = 207</text>\r\n",
       "<text text-anchor=\"middle\" x=\"135.5\" y=\"-7.8\" font-family=\"Times New Roman,serif\" font-size=\"14.00\">value = [53, 20, 134]</text>\r\n",
       "</g>\r\n",
       "<!-- 5&#45;&gt;6 -->\r\n",
       "<g id=\"edge6\" class=\"edge\"><title>5&#45;&gt;6</title>\r\n",
       "<path fill=\"none\" stroke=\"black\" d=\"M187.713,-73.9081C178.92,-64.8298 169.03,-54.6182 160.241,-45.544\"/>\r\n",
       "<polygon fill=\"black\" stroke=\"black\" points=\"162.637,-42.987 153.165,-38.2389 157.609,-47.8571 162.637,-42.987\"/>\r\n",
       "</g>\r\n",
       "<!-- 7 -->\r\n",
       "<g id=\"node8\" class=\"node\"><title>7</title>\r\n",
       "<polygon fill=\"#f0b68d\" stroke=\"black\" points=\"359,-38 220,-38 220,-0 359,-0 359,-38\"/>\r\n",
       "<text text-anchor=\"middle\" x=\"289.5\" y=\"-22.8\" font-family=\"Times New Roman,serif\" font-size=\"14.00\">samples = 877</text>\r\n",
       "<text text-anchor=\"middle\" x=\"289.5\" y=\"-7.8\" font-family=\"Times New Roman,serif\" font-size=\"14.00\">value = [609, 25, 243]</text>\r\n",
       "</g>\r\n",
       "<!-- 5&#45;&gt;7 -->\r\n",
       "<g id=\"edge7\" class=\"edge\"><title>5&#45;&gt;7</title>\r\n",
       "<path fill=\"none\" stroke=\"black\" d=\"M237.287,-73.9081C246.08,-64.8298 255.97,-54.6182 264.759,-45.544\"/>\r\n",
       "<polygon fill=\"black\" stroke=\"black\" points=\"267.391,-47.8571 271.835,-38.2389 262.363,-42.987 267.391,-47.8571\"/>\r\n",
       "</g>\r\n",
       "<!-- 9 -->\r\n",
       "<g id=\"node10\" class=\"node\"><title>9</title>\r\n",
       "<polygon fill=\"#e68743\" stroke=\"black\" points=\"439,-119.5 300,-119.5 300,-81.5 439,-81.5 439,-119.5\"/>\r\n",
       "<text text-anchor=\"middle\" x=\"369.5\" y=\"-104.3\" font-family=\"Times New Roman,serif\" font-size=\"14.00\">samples = 2192</text>\r\n",
       "<text text-anchor=\"middle\" x=\"369.5\" y=\"-89.3\" font-family=\"Times New Roman,serif\" font-size=\"14.00\">value = [2088, 11, 93]</text>\r\n",
       "</g>\r\n",
       "<!-- 8&#45;&gt;9 -->\r\n",
       "<g id=\"edge9\" class=\"edge\"><title>8&#45;&gt;9</title>\r\n",
       "<path fill=\"none\" stroke=\"black\" d=\"M425.225,-162.868C414.944,-151.546 402.889,-138.27 392.626,-126.968\"/>\r\n",
       "<polygon fill=\"black\" stroke=\"black\" points=\"395.165,-124.557 385.851,-119.507 389.982,-129.263 395.165,-124.557\"/>\r\n",
       "</g>\r\n",
       "<!-- 10 -->\r\n",
       "<g id=\"node11\" class=\"node\"><title>10</title>\r\n",
       "<polygon fill=\"#eda774\" stroke=\"black\" points=\"582,-127 457,-127 457,-74 582,-74 582,-127\"/>\r\n",
       "<text text-anchor=\"middle\" x=\"519.5\" y=\"-111.8\" font-family=\"Times New Roman,serif\" font-size=\"14.00\">g &lt;= 18.007</text>\r\n",
       "<text text-anchor=\"middle\" x=\"519.5\" y=\"-96.8\" font-family=\"Times New Roman,serif\" font-size=\"14.00\">samples = 214</text>\r\n",
       "<text text-anchor=\"middle\" x=\"519.5\" y=\"-81.8\" font-family=\"Times New Roman,serif\" font-size=\"14.00\">value = [163, 7, 44]</text>\r\n",
       "</g>\r\n",
       "<!-- 8&#45;&gt;10 -->\r\n",
       "<g id=\"edge10\" class=\"edge\"><title>8&#45;&gt;10</title>\r\n",
       "<path fill=\"none\" stroke=\"black\" d=\"M469.418,-162.868C476.505,-154.184 484.53,-144.35 492.047,-135.139\"/>\r\n",
       "<polygon fill=\"black\" stroke=\"black\" points=\"494.875,-137.21 498.486,-127.25 489.451,-132.784 494.875,-137.21\"/>\r\n",
       "</g>\r\n",
       "<!-- 11 -->\r\n",
       "<g id=\"node12\" class=\"node\"><title>11</title>\r\n",
       "<polygon fill=\"#c3a0f3\" stroke=\"black\" points=\"538,-38 419,-38 419,-0 538,-0 538,-38\"/>\r\n",
       "<text text-anchor=\"middle\" x=\"478.5\" y=\"-22.8\" font-family=\"Times New Roman,serif\" font-size=\"14.00\">samples = 34</text>\r\n",
       "<text text-anchor=\"middle\" x=\"478.5\" y=\"-7.8\" font-family=\"Times New Roman,serif\" font-size=\"14.00\">value = [11, 1, 22]</text>\r\n",
       "</g>\r\n",
       "<!-- 10&#45;&gt;11 -->\r\n",
       "<g id=\"edge11\" class=\"edge\"><title>10&#45;&gt;11</title>\r\n",
       "<path fill=\"none\" stroke=\"black\" d=\"M506.302,-73.9081C501.901,-65.3745 496.983,-55.8395 492.522,-47.1891\"/>\r\n",
       "<polygon fill=\"black\" stroke=\"black\" points=\"495.601,-45.5223 487.906,-38.2389 489.379,-48.7309 495.601,-45.5223\"/>\r\n",
       "</g>\r\n",
       "<!-- 12 -->\r\n",
       "<g id=\"node13\" class=\"node\"><title>12</title>\r\n",
       "<polygon fill=\"#ea975c\" stroke=\"black\" points=\"681,-38 556,-38 556,-0 681,-0 681,-38\"/>\r\n",
       "<text text-anchor=\"middle\" x=\"618.5\" y=\"-22.8\" font-family=\"Times New Roman,serif\" font-size=\"14.00\">samples = 180</text>\r\n",
       "<text text-anchor=\"middle\" x=\"618.5\" y=\"-7.8\" font-family=\"Times New Roman,serif\" font-size=\"14.00\">value = [152, 6, 22]</text>\r\n",
       "</g>\r\n",
       "<!-- 10&#45;&gt;12 -->\r\n",
       "<g id=\"edge12\" class=\"edge\"><title>10&#45;&gt;12</title>\r\n",
       "<path fill=\"none\" stroke=\"black\" d=\"M551.369,-73.9081C563.013,-64.5575 576.155,-54.0045 587.704,-44.7304\"/>\r\n",
       "<polygon fill=\"black\" stroke=\"black\" points=\"590.182,-47.2293 595.787,-38.2389 585.799,-41.7713 590.182,-47.2293\"/>\r\n",
       "</g>\r\n",
       "<!-- 14 -->\r\n",
       "<g id=\"node15\" class=\"node\"><title>14</title>\r\n",
       "<polygon fill=\"#ccaff4\" stroke=\"black\" points=\"875.5,-216 743.5,-216 743.5,-163 875.5,-163 875.5,-216\"/>\r\n",
       "<text text-anchor=\"middle\" x=\"809.5\" y=\"-200.8\" font-family=\"Times New Roman,serif\" font-size=\"14.00\">i &lt;= 17.8</text>\r\n",
       "<text text-anchor=\"middle\" x=\"809.5\" y=\"-185.8\" font-family=\"Times New Roman,serif\" font-size=\"14.00\">samples = 322</text>\r\n",
       "<text text-anchor=\"middle\" x=\"809.5\" y=\"-170.8\" font-family=\"Times New Roman,serif\" font-size=\"14.00\">value = [51, 88, 183]</text>\r\n",
       "</g>\r\n",
       "<!-- 13&#45;&gt;14 -->\r\n",
       "<g id=\"edge14\" class=\"edge\"><title>13&#45;&gt;14</title>\r\n",
       "<path fill=\"none\" stroke=\"black\" d=\"M855.349,-251.868C848.927,-243.272 841.663,-233.549 834.842,-224.419\"/>\r\n",
       "<polygon fill=\"black\" stroke=\"black\" points=\"837.527,-222.166 828.738,-216.25 831.92,-226.356 837.527,-222.166\"/>\r\n",
       "</g>\r\n",
       "<!-- 17 -->\r\n",
       "<g id=\"node18\" class=\"node\"><title>17</title>\r\n",
       "<polygon fill=\"#61ea9a\" stroke=\"black\" points=\"1025.5,-216 893.5,-216 893.5,-163 1025.5,-163 1025.5,-216\"/>\r\n",
       "<text text-anchor=\"middle\" x=\"959.5\" y=\"-200.8\" font-family=\"Times New Roman,serif\" font-size=\"14.00\">z &lt;= 19.413</text>\r\n",
       "<text text-anchor=\"middle\" x=\"959.5\" y=\"-185.8\" font-family=\"Times New Roman,serif\" font-size=\"14.00\">samples = 470</text>\r\n",
       "<text text-anchor=\"middle\" x=\"959.5\" y=\"-170.8\" font-family=\"Times New Roman,serif\" font-size=\"14.00\">value = [33, 386, 51]</text>\r\n",
       "</g>\r\n",
       "<!-- 13&#45;&gt;17 -->\r\n",
       "<g id=\"edge17\" class=\"edge\"><title>13&#45;&gt;17</title>\r\n",
       "<path fill=\"none\" stroke=\"black\" d=\"M899.543,-251.868C908.199,-243.008 918.023,-232.953 927.179,-223.582\"/>\r\n",
       "<polygon fill=\"black\" stroke=\"black\" points=\"929.857,-225.849 934.342,-216.25 924.85,-220.957 929.857,-225.849\"/>\r\n",
       "</g>\r\n",
       "<!-- 15 -->\r\n",
       "<g id=\"node16\" class=\"node\"><title>15</title>\r\n",
       "<polygon fill=\"#d2b8f6\" stroke=\"black\" points=\"725,-119.5 600,-119.5 600,-81.5 725,-81.5 725,-119.5\"/>\r\n",
       "<text text-anchor=\"middle\" x=\"662.5\" y=\"-104.3\" font-family=\"Times New Roman,serif\" font-size=\"14.00\">samples = 132</text>\r\n",
       "<text text-anchor=\"middle\" x=\"662.5\" y=\"-89.3\" font-family=\"Times New Roman,serif\" font-size=\"14.00\">value = [40, 19, 73]</text>\r\n",
       "</g>\r\n",
       "<!-- 14&#45;&gt;15 -->\r\n",
       "<g id=\"edge15\" class=\"edge\"><title>14&#45;&gt;15</title>\r\n",
       "<path fill=\"none\" stroke=\"black\" d=\"M766.19,-162.868C745.773,-150.784 721.595,-136.474 701.723,-124.714\"/>\r\n",
       "<polygon fill=\"black\" stroke=\"black\" points=\"703.313,-121.588 692.925,-119.507 699.748,-127.612 703.313,-121.588\"/>\r\n",
       "</g>\r\n",
       "<!-- 16 -->\r\n",
       "<g id=\"node17\" class=\"node\"><title>16</title>\r\n",
       "<polygon fill=\"#d4bcf6\" stroke=\"black\" points=\"875.5,-119.5 743.5,-119.5 743.5,-81.5 875.5,-81.5 875.5,-119.5\"/>\r\n",
       "<text text-anchor=\"middle\" x=\"809.5\" y=\"-104.3\" font-family=\"Times New Roman,serif\" font-size=\"14.00\">samples = 190</text>\r\n",
       "<text text-anchor=\"middle\" x=\"809.5\" y=\"-89.3\" font-family=\"Times New Roman,serif\" font-size=\"14.00\">value = [11, 69, 110]</text>\r\n",
       "</g>\r\n",
       "<!-- 14&#45;&gt;16 -->\r\n",
       "<g id=\"edge16\" class=\"edge\"><title>14&#45;&gt;16</title>\r\n",
       "<path fill=\"none\" stroke=\"black\" d=\"M809.5,-162.868C809.5,-152.417 809.5,-140.301 809.5,-129.609\"/>\r\n",
       "<polygon fill=\"black\" stroke=\"black\" points=\"813,-129.507 809.5,-119.507 806,-129.507 813,-129.507\"/>\r\n",
       "</g>\r\n",
       "<!-- 18 -->\r\n",
       "<g id=\"node19\" class=\"node\"><title>18</title>\r\n",
       "<polygon fill=\"#54e992\" stroke=\"black\" points=\"1025.5,-127 893.5,-127 893.5,-74 1025.5,-74 1025.5,-127\"/>\r\n",
       "<text text-anchor=\"middle\" x=\"959.5\" y=\"-111.8\" font-family=\"Times New Roman,serif\" font-size=\"14.00\">i &lt;= 18.302</text>\r\n",
       "<text text-anchor=\"middle\" x=\"959.5\" y=\"-96.8\" font-family=\"Times New Roman,serif\" font-size=\"14.00\">samples = 440</text>\r\n",
       "<text text-anchor=\"middle\" x=\"959.5\" y=\"-81.8\" font-family=\"Times New Roman,serif\" font-size=\"14.00\">value = [29, 384, 27]</text>\r\n",
       "</g>\r\n",
       "<!-- 17&#45;&gt;18 -->\r\n",
       "<g id=\"edge18\" class=\"edge\"><title>17&#45;&gt;18</title>\r\n",
       "<path fill=\"none\" stroke=\"black\" d=\"M959.5,-162.868C959.5,-154.886 959.5,-145.932 959.5,-137.384\"/>\r\n",
       "<polygon fill=\"black\" stroke=\"black\" points=\"963,-137.25 959.5,-127.25 956,-137.25 963,-137.25\"/>\r\n",
       "</g>\r\n",
       "<!-- 21 -->\r\n",
       "<g id=\"node22\" class=\"node\"><title>21</title>\r\n",
       "<polygon fill=\"#9e67eb\" stroke=\"black\" points=\"1155.5,-119.5 1043.5,-119.5 1043.5,-81.5 1155.5,-81.5 1155.5,-119.5\"/>\r\n",
       "<text text-anchor=\"middle\" x=\"1099.5\" y=\"-104.3\" font-family=\"Times New Roman,serif\" font-size=\"14.00\">samples = 30</text>\r\n",
       "<text text-anchor=\"middle\" x=\"1099.5\" y=\"-89.3\" font-family=\"Times New Roman,serif\" font-size=\"14.00\">value = [4, 2, 24]</text>\r\n",
       "</g>\r\n",
       "<!-- 17&#45;&gt;21 -->\r\n",
       "<g id=\"edge21\" class=\"edge\"><title>17&#45;&gt;21</title>\r\n",
       "<path fill=\"none\" stroke=\"black\" d=\"M1000.75,-162.868C1020.1,-150.839 1043.01,-136.603 1061.89,-124.873\"/>\r\n",
       "<polygon fill=\"black\" stroke=\"black\" points=\"1063.88,-127.758 1070.52,-119.507 1060.18,-121.812 1063.88,-127.758\"/>\r\n",
       "</g>\r\n",
       "<!-- 19 -->\r\n",
       "<g id=\"node20\" class=\"node\"><title>19</title>\r\n",
       "<polygon fill=\"#c9f8dd\" stroke=\"black\" points=\"887,-38 762,-38 762,-0 887,-0 887,-38\"/>\r\n",
       "<text text-anchor=\"middle\" x=\"824.5\" y=\"-22.8\" font-family=\"Times New Roman,serif\" font-size=\"14.00\">samples = 73</text>\r\n",
       "<text text-anchor=\"middle\" x=\"824.5\" y=\"-7.8\" font-family=\"Times New Roman,serif\" font-size=\"14.00\">value = [25, 38, 10]</text>\r\n",
       "</g>\r\n",
       "<!-- 18&#45;&gt;19 -->\r\n",
       "<g id=\"edge19\" class=\"edge\"><title>18&#45;&gt;19</title>\r\n",
       "<path fill=\"none\" stroke=\"black\" d=\"M916.042,-73.9081C899.393,-64.1036 880.499,-52.9771 864.217,-43.3891\"/>\r\n",
       "<polygon fill=\"black\" stroke=\"black\" points=\"865.865,-40.2974 855.472,-38.2389 862.313,-46.3293 865.865,-40.2974\"/>\r\n",
       "</g>\r\n",
       "<!-- 20 -->\r\n",
       "<g id=\"node21\" class=\"node\"><title>20</title>\r\n",
       "<polygon fill=\"#45e789\" stroke=\"black\" points=\"1030,-38 905,-38 905,-0 1030,-0 1030,-38\"/>\r\n",
       "<text text-anchor=\"middle\" x=\"967.5\" y=\"-22.8\" font-family=\"Times New Roman,serif\" font-size=\"14.00\">samples = 367</text>\r\n",
       "<text text-anchor=\"middle\" x=\"967.5\" y=\"-7.8\" font-family=\"Times New Roman,serif\" font-size=\"14.00\">value = [4, 346, 17]</text>\r\n",
       "</g>\r\n",
       "<!-- 18&#45;&gt;20 -->\r\n",
       "<g id=\"edge20\" class=\"edge\"><title>18&#45;&gt;20</title>\r\n",
       "<path fill=\"none\" stroke=\"black\" d=\"M962.075,-73.9081C962.897,-65.7377 963.812,-56.6492 964.652,-48.2981\"/>\r\n",
       "<polygon fill=\"black\" stroke=\"black\" points=\"968.146,-48.5391 965.665,-38.2389 961.181,-47.8382 968.146,-48.5391\"/>\r\n",
       "</g>\r\n",
       "<!-- 23 -->\r\n",
       "<g id=\"node24\" class=\"node\"><title>23</title>\r\n",
       "<polygon fill=\"#8a47e7\" stroke=\"black\" points=\"1251.5,-305 1105.5,-305 1105.5,-252 1251.5,-252 1251.5,-305\"/>\r\n",
       "<text text-anchor=\"middle\" x=\"1178.5\" y=\"-289.8\" font-family=\"Times New Roman,serif\" font-size=\"14.00\">mjd &lt;= 55184.0</text>\r\n",
       "<text text-anchor=\"middle\" x=\"1178.5\" y=\"-274.8\" font-family=\"Times New Roman,serif\" font-size=\"14.00\">samples = 2659</text>\r\n",
       "<text text-anchor=\"middle\" x=\"1178.5\" y=\"-259.8\" font-family=\"Times New Roman,serif\" font-size=\"14.00\">value = [122, 63, 2474]</text>\r\n",
       "</g>\r\n",
       "<!-- 22&#45;&gt;23 -->\r\n",
       "<g id=\"edge23\" class=\"edge\"><title>22&#45;&gt;23</title>\r\n",
       "<path fill=\"none\" stroke=\"black\" d=\"M1178.5,-340.868C1178.5,-332.886 1178.5,-323.932 1178.5,-315.384\"/>\r\n",
       "<polygon fill=\"black\" stroke=\"black\" points=\"1182,-315.25 1178.5,-305.25 1175,-315.25 1182,-315.25\"/>\r\n",
       "</g>\r\n",
       "<!-- 32 -->\r\n",
       "<g id=\"node33\" class=\"node\"><title>32</title>\r\n",
       "<polygon fill=\"#8cf0b6\" stroke=\"black\" points=\"1459,-305 1340,-305 1340,-252 1459,-252 1459,-305\"/>\r\n",
       "<text text-anchor=\"middle\" x=\"1399.5\" y=\"-289.8\" font-family=\"Times New Roman,serif\" font-size=\"14.00\">z &lt;= 19.18</text>\r\n",
       "<text text-anchor=\"middle\" x=\"1399.5\" y=\"-274.8\" font-family=\"Times New Roman,serif\" font-size=\"14.00\">samples = 95</text>\r\n",
       "<text text-anchor=\"middle\" x=\"1399.5\" y=\"-259.8\" font-family=\"Times New Roman,serif\" font-size=\"14.00\">value = [3, 66, 26]</text>\r\n",
       "</g>\r\n",
       "<!-- 22&#45;&gt;32 -->\r\n",
       "<g id=\"edge32\" class=\"edge\"><title>22&#45;&gt;32</title>\r\n",
       "<path fill=\"none\" stroke=\"black\" d=\"M1243.31,-340.985C1270.66,-330.221 1302.53,-317.673 1330.33,-306.731\"/>\r\n",
       "<polygon fill=\"black\" stroke=\"black\" points=\"1331.95,-309.852 1339.98,-302.932 1329.39,-303.339 1331.95,-309.852\"/>\r\n",
       "</g>\r\n",
       "<!-- 24 -->\r\n",
       "<g id=\"node25\" class=\"node\"><title>24</title>\r\n",
       "<polygon fill=\"#843de6\" stroke=\"black\" points=\"1175.5,-208.5 1043.5,-208.5 1043.5,-170.5 1175.5,-170.5 1175.5,-208.5\"/>\r\n",
       "<text text-anchor=\"middle\" x=\"1109.5\" y=\"-193.3\" font-family=\"Times New Roman,serif\" font-size=\"14.00\">samples = 2004</text>\r\n",
       "<text text-anchor=\"middle\" x=\"1109.5\" y=\"-178.3\" font-family=\"Times New Roman,serif\" font-size=\"14.00\">value = [40, 4, 1960]</text>\r\n",
       "</g>\r\n",
       "<!-- 23&#45;&gt;24 -->\r\n",
       "<g id=\"edge24\" class=\"edge\"><title>23&#45;&gt;24</title>\r\n",
       "<path fill=\"none\" stroke=\"black\" d=\"M1158.17,-251.868C1149.36,-240.764 1139.07,-227.78 1130.22,-216.622\"/>\r\n",
       "<polygon fill=\"black\" stroke=\"black\" points=\"1132.74,-214.167 1123.78,-208.507 1127.25,-218.517 1132.74,-214.167\"/>\r\n",
       "</g>\r\n",
       "<!-- 25 -->\r\n",
       "<g id=\"node26\" class=\"node\"><title>25</title>\r\n",
       "<polygon fill=\"#a06aeb\" stroke=\"black\" points=\"1325.5,-216 1193.5,-216 1193.5,-163 1325.5,-163 1325.5,-216\"/>\r\n",
       "<text text-anchor=\"middle\" x=\"1259.5\" y=\"-200.8\" font-family=\"Times New Roman,serif\" font-size=\"14.00\">r &lt;= 16.385</text>\r\n",
       "<text text-anchor=\"middle\" x=\"1259.5\" y=\"-185.8\" font-family=\"Times New Roman,serif\" font-size=\"14.00\">samples = 655</text>\r\n",
       "<text text-anchor=\"middle\" x=\"1259.5\" y=\"-170.8\" font-family=\"Times New Roman,serif\" font-size=\"14.00\">value = [82, 59, 514]</text>\r\n",
       "</g>\r\n",
       "<!-- 23&#45;&gt;25 -->\r\n",
       "<g id=\"edge25\" class=\"edge\"><title>23&#45;&gt;25</title>\r\n",
       "<path fill=\"none\" stroke=\"black\" d=\"M1202.36,-251.868C1210.61,-243.008 1219.98,-232.953 1228.7,-223.582\"/>\r\n",
       "<polygon fill=\"black\" stroke=\"black\" points=\"1231.27,-225.954 1235.53,-216.25 1226.15,-221.184 1231.27,-225.954\"/>\r\n",
       "</g>\r\n",
       "<!-- 26 -->\r\n",
       "<g id=\"node27\" class=\"node\"><title>26</title>\r\n",
       "<polygon fill=\"#ebe0fb\" stroke=\"black\" points=\"1310,-127 1191,-127 1191,-74 1310,-74 1310,-127\"/>\r\n",
       "<text text-anchor=\"middle\" x=\"1250.5\" y=\"-111.8\" font-family=\"Times New Roman,serif\" font-size=\"14.00\">plate &lt;= 7186.5</text>\r\n",
       "<text text-anchor=\"middle\" x=\"1250.5\" y=\"-96.8\" font-family=\"Times New Roman,serif\" font-size=\"14.00\">samples = 142</text>\r\n",
       "<text text-anchor=\"middle\" x=\"1250.5\" y=\"-81.8\" font-family=\"Times New Roman,serif\" font-size=\"14.00\">value = [65, 0, 77]</text>\r\n",
       "</g>\r\n",
       "<!-- 25&#45;&gt;26 -->\r\n",
       "<g id=\"edge26\" class=\"edge\"><title>25&#45;&gt;26</title>\r\n",
       "<path fill=\"none\" stroke=\"black\" d=\"M1256.85,-162.868C1256.02,-154.886 1255.1,-145.932 1254.21,-137.384\"/>\r\n",
       "<polygon fill=\"black\" stroke=\"black\" points=\"1257.67,-136.836 1253.16,-127.25 1250.71,-137.557 1257.67,-136.836\"/>\r\n",
       "</g>\r\n",
       "<!-- 29 -->\r\n",
       "<g id=\"node30\" class=\"node\"><title>29</title>\r\n",
       "<polygon fill=\"#965ae9\" stroke=\"black\" points=\"1460.5,-127 1328.5,-127 1328.5,-74 1460.5,-74 1460.5,-127\"/>\r\n",
       "<text text-anchor=\"middle\" x=\"1394.5\" y=\"-111.8\" font-family=\"Times New Roman,serif\" font-size=\"14.00\">z &lt;= 16.019</text>\r\n",
       "<text text-anchor=\"middle\" x=\"1394.5\" y=\"-96.8\" font-family=\"Times New Roman,serif\" font-size=\"14.00\">samples = 513</text>\r\n",
       "<text text-anchor=\"middle\" x=\"1394.5\" y=\"-81.8\" font-family=\"Times New Roman,serif\" font-size=\"14.00\">value = [17, 59, 437]</text>\r\n",
       "</g>\r\n",
       "<!-- 25&#45;&gt;29 -->\r\n",
       "<g id=\"edge29\" class=\"edge\"><title>25&#45;&gt;29</title>\r\n",
       "<path fill=\"none\" stroke=\"black\" d=\"M1299.27,-162.868C1313.84,-153.482 1330.49,-142.754 1345.75,-132.92\"/>\r\n",
       "<polygon fill=\"black\" stroke=\"black\" points=\"1348.03,-135.609 1354.54,-127.25 1344.24,-129.725 1348.03,-135.609\"/>\r\n",
       "</g>\r\n",
       "<!-- 27 -->\r\n",
       "<g id=\"node28\" class=\"node\"><title>27</title>\r\n",
       "<polygon fill=\"#eda775\" stroke=\"black\" points=\"1180,-38 1061,-38 1061,-0 1180,-0 1180,-38\"/>\r\n",
       "<text text-anchor=\"middle\" x=\"1120.5\" y=\"-22.8\" font-family=\"Times New Roman,serif\" font-size=\"14.00\">samples = 82</text>\r\n",
       "<text text-anchor=\"middle\" x=\"1120.5\" y=\"-7.8\" font-family=\"Times New Roman,serif\" font-size=\"14.00\">value = [63, 0, 19]</text>\r\n",
       "</g>\r\n",
       "<!-- 26&#45;&gt;27 -->\r\n",
       "<g id=\"edge27\" class=\"edge\"><title>26&#45;&gt;27</title>\r\n",
       "<path fill=\"none\" stroke=\"black\" d=\"M1208.65,-73.9081C1192.77,-64.1943 1174.76,-53.1831 1159.18,-43.6559\"/>\r\n",
       "<polygon fill=\"black\" stroke=\"black\" points=\"1160.68,-40.4702 1150.32,-38.2389 1157.03,-46.442 1160.68,-40.4702\"/>\r\n",
       "</g>\r\n",
       "<!-- 28 -->\r\n",
       "<g id=\"node29\" class=\"node\"><title>28</title>\r\n",
       "<polygon fill=\"#8540e6\" stroke=\"black\" points=\"1310.5,-38 1198.5,-38 1198.5,-0 1310.5,-0 1310.5,-38\"/>\r\n",
       "<text text-anchor=\"middle\" x=\"1254.5\" y=\"-22.8\" font-family=\"Times New Roman,serif\" font-size=\"14.00\">samples = 60</text>\r\n",
       "<text text-anchor=\"middle\" x=\"1254.5\" y=\"-7.8\" font-family=\"Times New Roman,serif\" font-size=\"14.00\">value = [2, 0, 58]</text>\r\n",
       "</g>\r\n",
       "<!-- 26&#45;&gt;28 -->\r\n",
       "<g id=\"edge28\" class=\"edge\"><title>26&#45;&gt;28</title>\r\n",
       "<path fill=\"none\" stroke=\"black\" d=\"M1251.79,-73.9081C1252.2,-65.7377 1252.66,-56.6492 1253.08,-48.2981\"/>\r\n",
       "<polygon fill=\"black\" stroke=\"black\" points=\"1256.58,-48.4022 1253.58,-38.2389 1249.58,-48.0504 1256.58,-48.4022\"/>\r\n",
       "</g>\r\n",
       "<!-- 30 -->\r\n",
       "<g id=\"node31\" class=\"node\"><title>30</title>\r\n",
       "<polygon fill=\"#eb9d65\" stroke=\"black\" points=\"1442,-38 1337,-38 1337,-0 1442,-0 1442,-38\"/>\r\n",
       "<text text-anchor=\"middle\" x=\"1389.5\" y=\"-22.8\" font-family=\"Times New Roman,serif\" font-size=\"14.00\">samples = 11</text>\r\n",
       "<text text-anchor=\"middle\" x=\"1389.5\" y=\"-7.8\" font-family=\"Times New Roman,serif\" font-size=\"14.00\">value = [9, 0, 2]</text>\r\n",
       "</g>\r\n",
       "<!-- 29&#45;&gt;30 -->\r\n",
       "<g id=\"edge30\" class=\"edge\"><title>29&#45;&gt;30</title>\r\n",
       "<path fill=\"none\" stroke=\"black\" d=\"M1392.89,-73.9081C1392.38,-65.7377 1391.8,-56.6492 1391.28,-48.2981\"/>\r\n",
       "<polygon fill=\"black\" stroke=\"black\" points=\"1394.77,-47.9995 1390.65,-38.2389 1387.78,-48.4389 1394.77,-47.9995\"/>\r\n",
       "</g>\r\n",
       "<!-- 31 -->\r\n",
       "<g id=\"node32\" class=\"node\"><title>31</title>\r\n",
       "<polygon fill=\"#9457e9\" stroke=\"black\" points=\"1585,-38 1460,-38 1460,-0 1585,-0 1585,-38\"/>\r\n",
       "<text text-anchor=\"middle\" x=\"1522.5\" y=\"-22.8\" font-family=\"Times New Roman,serif\" font-size=\"14.00\">samples = 502</text>\r\n",
       "<text text-anchor=\"middle\" x=\"1522.5\" y=\"-7.8\" font-family=\"Times New Roman,serif\" font-size=\"14.00\">value = [8, 59, 435]</text>\r\n",
       "</g>\r\n",
       "<!-- 29&#45;&gt;31 -->\r\n",
       "<g id=\"edge31\" class=\"edge\"><title>29&#45;&gt;31</title>\r\n",
       "<path fill=\"none\" stroke=\"black\" d=\"M1435.7,-73.9081C1451.34,-64.1943 1469.07,-53.1831 1484.41,-43.6559\"/>\r\n",
       "<polygon fill=\"black\" stroke=\"black\" points=\"1486.49,-46.4883 1493.13,-38.2389 1482.79,-40.5419 1486.49,-46.4883\"/>\r\n",
       "</g>\r\n",
       "<!-- 33 -->\r\n",
       "<g id=\"node34\" class=\"node\"><title>33</title>\r\n",
       "<polygon fill=\"#51e890\" stroke=\"black\" points=\"1455.5,-208.5 1343.5,-208.5 1343.5,-170.5 1455.5,-170.5 1455.5,-208.5\"/>\r\n",
       "<text text-anchor=\"middle\" x=\"1399.5\" y=\"-193.3\" font-family=\"Times New Roman,serif\" font-size=\"14.00\">samples = 63</text>\r\n",
       "<text text-anchor=\"middle\" x=\"1399.5\" y=\"-178.3\" font-family=\"Times New Roman,serif\" font-size=\"14.00\">value = [1, 56, 6]</text>\r\n",
       "</g>\r\n",
       "<!-- 32&#45;&gt;33 -->\r\n",
       "<g id=\"edge33\" class=\"edge\"><title>32&#45;&gt;33</title>\r\n",
       "<path fill=\"none\" stroke=\"black\" d=\"M1399.5,-251.868C1399.5,-241.417 1399.5,-229.301 1399.5,-218.609\"/>\r\n",
       "<polygon fill=\"black\" stroke=\"black\" points=\"1403,-218.507 1399.5,-208.507 1396,-218.507 1403,-218.507\"/>\r\n",
       "</g>\r\n",
       "<!-- 34 -->\r\n",
       "<g id=\"node35\" class=\"node\"><title>34</title>\r\n",
       "<polygon fill=\"#c6a5f3\" stroke=\"black\" points=\"1593,-208.5 1474,-208.5 1474,-170.5 1593,-170.5 1593,-208.5\"/>\r\n",
       "<text text-anchor=\"middle\" x=\"1533.5\" y=\"-193.3\" font-family=\"Times New Roman,serif\" font-size=\"14.00\">samples = 32</text>\r\n",
       "<text text-anchor=\"middle\" x=\"1533.5\" y=\"-178.3\" font-family=\"Times New Roman,serif\" font-size=\"14.00\">value = [2, 10, 20]</text>\r\n",
       "</g>\r\n",
       "<!-- 32&#45;&gt;34 -->\r\n",
       "<g id=\"edge34\" class=\"edge\"><title>32&#45;&gt;34</title>\r\n",
       "<path fill=\"none\" stroke=\"black\" d=\"M1438.98,-251.868C1457.42,-239.893 1479.23,-225.732 1497.26,-214.032\"/>\r\n",
       "<polygon fill=\"black\" stroke=\"black\" points=\"1499.28,-216.888 1505.77,-208.507 1495.47,-211.017 1499.28,-216.888\"/>\r\n",
       "</g>\r\n",
       "</g>\r\n",
       "</svg>\r\n"
      ],
      "text/plain": [
       "<graphviz.files.Source at 0x1b1eca48148>"
      ]
     },
     "execution_count": 230,
     "metadata": {},
     "output_type": "execute_result"
    }
   ],
   "source": [
    "with open('arbolC.dot') as f:\n",
    "    dot_graph=f.read()\n",
    "graphviz.Source(dot_graph)"
   ]
  },
  {
   "cell_type": "markdown",
   "metadata": {},
   "source": [
    "## Evaluación"
   ]
  },
  {
   "cell_type": "code",
   "execution_count": 231,
   "metadata": {},
   "outputs": [
    {
     "name": "stdout",
     "output_type": "stream",
     "text": [
      "(2000, 15)\n",
      "(2000,)\n"
     ]
    }
   ],
   "source": [
    "# TEST\n",
    "\n",
    "# Obtenemos las predicciones del modelo sobre los datos de test\n",
    "Y_pred = modelo_arbolC.predict(X_test)\n",
    "\n",
    "print(X_test.shape)\n",
    "print(Y_pred.shape)\n",
    "#classification_report(Y_test, Y_pred)"
   ]
  },
  {
   "cell_type": "code",
   "execution_count": 237,
   "metadata": {},
   "outputs": [
    {
     "name": "stdout",
     "output_type": "stream",
     "text": [
      "Métricas en test:\n",
      "               precision    recall  f1-score   support\n",
      "\n",
      "      GALAXY       0.87      0.94      0.90       999\n",
      "         QSO       0.85      0.67      0.75       178\n",
      "        STAR       0.89      0.84      0.86       823\n",
      "\n",
      "    accuracy                           0.88      2000\n",
      "   macro avg       0.87      0.82      0.84      2000\n",
      "weighted avg       0.88      0.88      0.87      2000\n",
      "\n"
     ]
    },
    {
     "data": {
      "text/plain": [
       "<sklearn.metrics._plot.confusion_matrix.ConfusionMatrixDisplay at 0x1b1ed815848>"
      ]
     },
     "execution_count": 237,
     "metadata": {},
     "output_type": "execute_result"
    },
    {
     "data": {
      "image/png": "[encoded data removed]",
      "text/plain": [
       "<Figure size 432x288 with 2 Axes>"
      ]
     },
     "metadata": {
      "needs_background": "light"
     },
     "output_type": "display_data"
    }
   ],
   "source": [
    "# Metricas\n",
    "print('Métricas en test:\\n', classification_report(Y_test, Y_pred))#,'\\nROC AUC =', round(roc_auc_score(Y_test, Y_pred), 3), la curva roc_auc no admite datos numerico\n",
    "\n",
    "# Matriz de confusion (0=CH, 1=MM)\n",
    "plot_confusion_matrix(modelo_arbolC, X_test, Y_test, display_labels = y.unique().tolist())"
   ]
  },
  {
   "cell_type": "markdown",
   "metadata": {},
   "source": [
    "Para poder interpretar la anterior matriz de confusión ha de tenerse en cuenta los valores que la componene, en este orden de ideas se puede ver que ....\n",
    "\n",
    "\n",
    "...\n",
    "\n",
    "\n",
    "* "
   ]
  },
  {
   "cell_type": "code",
   "execution_count": 251,
   "metadata": {},
   "outputs": [
    {
     "data": {
      "image/png": "[encoded data removed]",
      "text/plain": [
       "<Figure size 432x288 with 1 Axes>"
      ]
     },
     "metadata": {
      "needs_background": "light"
     },
     "output_type": "display_data"
    }
   ],
   "source": [
    "# Recuperamos los valores de importancia del modelo ajustado\n",
    "importancias = modelo_arbolC.feature_importances_\n",
    "\n",
    "# Ordenamos los valores de importancia en orden descendiente\n",
    "indices = np.argsort(importancias)\n",
    "\n",
    "X = data_f1.loc[:, data_f1.columns != 'Salary']\n",
    "plt.title('Importancia variables')\n",
    "plt.barh(range(len(indices)), importancias[indices], color='b', align='center')\n",
    "plt.yticks(range(len(indices)), [X.columns[i] for i in indices])\n",
    "plt.xlabel('Importancia relativa')\n",
    "plt.show()"
   ]
  },
  {
   "cell_type": "markdown",
   "metadata": {},
   "source": [
    "Aqui se puede ver que las variables que más se consideranco en el arbol de clasifiación son **class** y las que representan las 5 bandas del telescopio seegun el sistema de magnitud astronomica de Thuan-Gunn (u,g,r,i,z)"
   ]
  },
  {
   "cell_type": "code",
   "execution_count": null,
   "metadata": {},
   "outputs": [],
   "source": []
  },
  {
   "cell_type": "code",
   "execution_count": null,
   "metadata": {},
   "outputs": [],
   "source": []
  }
 ],
 "metadata": {
  "kernelspec": {
   "display_name": "Python 3",
   "language": "python",
   "name": "python3"
  },
  "language_info": {
   "codemirror_mode": {
    "name": "ipython",
    "version": 3
   },
   "file_extension": ".py",
   "mimetype": "text/x-python",
   "name": "python",
   "nbconvert_exporter": "python",
   "pygments_lexer": "ipython3",
   "version": "3.7.4"
  }
 },
 "nbformat": 4,
 "nbformat_minor": 4
}
