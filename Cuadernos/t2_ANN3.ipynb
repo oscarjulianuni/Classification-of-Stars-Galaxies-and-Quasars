{
  "nbformat": 4,
  "nbformat_minor": 0,
  "metadata": {
    "colab": {
      "name": "Pruebas3_filtros.ipynb",
      "provenance": []
    },
    "kernelspec": {
      "name": "python3",
      "display_name": "Python 3"
    }
  },
  "cells": [
    {
      "cell_type": "code",
      "metadata": {
        "id": "I3PX1bgMc38Q",
        "colab_type": "code",
        "colab": {
          "base_uri": "https://localhost:8080/",
          "height": 72
        },
        "outputId": "e640b6dd-0331-4129-b50f-5122829709fc"
      },
      "source": [
        "import numpy as np\n",
        "import pandas as pd\n",
        "import seaborn as sns\n",
        "import matplotlib.pyplot as plt\n",
        "from sklearn.model_selection import train_test_split\n",
        "\n",
        "%matplotlib inline"
      ],
      "execution_count": null,
      "outputs": [
        {
          "output_type": "stream",
          "text": [
            "/usr/local/lib/python3.6/dist-packages/statsmodels/tools/_testing.py:19: FutureWarning: pandas.util.testing is deprecated. Use the functions in the public API at pandas.testing instead.\n",
            "  import pandas.util.testing as tm\n"
          ],
          "name": "stderr"
        }
      ]
    },
    {
      "cell_type": "code",
      "metadata": {
        "id": "opWhlTw0c_Cj",
        "colab_type": "code",
        "colab": {
          "base_uri": "https://localhost:8080/",
          "height": 226
        },
        "outputId": "369909f8-c54b-41cc-e977-3e91714a0b4c"
      },
      "source": [
        "import pandas as pd\n",
        "url = 'https://raw.githubusercontent.com/joaramirezcu/Mineria_Proyecto/master/Skyserver_SQL2_27_2018%206_51_39%20PM.csv'\n",
        "data_f1 = pd.read_csv(url, error_bad_lines=False)\n",
        "data_f1=data_f1.drop(['rerun'], axis=1)\n",
        "data_f1.head()"
      ],
      "execution_count": null,
      "outputs": [
        {
          "output_type": "execute_result",
          "data": {
            "text/html": [
              "<div>\n",
              "<style scoped>\n",
              "    .dataframe tbody tr th:only-of-type {\n",
              "        vertical-align: middle;\n",
              "    }\n",
              "\n",
              "    .dataframe tbody tr th {\n",
              "        vertical-align: top;\n",
              "    }\n",
              "\n",
              "    .dataframe thead th {\n",
              "        text-align: right;\n",
              "    }\n",
              "</style>\n",
              "<table border=\"1\" class=\"dataframe\">\n",
              "  <thead>\n",
              "    <tr style=\"text-align: right;\">\n",
              "      <th></th>\n",
              "      <th>objid</th>\n",
              "      <th>ra</th>\n",
              "      <th>dec</th>\n",
              "      <th>u</th>\n",
              "      <th>g</th>\n",
              "      <th>r</th>\n",
              "      <th>i</th>\n",
              "      <th>z</th>\n",
              "      <th>run</th>\n",
              "      <th>camcol</th>\n",
              "      <th>field</th>\n",
              "      <th>specobjid</th>\n",
              "      <th>class</th>\n",
              "      <th>redshift</th>\n",
              "      <th>plate</th>\n",
              "      <th>mjd</th>\n",
              "      <th>fiberid</th>\n",
              "    </tr>\n",
              "  </thead>\n",
              "  <tbody>\n",
              "    <tr>\n",
              "      <th>0</th>\n",
              "      <td>1.237650e+18</td>\n",
              "      <td>183.531326</td>\n",
              "      <td>0.089693</td>\n",
              "      <td>19.47406</td>\n",
              "      <td>17.04240</td>\n",
              "      <td>15.94699</td>\n",
              "      <td>15.50342</td>\n",
              "      <td>15.22531</td>\n",
              "      <td>752</td>\n",
              "      <td>4</td>\n",
              "      <td>267</td>\n",
              "      <td>3.722360e+18</td>\n",
              "      <td>STAR</td>\n",
              "      <td>-0.000009</td>\n",
              "      <td>3306</td>\n",
              "      <td>54922</td>\n",
              "      <td>491</td>\n",
              "    </tr>\n",
              "    <tr>\n",
              "      <th>1</th>\n",
              "      <td>1.237650e+18</td>\n",
              "      <td>183.598371</td>\n",
              "      <td>0.135285</td>\n",
              "      <td>18.66280</td>\n",
              "      <td>17.21449</td>\n",
              "      <td>16.67637</td>\n",
              "      <td>16.48922</td>\n",
              "      <td>16.39150</td>\n",
              "      <td>752</td>\n",
              "      <td>4</td>\n",
              "      <td>267</td>\n",
              "      <td>3.638140e+17</td>\n",
              "      <td>STAR</td>\n",
              "      <td>-0.000055</td>\n",
              "      <td>323</td>\n",
              "      <td>51615</td>\n",
              "      <td>541</td>\n",
              "    </tr>\n",
              "    <tr>\n",
              "      <th>2</th>\n",
              "      <td>1.237650e+18</td>\n",
              "      <td>183.680207</td>\n",
              "      <td>0.126185</td>\n",
              "      <td>19.38298</td>\n",
              "      <td>18.19169</td>\n",
              "      <td>17.47428</td>\n",
              "      <td>17.08732</td>\n",
              "      <td>16.80125</td>\n",
              "      <td>752</td>\n",
              "      <td>4</td>\n",
              "      <td>268</td>\n",
              "      <td>3.232740e+17</td>\n",
              "      <td>GALAXY</td>\n",
              "      <td>0.123111</td>\n",
              "      <td>287</td>\n",
              "      <td>52023</td>\n",
              "      <td>513</td>\n",
              "    </tr>\n",
              "    <tr>\n",
              "      <th>3</th>\n",
              "      <td>1.237650e+18</td>\n",
              "      <td>183.870529</td>\n",
              "      <td>0.049911</td>\n",
              "      <td>17.76536</td>\n",
              "      <td>16.60272</td>\n",
              "      <td>16.16116</td>\n",
              "      <td>15.98233</td>\n",
              "      <td>15.90438</td>\n",
              "      <td>752</td>\n",
              "      <td>4</td>\n",
              "      <td>269</td>\n",
              "      <td>3.722370e+18</td>\n",
              "      <td>STAR</td>\n",
              "      <td>-0.000111</td>\n",
              "      <td>3306</td>\n",
              "      <td>54922</td>\n",
              "      <td>510</td>\n",
              "    </tr>\n",
              "    <tr>\n",
              "      <th>4</th>\n",
              "      <td>1.237650e+18</td>\n",
              "      <td>183.883288</td>\n",
              "      <td>0.102557</td>\n",
              "      <td>17.55025</td>\n",
              "      <td>16.26342</td>\n",
              "      <td>16.43869</td>\n",
              "      <td>16.55492</td>\n",
              "      <td>16.61326</td>\n",
              "      <td>752</td>\n",
              "      <td>4</td>\n",
              "      <td>269</td>\n",
              "      <td>3.722370e+18</td>\n",
              "      <td>STAR</td>\n",
              "      <td>0.000590</td>\n",
              "      <td>3306</td>\n",
              "      <td>54922</td>\n",
              "      <td>512</td>\n",
              "    </tr>\n",
              "  </tbody>\n",
              "</table>\n",
              "</div>"
            ],
            "text/plain": [
              "          objid          ra       dec  ...  plate    mjd  fiberid\n",
              "0  1.237650e+18  183.531326  0.089693  ...   3306  54922      491\n",
              "1  1.237650e+18  183.598371  0.135285  ...    323  51615      541\n",
              "2  1.237650e+18  183.680207  0.126185  ...    287  52023      513\n",
              "3  1.237650e+18  183.870529  0.049911  ...   3306  54922      510\n",
              "4  1.237650e+18  183.883288  0.102557  ...   3306  54922      512\n",
              "\n",
              "[5 rows x 17 columns]"
            ]
          },
          "metadata": {
            "tags": []
          },
          "execution_count": 2
        }
      ]
    },
    {
      "cell_type": "code",
      "metadata": {
        "id": "LNOdD4FsdBRO",
        "colab_type": "code",
        "colab": {
          "base_uri": "https://localhost:8080/",
          "height": 34
        },
        "outputId": "c4e7123b-a4dd-4177-f859-d2be5f4dd035"
      },
      "source": [
        "dim=display(data_f1.shape)"
      ],
      "execution_count": null,
      "outputs": [
        {
          "output_type": "display_data",
          "data": {
            "text/plain": [
              "(10000, 17)"
            ]
          },
          "metadata": {
            "tags": []
          }
        }
      ]
    },
    {
      "cell_type": "code",
      "metadata": {
        "id": "FBySOdjCdDPW",
        "colab_type": "code",
        "colab": {
          "base_uri": "https://localhost:8080/",
          "height": 121
        },
        "outputId": "d31fb87d-da58-46ba-fc3c-5c8739fcfedb"
      },
      "source": [
        "X = data_f1.iloc[:, [3,4,5,6,7]]\n",
        "Y = data_f1.iloc[:, [12]]\n",
        "Y = Y.replace({\"GALAXY\":0, \"STAR\":1,\"QSO\":2})\n",
        "print(X.head())"
      ],
      "execution_count": null,
      "outputs": [
        {
          "output_type": "stream",
          "text": [
            "          u         g         r         i         z\n",
            "0  19.47406  17.04240  15.94699  15.50342  15.22531\n",
            "1  18.66280  17.21449  16.67637  16.48922  16.39150\n",
            "2  19.38298  18.19169  17.47428  17.08732  16.80125\n",
            "3  17.76536  16.60272  16.16116  15.98233  15.90438\n",
            "4  17.55025  16.26342  16.43869  16.55492  16.61326\n"
          ],
          "name": "stdout"
        }
      ]
    },
    {
      "cell_type": "code",
      "metadata": {
        "id": "9u8ntsgJdHIj",
        "colab_type": "code",
        "colab": {
          "base_uri": "https://localhost:8080/",
          "height": 438
        },
        "outputId": "fcef68ba-407b-4b62-aa24-cb8be99eefa2"
      },
      "source": [
        "sns.catplot(x=\"class\", kind=\"count\", palette=\"ch:.25\", data=data_f1);\n",
        "print(Y[\"class\"].value_counts())"
      ],
      "execution_count": null,
      "outputs": [
        {
          "output_type": "stream",
          "text": [
            "0    4998\n",
            "1    4152\n",
            "2     850\n",
            "Name: class, dtype: int64\n"
          ],
          "name": "stdout"
        },
        {
          "output_type": "display_data",
          "data": {
            "image/png": "[encoded data removed]",
            "text/plain": [
              "<Figure size 360x360 with 1 Axes>"
            ]
          },
          "metadata": {
            "tags": [],
            "needs_background": "light"
          }
        }
      ]
    },
    {
      "cell_type": "code",
      "metadata": {
        "id": "iRKpjzNadJO2",
        "colab_type": "code",
        "colab": {
          "base_uri": "https://localhost:8080/",
          "height": 147
        },
        "outputId": "5392a632-7328-4dbd-f6cd-fcb7b8bd29a1"
      },
      "source": [
        "correlation_dat = X.corr()\n",
        "correlation_dat.style.background_gradient(cmap='coolwarm', axis=None)"
      ],
      "execution_count": null,
      "outputs": [
        {
          "output_type": "execute_result",
          "data": {
            "text/html": [
              "<style  type=\"text/css\" >\n",
              "    #T_056af6a8_b707_11ea_9497_0242ac1c0002row0_col0 {\n",
              "            background-color:  #b40426;\n",
              "            color:  #f1f1f1;\n",
              "        }    #T_056af6a8_b707_11ea_9497_0242ac1c0002row0_col1 {\n",
              "            background-color:  #f7b99e;\n",
              "            color:  #000000;\n",
              "        }    #T_056af6a8_b707_11ea_9497_0242ac1c0002row0_col2 {\n",
              "            background-color:  #a3c2fe;\n",
              "            color:  #000000;\n",
              "        }    #T_056af6a8_b707_11ea_9497_0242ac1c0002row0_col3 {\n",
              "            background-color:  #5e7de7;\n",
              "            color:  #000000;\n",
              "        }    #T_056af6a8_b707_11ea_9497_0242ac1c0002row0_col4 {\n",
              "            background-color:  #3b4cc0;\n",
              "            color:  #f1f1f1;\n",
              "        }    #T_056af6a8_b707_11ea_9497_0242ac1c0002row1_col0 {\n",
              "            background-color:  #f7b99e;\n",
              "            color:  #000000;\n",
              "        }    #T_056af6a8_b707_11ea_9497_0242ac1c0002row1_col1 {\n",
              "            background-color:  #b40426;\n",
              "            color:  #f1f1f1;\n",
              "        }    #T_056af6a8_b707_11ea_9497_0242ac1c0002row1_col2 {\n",
              "            background-color:  #d44e41;\n",
              "            color:  #000000;\n",
              "        }    #T_056af6a8_b707_11ea_9497_0242ac1c0002row1_col3 {\n",
              "            background-color:  #ee8669;\n",
              "            color:  #000000;\n",
              "        }    #T_056af6a8_b707_11ea_9497_0242ac1c0002row1_col4 {\n",
              "            background-color:  #f5a081;\n",
              "            color:  #000000;\n",
              "        }    #T_056af6a8_b707_11ea_9497_0242ac1c0002row2_col0 {\n",
              "            background-color:  #a3c2fe;\n",
              "            color:  #000000;\n",
              "        }    #T_056af6a8_b707_11ea_9497_0242ac1c0002row2_col1 {\n",
              "            background-color:  #d44e41;\n",
              "            color:  #000000;\n",
              "        }    #T_056af6a8_b707_11ea_9497_0242ac1c0002row2_col2 {\n",
              "            background-color:  #b40426;\n",
              "            color:  #f1f1f1;\n",
              "        }    #T_056af6a8_b707_11ea_9497_0242ac1c0002row2_col3 {\n",
              "            background-color:  #c53334;\n",
              "            color:  #f1f1f1;\n",
              "        }    #T_056af6a8_b707_11ea_9497_0242ac1c0002row2_col4 {\n",
              "            background-color:  #cc403a;\n",
              "            color:  #f1f1f1;\n",
              "        }    #T_056af6a8_b707_11ea_9497_0242ac1c0002row3_col0 {\n",
              "            background-color:  #5e7de7;\n",
              "            color:  #000000;\n",
              "        }    #T_056af6a8_b707_11ea_9497_0242ac1c0002row3_col1 {\n",
              "            background-color:  #ee8669;\n",
              "            color:  #000000;\n",
              "        }    #T_056af6a8_b707_11ea_9497_0242ac1c0002row3_col2 {\n",
              "            background-color:  #c53334;\n",
              "            color:  #f1f1f1;\n",
              "        }    #T_056af6a8_b707_11ea_9497_0242ac1c0002row3_col3 {\n",
              "            background-color:  #b40426;\n",
              "            color:  #f1f1f1;\n",
              "        }    #T_056af6a8_b707_11ea_9497_0242ac1c0002row3_col4 {\n",
              "            background-color:  #c32e31;\n",
              "            color:  #f1f1f1;\n",
              "        }    #T_056af6a8_b707_11ea_9497_0242ac1c0002row4_col0 {\n",
              "            background-color:  #3b4cc0;\n",
              "            color:  #f1f1f1;\n",
              "        }    #T_056af6a8_b707_11ea_9497_0242ac1c0002row4_col1 {\n",
              "            background-color:  #f5a081;\n",
              "            color:  #000000;\n",
              "        }    #T_056af6a8_b707_11ea_9497_0242ac1c0002row4_col2 {\n",
              "            background-color:  #cc403a;\n",
              "            color:  #f1f1f1;\n",
              "        }    #T_056af6a8_b707_11ea_9497_0242ac1c0002row4_col3 {\n",
              "            background-color:  #c32e31;\n",
              "            color:  #f1f1f1;\n",
              "        }    #T_056af6a8_b707_11ea_9497_0242ac1c0002row4_col4 {\n",
              "            background-color:  #b40426;\n",
              "            color:  #f1f1f1;\n",
              "        }</style><table id=\"T_056af6a8_b707_11ea_9497_0242ac1c0002\" ><thead>    <tr>        <th class=\"blank level0\" ></th>        <th class=\"col_heading level0 col0\" >u</th>        <th class=\"col_heading level0 col1\" >g</th>        <th class=\"col_heading level0 col2\" >r</th>        <th class=\"col_heading level0 col3\" >i</th>        <th class=\"col_heading level0 col4\" >z</th>    </tr></thead><tbody>\n",
              "                <tr>\n",
              "                        <th id=\"T_056af6a8_b707_11ea_9497_0242ac1c0002level0_row0\" class=\"row_heading level0 row0\" >u</th>\n",
              "                        <td id=\"T_056af6a8_b707_11ea_9497_0242ac1c0002row0_col0\" class=\"data row0 col0\" >1.000000</td>\n",
              "                        <td id=\"T_056af6a8_b707_11ea_9497_0242ac1c0002row0_col1\" class=\"data row0 col1\" >0.849232</td>\n",
              "                        <td id=\"T_056af6a8_b707_11ea_9497_0242ac1c0002row0_col2\" class=\"data row0 col2\" >0.692379</td>\n",
              "                        <td id=\"T_056af6a8_b707_11ea_9497_0242ac1c0002row0_col3\" class=\"data row0 col3\" >0.602630</td>\n",
              "                        <td id=\"T_056af6a8_b707_11ea_9497_0242ac1c0002row0_col4\" class=\"data row0 col4\" >0.551483</td>\n",
              "            </tr>\n",
              "            <tr>\n",
              "                        <th id=\"T_056af6a8_b707_11ea_9497_0242ac1c0002level0_row1\" class=\"row_heading level0 row1\" >g</th>\n",
              "                        <td id=\"T_056af6a8_b707_11ea_9497_0242ac1c0002row1_col0\" class=\"data row1 col0\" >0.849232</td>\n",
              "                        <td id=\"T_056af6a8_b707_11ea_9497_0242ac1c0002row1_col1\" class=\"data row1 col1\" >1.000000</td>\n",
              "                        <td id=\"T_056af6a8_b707_11ea_9497_0242ac1c0002row1_col2\" class=\"data row1 col2\" >0.958106</td>\n",
              "                        <td id=\"T_056af6a8_b707_11ea_9497_0242ac1c0002row1_col3\" class=\"data row1 col3\" >0.907419</td>\n",
              "                        <td id=\"T_056af6a8_b707_11ea_9497_0242ac1c0002row1_col4\" class=\"data row1 col4\" >0.879622</td>\n",
              "            </tr>\n",
              "            <tr>\n",
              "                        <th id=\"T_056af6a8_b707_11ea_9497_0242ac1c0002level0_row2\" class=\"row_heading level0 row2\" >r</th>\n",
              "                        <td id=\"T_056af6a8_b707_11ea_9497_0242ac1c0002row2_col0\" class=\"data row2 col0\" >0.692379</td>\n",
              "                        <td id=\"T_056af6a8_b707_11ea_9497_0242ac1c0002row2_col1\" class=\"data row2 col1\" >0.958106</td>\n",
              "                        <td id=\"T_056af6a8_b707_11ea_9497_0242ac1c0002row2_col2\" class=\"data row2 col2\" >1.000000</td>\n",
              "                        <td id=\"T_056af6a8_b707_11ea_9497_0242ac1c0002row2_col3\" class=\"data row2 col3\" >0.977672</td>\n",
              "                        <td id=\"T_056af6a8_b707_11ea_9497_0242ac1c0002row2_col4\" class=\"data row2 col4\" >0.969197</td>\n",
              "            </tr>\n",
              "            <tr>\n",
              "                        <th id=\"T_056af6a8_b707_11ea_9497_0242ac1c0002level0_row3\" class=\"row_heading level0 row3\" >i</th>\n",
              "                        <td id=\"T_056af6a8_b707_11ea_9497_0242ac1c0002row3_col0\" class=\"data row3 col0\" >0.602630</td>\n",
              "                        <td id=\"T_056af6a8_b707_11ea_9497_0242ac1c0002row3_col1\" class=\"data row3 col1\" >0.907419</td>\n",
              "                        <td id=\"T_056af6a8_b707_11ea_9497_0242ac1c0002row3_col2\" class=\"data row3 col2\" >0.977672</td>\n",
              "                        <td id=\"T_056af6a8_b707_11ea_9497_0242ac1c0002row3_col3\" class=\"data row3 col3\" >1.000000</td>\n",
              "                        <td id=\"T_056af6a8_b707_11ea_9497_0242ac1c0002row3_col4\" class=\"data row3 col4\" >0.981507</td>\n",
              "            </tr>\n",
              "            <tr>\n",
              "                        <th id=\"T_056af6a8_b707_11ea_9497_0242ac1c0002level0_row4\" class=\"row_heading level0 row4\" >z</th>\n",
              "                        <td id=\"T_056af6a8_b707_11ea_9497_0242ac1c0002row4_col0\" class=\"data row4 col0\" >0.551483</td>\n",
              "                        <td id=\"T_056af6a8_b707_11ea_9497_0242ac1c0002row4_col1\" class=\"data row4 col1\" >0.879622</td>\n",
              "                        <td id=\"T_056af6a8_b707_11ea_9497_0242ac1c0002row4_col2\" class=\"data row4 col2\" >0.969197</td>\n",
              "                        <td id=\"T_056af6a8_b707_11ea_9497_0242ac1c0002row4_col3\" class=\"data row4 col3\" >0.981507</td>\n",
              "                        <td id=\"T_056af6a8_b707_11ea_9497_0242ac1c0002row4_col4\" class=\"data row4 col4\" >1.000000</td>\n",
              "            </tr>\n",
              "    </tbody></table>"
            ],
            "text/plain": [
              "<pandas.io.formats.style.Styler at 0x7f09684d5b38>"
            ]
          },
          "metadata": {
            "tags": []
          },
          "execution_count": 22
        }
      ]
    },
    {
      "cell_type": "code",
      "metadata": {
        "id": "VUTRQbdTdLkA",
        "colab_type": "code",
        "colab": {}
      },
      "source": [
        "import numpy as np\n",
        "from tensorflow.keras.models import Sequential\n",
        "from tensorflow.keras.layers import Dense, Activation, Dropout\n",
        "from tensorflow.keras.utils import to_categorical, plot_model\n",
        "from sklearn.preprocessing import StandardScaler"
      ],
      "execution_count": null,
      "outputs": []
    },
    {
      "cell_type": "code",
      "metadata": {
        "id": "RXQqvGj6dN0O",
        "colab_type": "code",
        "colab": {}
      },
      "source": [
        "y = to_categorical(Y)\n",
        "X_std = StandardScaler().fit_transform(X)"
      ],
      "execution_count": null,
      "outputs": []
    },
    {
      "cell_type": "code",
      "metadata": {
        "id": "WHDv4ALCdPpm",
        "colab_type": "code",
        "colab": {}
      },
      "source": [
        "X_trainT , X_test ,Y_trainT, Y_test = train_test_split(X_std , y , test_size=0.2)\n",
        "X_train , X_test10 ,Y_train, Y_test10 = train_test_split(X_trainT , Y_trainT , test_size=0.125)"
      ],
      "execution_count": null,
      "outputs": []
    },
    {
      "cell_type": "code",
      "metadata": {
        "id": "_2zFGSNBdSJy",
        "colab_type": "code",
        "colab": {}
      },
      "source": [
        "input_size = 5\n",
        "num_labels = 3\n",
        "batch_size = 128\n",
        "dropout = 0.45"
      ],
      "execution_count": null,
      "outputs": []
    },
    {
      "cell_type": "code",
      "metadata": {
        "id": "F018r8qKdUAb",
        "colab_type": "code",
        "colab": {
          "base_uri": "https://localhost:8080/",
          "height": 434
        },
        "outputId": "0b1033fc-2a0c-420a-ac7e-4f138b753739"
      },
      "source": [
        "from tensorflow.keras.regularizers import l2\n",
        "\n",
        "model = Sequential()\n",
        "\n",
        "model.add(Dense(5, input_dim=input_size))\n",
        "model.add(Activation('relu'))\n",
        "model.add(Dropout(dropout))\n",
        "\n",
        "model.add(Dense(256))\n",
        "model.add(Activation('relu'))\n",
        "model.add(Dropout(dropout))\n",
        "\n",
        "model.add(Dense(num_labels))\n",
        "model.add(Activation('softmax'))\n",
        "\n",
        "model.summary()"
      ],
      "execution_count": null,
      "outputs": [
        {
          "output_type": "stream",
          "text": [
            "Model: \"sequential_2\"\n",
            "_________________________________________________________________\n",
            "Layer (type)                 Output Shape              Param #   \n",
            "=================================================================\n",
            "dense_6 (Dense)              (None, 5)                 30        \n",
            "_________________________________________________________________\n",
            "activation_6 (Activation)    (None, 5)                 0         \n",
            "_________________________________________________________________\n",
            "dropout_4 (Dropout)          (None, 5)                 0         \n",
            "_________________________________________________________________\n",
            "dense_7 (Dense)              (None, 256)               1536      \n",
            "_________________________________________________________________\n",
            "activation_7 (Activation)    (None, 256)               0         \n",
            "_________________________________________________________________\n",
            "dropout_5 (Dropout)          (None, 256)               0         \n",
            "_________________________________________________________________\n",
            "dense_8 (Dense)              (None, 3)                 771       \n",
            "_________________________________________________________________\n",
            "activation_8 (Activation)    (None, 3)                 0         \n",
            "=================================================================\n",
            "Total params: 2,337\n",
            "Trainable params: 2,337\n",
            "Non-trainable params: 0\n",
            "_________________________________________________________________\n"
          ],
          "name": "stdout"
        }
      ]
    },
    {
      "cell_type": "code",
      "metadata": {
        "id": "e83Si4hGdYyI",
        "colab_type": "code",
        "colab": {
          "base_uri": "https://localhost:8080/",
          "height": 976
        },
        "outputId": "0ce9f404-1cd6-492e-96d6-5eb5b59f3d9c"
      },
      "source": [
        "plot_model(model, show_shapes=True)"
      ],
      "execution_count": null,
      "outputs": [
        {
          "output_type": "execute_result",
          "data": {
            "image/png": "[encoded data removed]",
            "text/plain": [
              "<IPython.core.display.Image object>"
            ]
          },
          "metadata": {
            "tags": []
          },
          "execution_count": 32
        }
      ]
    },
    {
      "cell_type": "code",
      "metadata": {
        "id": "OjaVcRAadbJg",
        "colab_type": "code",
        "colab": {}
      },
      "source": [
        "model.compile(optimizer='adam', \n",
        "              loss='categorical_crossentropy',\n",
        "              metrics=['accuracy'])"
      ],
      "execution_count": null,
      "outputs": []
    },
    {
      "cell_type": "code",
      "metadata": {
        "id": "DxOxwAJqddmo",
        "colab_type": "code",
        "colab": {}
      },
      "source": [
        "from __future__ import absolute_import, division, print_function, unicode_literals\n",
        "import tensorflow as tf\n",
        "from tensorflow.keras import backend as K\n",
        "\n",
        "class myCallback(tf.keras.callbacks.Callback):\n",
        "    def on_epoch_end(self, epoch, logs={}):\n",
        "        if(logs.get('accuracy')>0.99):\n",
        "            print(\"\\nReached 0.99 accuracy so cancelling training!\")\n",
        "            self.model.stop_training = True\n",
        "\n",
        "# crea una instancia de clase\n",
        "accu_callback = myCallback()"
      ],
      "execution_count": null,
      "outputs": []
    },
    {
      "cell_type": "code",
      "metadata": {
        "id": "5qW3sI54dfeN",
        "colab_type": "code",
        "colab": {}
      },
      "source": [
        "# Directory where the checkpoints will be saved\n",
        "import os \n",
        "checkpoint_dir = './training_checkpoints_mnist_mlp'\n",
        "# Name of the checkpoint files\n",
        "checkpoint_prefix = os.path.join(checkpoint_dir, \"mnist_mlp_ckpt_{epoch}\")\n",
        "\n",
        "checkpoint_callback=tf.keras.callbacks.ModelCheckpoint(\n",
        "    filepath=checkpoint_prefix,\n",
        "    save_weights_only=True, \n",
        "    monitor='val_accuracy', mode='max',\n",
        "    save_best_only=True)"
      ],
      "execution_count": null,
      "outputs": []
    },
    {
      "cell_type": "code",
      "metadata": {
        "id": "gR_6cOuUdhOL",
        "colab_type": "code",
        "colab": {
          "base_uri": "https://localhost:8080/",
          "height": 1000
        },
        "outputId": "a7b50f22-0aa2-4eb5-95ec-fc173956ef38"
      },
      "source": [
        "epochs = 50\n",
        "validation_size =0.2\n",
        "\n",
        "history = model.fit(X_train, Y_train, \n",
        "                    epochs=epochs, \n",
        "                    batch_size=batch_size, \n",
        "                    validation_split=validation_size,\n",
        "                    callbacks=[accu_callback,checkpoint_callback],\n",
        "                    verbose=2)"
      ],
      "execution_count": null,
      "outputs": [
        {
          "output_type": "stream",
          "text": [
            "Epoch 1/50\n",
            "44/44 - 0s - loss: 0.9785 - accuracy: 0.5954 - val_loss: 0.8392 - val_accuracy: 0.7550\n",
            "Epoch 2/50\n",
            "44/44 - 0s - loss: 0.8210 - accuracy: 0.6827 - val_loss: 0.6851 - val_accuracy: 0.7450\n",
            "Epoch 3/50\n",
            "44/44 - 0s - loss: 0.7363 - accuracy: 0.7163 - val_loss: 0.5755 - val_accuracy: 0.8150\n",
            "Epoch 4/50\n",
            "44/44 - 0s - loss: 0.6806 - accuracy: 0.7407 - val_loss: 0.5235 - val_accuracy: 0.8357\n",
            "Epoch 5/50\n",
            "44/44 - 0s - loss: 0.6334 - accuracy: 0.7582 - val_loss: 0.4846 - val_accuracy: 0.8571\n",
            "Epoch 6/50\n",
            "44/44 - 0s - loss: 0.6239 - accuracy: 0.7598 - val_loss: 0.4688 - val_accuracy: 0.8657\n",
            "Epoch 7/50\n",
            "44/44 - 0s - loss: 0.6268 - accuracy: 0.7661 - val_loss: 0.4608 - val_accuracy: 0.8671\n",
            "Epoch 8/50\n",
            "44/44 - 0s - loss: 0.5965 - accuracy: 0.7746 - val_loss: 0.4515 - val_accuracy: 0.8600\n",
            "Epoch 9/50\n",
            "44/44 - 0s - loss: 0.5901 - accuracy: 0.7809 - val_loss: 0.4293 - val_accuracy: 0.8857\n",
            "Epoch 10/50\n",
            "44/44 - 0s - loss: 0.5938 - accuracy: 0.7789 - val_loss: 0.4252 - val_accuracy: 0.8807\n",
            "Epoch 11/50\n",
            "44/44 - 0s - loss: 0.5819 - accuracy: 0.7823 - val_loss: 0.4211 - val_accuracy: 0.8857\n",
            "Epoch 12/50\n",
            "44/44 - 0s - loss: 0.5662 - accuracy: 0.7914 - val_loss: 0.4078 - val_accuracy: 0.8929\n",
            "Epoch 13/50\n",
            "44/44 - 0s - loss: 0.5812 - accuracy: 0.7807 - val_loss: 0.4155 - val_accuracy: 0.8886\n",
            "Epoch 14/50\n",
            "44/44 - 0s - loss: 0.5851 - accuracy: 0.7877 - val_loss: 0.4113 - val_accuracy: 0.8914\n",
            "Epoch 15/50\n",
            "44/44 - 0s - loss: 0.5807 - accuracy: 0.7812 - val_loss: 0.4061 - val_accuracy: 0.9036\n",
            "Epoch 16/50\n",
            "44/44 - 0s - loss: 0.5624 - accuracy: 0.7916 - val_loss: 0.4040 - val_accuracy: 0.8893\n",
            "Epoch 17/50\n",
            "44/44 - 0s - loss: 0.5802 - accuracy: 0.7852 - val_loss: 0.4080 - val_accuracy: 0.8879\n",
            "Epoch 18/50\n",
            "44/44 - 0s - loss: 0.5806 - accuracy: 0.7845 - val_loss: 0.4024 - val_accuracy: 0.8879\n",
            "Epoch 19/50\n",
            "44/44 - 0s - loss: 0.5639 - accuracy: 0.7887 - val_loss: 0.3963 - val_accuracy: 0.8879\n",
            "Epoch 20/50\n",
            "44/44 - 0s - loss: 0.5552 - accuracy: 0.8048 - val_loss: 0.3916 - val_accuracy: 0.8857\n",
            "Epoch 21/50\n",
            "44/44 - 0s - loss: 0.5708 - accuracy: 0.7957 - val_loss: 0.3957 - val_accuracy: 0.8921\n",
            "Epoch 22/50\n",
            "44/44 - 0s - loss: 0.5587 - accuracy: 0.7898 - val_loss: 0.3907 - val_accuracy: 0.8950\n",
            "Epoch 23/50\n",
            "44/44 - 0s - loss: 0.5453 - accuracy: 0.7943 - val_loss: 0.3895 - val_accuracy: 0.8864\n",
            "Epoch 24/50\n",
            "44/44 - 0s - loss: 0.5435 - accuracy: 0.8036 - val_loss: 0.3760 - val_accuracy: 0.8964\n",
            "Epoch 25/50\n",
            "44/44 - 0s - loss: 0.5514 - accuracy: 0.7968 - val_loss: 0.3821 - val_accuracy: 0.8900\n",
            "Epoch 26/50\n",
            "44/44 - 0s - loss: 0.5477 - accuracy: 0.7986 - val_loss: 0.3886 - val_accuracy: 0.8914\n",
            "Epoch 27/50\n",
            "44/44 - 0s - loss: 0.5576 - accuracy: 0.7954 - val_loss: 0.3773 - val_accuracy: 0.8843\n",
            "Epoch 28/50\n",
            "44/44 - 0s - loss: 0.5568 - accuracy: 0.7950 - val_loss: 0.3840 - val_accuracy: 0.8964\n",
            "Epoch 29/50\n",
            "44/44 - 0s - loss: 0.5419 - accuracy: 0.8030 - val_loss: 0.3850 - val_accuracy: 0.8943\n",
            "Epoch 30/50\n",
            "44/44 - 0s - loss: 0.5408 - accuracy: 0.8037 - val_loss: 0.3840 - val_accuracy: 0.8957\n",
            "Epoch 31/50\n",
            "44/44 - 0s - loss: 0.5409 - accuracy: 0.8089 - val_loss: 0.3722 - val_accuracy: 0.9043\n",
            "Epoch 32/50\n",
            "44/44 - 0s - loss: 0.5487 - accuracy: 0.8021 - val_loss: 0.3705 - val_accuracy: 0.9007\n",
            "Epoch 33/50\n",
            "44/44 - 0s - loss: 0.5475 - accuracy: 0.7979 - val_loss: 0.3761 - val_accuracy: 0.8900\n",
            "Epoch 34/50\n",
            "44/44 - 0s - loss: 0.5419 - accuracy: 0.8059 - val_loss: 0.3749 - val_accuracy: 0.8829\n",
            "Epoch 35/50\n",
            "44/44 - 0s - loss: 0.5287 - accuracy: 0.8116 - val_loss: 0.3666 - val_accuracy: 0.8993\n",
            "Epoch 36/50\n",
            "44/44 - 0s - loss: 0.5218 - accuracy: 0.8146 - val_loss: 0.3613 - val_accuracy: 0.9014\n",
            "Epoch 37/50\n",
            "44/44 - 0s - loss: 0.5595 - accuracy: 0.7936 - val_loss: 0.3691 - val_accuracy: 0.9021\n",
            "Epoch 38/50\n",
            "44/44 - 0s - loss: 0.5266 - accuracy: 0.8082 - val_loss: 0.3614 - val_accuracy: 0.8979\n",
            "Epoch 39/50\n",
            "44/44 - 0s - loss: 0.5246 - accuracy: 0.8127 - val_loss: 0.3632 - val_accuracy: 0.8964\n",
            "Epoch 40/50\n",
            "44/44 - 0s - loss: 0.5194 - accuracy: 0.8132 - val_loss: 0.3605 - val_accuracy: 0.8950\n",
            "Epoch 41/50\n",
            "44/44 - 0s - loss: 0.5299 - accuracy: 0.8159 - val_loss: 0.3556 - val_accuracy: 0.8993\n",
            "Epoch 42/50\n",
            "44/44 - 0s - loss: 0.5180 - accuracy: 0.8166 - val_loss: 0.3587 - val_accuracy: 0.8971\n",
            "Epoch 43/50\n",
            "44/44 - 0s - loss: 0.5200 - accuracy: 0.8175 - val_loss: 0.3514 - val_accuracy: 0.9129\n",
            "Epoch 44/50\n",
            "44/44 - 0s - loss: 0.5040 - accuracy: 0.8195 - val_loss: 0.3384 - val_accuracy: 0.9150\n",
            "Epoch 45/50\n",
            "44/44 - 0s - loss: 0.5100 - accuracy: 0.8163 - val_loss: 0.3405 - val_accuracy: 0.9100\n",
            "Epoch 46/50\n",
            "44/44 - 0s - loss: 0.4922 - accuracy: 0.8250 - val_loss: 0.3282 - val_accuracy: 0.9229\n",
            "Epoch 47/50\n",
            "44/44 - 0s - loss: 0.4933 - accuracy: 0.8298 - val_loss: 0.3381 - val_accuracy: 0.9193\n",
            "Epoch 48/50\n",
            "44/44 - 0s - loss: 0.4862 - accuracy: 0.8320 - val_loss: 0.3275 - val_accuracy: 0.9207\n",
            "Epoch 49/50\n",
            "44/44 - 0s - loss: 0.4980 - accuracy: 0.8330 - val_loss: 0.3293 - val_accuracy: 0.9100\n",
            "Epoch 50/50\n",
            "44/44 - 0s - loss: 0.4879 - accuracy: 0.8391 - val_loss: 0.3242 - val_accuracy: 0.9214\n"
          ],
          "name": "stdout"
        }
      ]
    },
    {
      "cell_type": "code",
      "metadata": {
        "id": "Nt4x11MqdjTs",
        "colab_type": "code",
        "colab": {
          "base_uri": "https://localhost:8080/",
          "height": 410
        },
        "outputId": "be22834f-3ec3-4989-8aae-cf434ec817da"
      },
      "source": [
        "import matplotlib.pyplot as plt\n",
        "acc = history.history['accuracy']\n",
        "val_acc = history.history['val_accuracy']\n",
        "loss = history.history['loss']\n",
        "val_loss = history.history['val_loss']\n",
        "\n",
        "epochs = range(len(acc))\n",
        "\n",
        "n_row = 1\n",
        "n_col = 2\n",
        "fig, ax = plt.subplots(n_row, n_col, sharex = False, sharey = False, figsize=(12,6))\n",
        "\n",
        "\n",
        "ax[0].plot(epochs, acc, 'r', label='Training accuracy', color = 'green')\n",
        "ax[0].plot(epochs, val_acc, 'b', label='Validation accuracy')\n",
        "ax[0].legend(fontsize=12,loc=0)\n",
        "ax[0].set_title('Training and Validation Accuracy',fontsize=16)\n",
        "ax[0].set_ylabel('measure',fontsize=14)\n",
        "ax[0].set_xlabel('epoch', fontsize = 14)\n",
        "ax[0].set_xlim([1, len(acc)])\n",
        "\n",
        "ax[1].plot(epochs, loss, 'r', label='Training Loss', color = 'green')\n",
        "ax[1].plot(epochs, val_loss, 'b', label='Validation Loss')\n",
        "ax[1].legend(fontsize=12)\n",
        "ax[1].set_title('Training and Validation Loss',fontsize=16)\n",
        "ax[1].set_ylabel('measure',fontsize=14)\n",
        "ax[1].set_xlabel('epoch', fontsize = 14)\n",
        "ax[1].set_xlim([1, len(acc)])\n",
        "\n",
        "\n",
        "plt.show()"
      ],
      "execution_count": null,
      "outputs": [
        {
          "output_type": "display_data",
          "data": {
            "image/png": "[encoded data removed]",
            "text/plain": [
              "<Figure size 864x432 with 2 Axes>"
            ]
          },
          "metadata": {
            "tags": [],
            "needs_background": "light"
          }
        }
      ]
    },
    {
      "cell_type": "code",
      "metadata": {
        "id": "RJn2baDDdnt2",
        "colab_type": "code",
        "colab": {
          "base_uri": "https://localhost:8080/",
          "height": 86
        },
        "outputId": "931242f2-2460-4a69-b62b-035ad5104c66"
      },
      "source": [
        "#validate the model on test dataset to determine generalization\n",
        "loss, acc = model.evaluate(X_test, \n",
        "                        Y_test,\n",
        "                        batch_size=batch_size,\n",
        "                        verbose=0)\n",
        "print(\"\\nTest accuracy: %.1f%%\" % (100.0 * acc))\n",
        "print(\"\\nTest loss: %.1f%%\" % (loss))"
      ],
      "execution_count": null,
      "outputs": [
        {
          "output_type": "stream",
          "text": [
            "\n",
            "Test accuracy: 90.7%\n",
            "\n",
            "Test loss: 0.4%\n"
          ],
          "name": "stdout"
        }
      ]
    },
    {
      "cell_type": "code",
      "metadata": {
        "id": "BM44A0Kcdq57",
        "colab_type": "code",
        "colab": {
          "base_uri": "https://localhost:8080/",
          "height": 86
        },
        "outputId": "b7afb26b-52e3-43b6-e46a-55b527e26377"
      },
      "source": [
        "#validate the model on test dataset to determine generalization\n",
        "loss, acc = model.evaluate(X_test10, \n",
        "                        Y_test10,\n",
        "                        batch_size=batch_size,\n",
        "                        verbose=0)\n",
        "print(\"\\nTest accuracy: %.1f%%\" % (100.0 * acc))\n",
        "print(\"\\nTest loss: %.1f%%\" % (loss))"
      ],
      "execution_count": null,
      "outputs": [
        {
          "output_type": "stream",
          "text": [
            "\n",
            "Test accuracy: 90.8%\n",
            "\n",
            "Test loss: 0.3%\n"
          ],
          "name": "stdout"
        }
      ]
    },
    {
      "cell_type": "code",
      "metadata": {
        "id": "1ZOn3uuTdtLW",
        "colab_type": "code",
        "colab": {}
      },
      "source": [
        ""
      ],
      "execution_count": null,
      "outputs": []
    }
  ]
}