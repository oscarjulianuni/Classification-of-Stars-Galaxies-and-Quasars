{
  "nbformat": 4,
  "nbformat_minor": 0,
  "metadata": {
    "colab": {
      "name": "TRABAJO_MINERIA_JOSE&OSCAR.ipynb",
      "provenance": [],
      "collapsed_sections": []
    },
    "kernelspec": {
      "name": "python3",
      "display_name": "Python 3"
    }
  },
  "cells": [
    {
      "cell_type": "markdown",
      "metadata": {
        "id": "o0x5Ip90ILrL",
        "colab_type": "text"
      },
      "source": [
        "\n",
        "<h2 align=\"center\">Implementación de modelos ANN para clasificación de objetos astrofísicos identificados por el SDSS</h2>\n",
        "<h2 align=\"center\">( Galaxias, Estrellas y Quasars)</h2>\n",
        "\n"
      ]
    },
    {
      "cell_type": "code",
      "metadata": {
        "id": "bMvnUQYe8Tx-",
        "colab_type": "code",
        "colab": {
          "base_uri": "https://localhost:8080/",
          "height": 71
        },
        "outputId": "93cf561c-d96d-4c6a-e8b1-5df21edeb767"
      },
      "source": [
        "import numpy as np\n",
        "import pandas as pd\n",
        "import seaborn as sns\n",
        "import matplotlib.pyplot as plt\n",
        "from sklearn.model_selection import train_test_split\n",
        "%matplotlib inline"
      ],
      "execution_count": 1,
      "outputs": [
        {
          "output_type": "stream",
          "text": [
            "/usr/local/lib/python3.6/dist-packages/statsmodels/tools/_testing.py:19: FutureWarning: pandas.util.testing is deprecated. Use the functions in the public API at pandas.testing instead.\n",
            "  import pandas.util.testing as tm\n"
          ],
          "name": "stderr"
        }
      ]
    },
    {
      "cell_type": "markdown",
      "metadata": {
        "id": "1A9E6hjTIBwl",
        "colab_type": "text"
      },
      "source": [
        "Este conjunto de datos está formado por 10.000 registros de observaciones asociadas a objetos astrofisicos. Cada observación se describe mediante 17 columnas de características y 1 columna de etiqueta que identifica la observación como una estrella, una galaxia o un Quásar, a continuación se muestra la base de datos."
      ]
    },
    {
      "cell_type": "markdown",
      "metadata": {
        "id": "opyoUu9m-IeL",
        "colab_type": "text"
      },
      "source": [
        "\n",
        "---\n",
        "\n",
        "## Cargando la base de datos\n",
        "\n",
        "---"
      ]
    },
    {
      "cell_type": "code",
      "metadata": {
        "id": "i_EwLVa98pi4",
        "colab_type": "code",
        "colab": {
          "base_uri": "https://localhost:8080/",
          "height": 224
        },
        "outputId": "49bbd4d3-6e63-446a-91c5-45097929341c"
      },
      "source": [
        "import pandas as pd\n",
        "url = 'https://raw.githubusercontent.com/joaramirezcu/Mineria_Proyecto/master/Skyserver_SQL2_27_2018%206_51_39%20PM.csv'\n",
        "data_f1 = pd.read_csv(url, error_bad_lines=False)\n",
        "data_f1=data_f1.drop(['rerun'], axis=1)\n",
        "data_f1.head()"
      ],
      "execution_count": 2,
      "outputs": [
        {
          "output_type": "execute_result",
          "data": {
            "text/html": [
              "<div>\n",
              "<style scoped>\n",
              "    .dataframe tbody tr th:only-of-type {\n",
              "        vertical-align: middle;\n",
              "    }\n",
              "\n",
              "    .dataframe tbody tr th {\n",
              "        vertical-align: top;\n",
              "    }\n",
              "\n",
              "    .dataframe thead th {\n",
              "        text-align: right;\n",
              "    }\n",
              "</style>\n",
              "<table border=\"1\" class=\"dataframe\">\n",
              "  <thead>\n",
              "    <tr style=\"text-align: right;\">\n",
              "      <th></th>\n",
              "      <th>objid</th>\n",
              "      <th>ra</th>\n",
              "      <th>dec</th>\n",
              "      <th>u</th>\n",
              "      <th>g</th>\n",
              "      <th>r</th>\n",
              "      <th>i</th>\n",
              "      <th>z</th>\n",
              "      <th>run</th>\n",
              "      <th>camcol</th>\n",
              "      <th>field</th>\n",
              "      <th>specobjid</th>\n",
              "      <th>class</th>\n",
              "      <th>redshift</th>\n",
              "      <th>plate</th>\n",
              "      <th>mjd</th>\n",
              "      <th>fiberid</th>\n",
              "    </tr>\n",
              "  </thead>\n",
              "  <tbody>\n",
              "    <tr>\n",
              "      <th>0</th>\n",
              "      <td>1.237650e+18</td>\n",
              "      <td>183.531326</td>\n",
              "      <td>0.089693</td>\n",
              "      <td>19.47406</td>\n",
              "      <td>17.04240</td>\n",
              "      <td>15.94699</td>\n",
              "      <td>15.50342</td>\n",
              "      <td>15.22531</td>\n",
              "      <td>752</td>\n",
              "      <td>4</td>\n",
              "      <td>267</td>\n",
              "      <td>3.722360e+18</td>\n",
              "      <td>STAR</td>\n",
              "      <td>-0.000009</td>\n",
              "      <td>3306</td>\n",
              "      <td>54922</td>\n",
              "      <td>491</td>\n",
              "    </tr>\n",
              "    <tr>\n",
              "      <th>1</th>\n",
              "      <td>1.237650e+18</td>\n",
              "      <td>183.598371</td>\n",
              "      <td>0.135285</td>\n",
              "      <td>18.66280</td>\n",
              "      <td>17.21449</td>\n",
              "      <td>16.67637</td>\n",
              "      <td>16.48922</td>\n",
              "      <td>16.39150</td>\n",
              "      <td>752</td>\n",
              "      <td>4</td>\n",
              "      <td>267</td>\n",
              "      <td>3.638140e+17</td>\n",
              "      <td>STAR</td>\n",
              "      <td>-0.000055</td>\n",
              "      <td>323</td>\n",
              "      <td>51615</td>\n",
              "      <td>541</td>\n",
              "    </tr>\n",
              "    <tr>\n",
              "      <th>2</th>\n",
              "      <td>1.237650e+18</td>\n",
              "      <td>183.680207</td>\n",
              "      <td>0.126185</td>\n",
              "      <td>19.38298</td>\n",
              "      <td>18.19169</td>\n",
              "      <td>17.47428</td>\n",
              "      <td>17.08732</td>\n",
              "      <td>16.80125</td>\n",
              "      <td>752</td>\n",
              "      <td>4</td>\n",
              "      <td>268</td>\n",
              "      <td>3.232740e+17</td>\n",
              "      <td>GALAXY</td>\n",
              "      <td>0.123111</td>\n",
              "      <td>287</td>\n",
              "      <td>52023</td>\n",
              "      <td>513</td>\n",
              "    </tr>\n",
              "    <tr>\n",
              "      <th>3</th>\n",
              "      <td>1.237650e+18</td>\n",
              "      <td>183.870529</td>\n",
              "      <td>0.049911</td>\n",
              "      <td>17.76536</td>\n",
              "      <td>16.60272</td>\n",
              "      <td>16.16116</td>\n",
              "      <td>15.98233</td>\n",
              "      <td>15.90438</td>\n",
              "      <td>752</td>\n",
              "      <td>4</td>\n",
              "      <td>269</td>\n",
              "      <td>3.722370e+18</td>\n",
              "      <td>STAR</td>\n",
              "      <td>-0.000111</td>\n",
              "      <td>3306</td>\n",
              "      <td>54922</td>\n",
              "      <td>510</td>\n",
              "    </tr>\n",
              "    <tr>\n",
              "      <th>4</th>\n",
              "      <td>1.237650e+18</td>\n",
              "      <td>183.883288</td>\n",
              "      <td>0.102557</td>\n",
              "      <td>17.55025</td>\n",
              "      <td>16.26342</td>\n",
              "      <td>16.43869</td>\n",
              "      <td>16.55492</td>\n",
              "      <td>16.61326</td>\n",
              "      <td>752</td>\n",
              "      <td>4</td>\n",
              "      <td>269</td>\n",
              "      <td>3.722370e+18</td>\n",
              "      <td>STAR</td>\n",
              "      <td>0.000590</td>\n",
              "      <td>3306</td>\n",
              "      <td>54922</td>\n",
              "      <td>512</td>\n",
              "    </tr>\n",
              "  </tbody>\n",
              "</table>\n",
              "</div>"
            ],
            "text/plain": [
              "          objid          ra       dec  ...  plate    mjd  fiberid\n",
              "0  1.237650e+18  183.531326  0.089693  ...   3306  54922      491\n",
              "1  1.237650e+18  183.598371  0.135285  ...    323  51615      541\n",
              "2  1.237650e+18  183.680207  0.126185  ...    287  52023      513\n",
              "3  1.237650e+18  183.870529  0.049911  ...   3306  54922      510\n",
              "4  1.237650e+18  183.883288  0.102557  ...   3306  54922      512\n",
              "\n",
              "[5 rows x 17 columns]"
            ]
          },
          "metadata": {
            "tags": []
          },
          "execution_count": 2
        }
      ]
    },
    {
      "cell_type": "code",
      "metadata": {
        "id": "UqQiK-MEIkRM",
        "colab_type": "code",
        "colab": {
          "base_uri": "https://localhost:8080/",
          "height": 34
        },
        "outputId": "e9371550-b7da-4078-89f9-4eeeb608b677"
      },
      "source": [
        "dim=display(data_f1.shape)"
      ],
      "execution_count": 3,
      "outputs": [
        {
          "output_type": "display_data",
          "data": {
            "text/plain": [
              "(10000, 17)"
            ]
          },
          "metadata": {
            "tags": []
          }
        }
      ]
    },
    {
      "cell_type": "markdown",
      "metadata": {
        "id": "qWZzZR0P-OOB",
        "colab_type": "text"
      },
      "source": [
        "Se seleccionan las variables asociadas a la respuesta espectral las cuales hacen referencia a 7 variables fotométricas:\n",
        "\n",
        "* **ra** : Ascensión recta (banda r)\n",
        "* **dec**: declinación J2000 (banda r)\n",
        "* **u**: Ajuste de magnitud 1\n",
        "* **g**: Ajuste de magnitud 2\n",
        "* **r**: Ajuste de magnitud 3\n",
        "* **i**: Ajuste de magnitud 4\n",
        "* **z**: Ajuste de magnitud 5\n",
        "\n",
        "Además se considera una variable espectral la cual hace referencia a:\n",
        "\n",
        "* **redshif**: desplazamiento al rojo\n",
        "\n",
        "No obstante la variable **class** la cual es categórica y tiene la etiqueta de las observaciones realizadas por el telescopio SDS.\n",
        "\n",
        "* **class**: tiene niveles: **STAR**, **GALAXY**, **QSO**"
      ]
    },
    {
      "cell_type": "code",
      "metadata": {
        "id": "eIJLnad_8vDp",
        "colab_type": "code",
        "colab": {
          "base_uri": "https://localhost:8080/",
          "height": 153
        },
        "outputId": "1fdabe00-e8dd-4d1a-94c9-e22690147fff"
      },
      "source": [
        "X = data_f1.iloc[:, [1,2,3,4,5,6,7,13]]\n",
        "Y = data_f1.iloc[:, [12]]\n",
        "Y = Y.replace({\"GALAXY\":0, \"STAR\":1,\"QSO\":2})\n",
        "print(X.head())\n"
      ],
      "execution_count": 4,
      "outputs": [
        {
          "output_type": "stream",
          "text": [
            "           ra       dec         u  ...         i         z  redshift\n",
            "0  183.531326  0.089693  19.47406  ...  15.50342  15.22531 -0.000009\n",
            "1  183.598371  0.135285  18.66280  ...  16.48922  16.39150 -0.000055\n",
            "2  183.680207  0.126185  19.38298  ...  17.08732  16.80125  0.123111\n",
            "3  183.870529  0.049911  17.76536  ...  15.98233  15.90438 -0.000111\n",
            "4  183.883288  0.102557  17.55025  ...  16.55492  16.61326  0.000590\n",
            "\n",
            "[5 rows x 8 columns]\n"
          ],
          "name": "stdout"
        }
      ]
    },
    {
      "cell_type": "code",
      "metadata": {
        "id": "v46WlkmgJ4uV",
        "colab_type": "code",
        "colab": {
          "base_uri": "https://localhost:8080/",
          "height": 437
        },
        "outputId": "bd463e8b-b0d2-4fc0-dc7e-c9a4e0709d31"
      },
      "source": [
        "sns.catplot(x=\"class\", kind=\"count\", palette=\"ch:.25\", data=data_f1);\n",
        "print(Y[\"class\"].value_counts())"
      ],
      "execution_count": 5,
      "outputs": [
        {
          "output_type": "stream",
          "text": [
            "0    4998\n",
            "1    4152\n",
            "2     850\n",
            "Name: class, dtype: int64\n"
          ],
          "name": "stdout"
        },
        {
          "output_type": "display_data",
          "data": {
            "image/png": "[encoded data removed]",
            "text/plain": [
              "<Figure size 360x360 with 1 Axes>"
            ]
          },
          "metadata": {
            "tags": [],
            "needs_background": "light"
          }
        }
      ]
    },
    {
      "cell_type": "markdown",
      "metadata": {
        "id": "gtpYyVZJMLke",
        "colab_type": "text"
      },
      "source": [
        "Según la gráfica anterior, se puede identificar que de 10.000 observaciones realizadas por el telescopio del SDSS, 4.998 son Galaxias, 4.152 son estrellas y 850 son quasar."
      ]
    },
    {
      "cell_type": "code",
      "metadata": {
        "id": "LpGst6NYNRkB",
        "colab_type": "code",
        "colab": {
          "base_uri": "https://localhost:8080/",
          "height": 208
        },
        "outputId": "b7ff2a1d-c728-48d8-c147-5615bf4fc1f5"
      },
      "source": [
        "correlation_dat = X.corr()\n",
        "correlation_dat.style.background_gradient(cmap='coolwarm', axis=None)"
      ],
      "execution_count": 6,
      "outputs": [
        {
          "output_type": "execute_result",
          "data": {
            "text/html": [
              "<style  type=\"text/css\" >\n",
              "    #T_2ac2d390_b715_11ea_b348_0242ac1c0002row0_col0 {\n",
              "            background-color:  #b40426;\n",
              "            color:  #f1f1f1;\n",
              "        }    #T_2ac2d390_b715_11ea_b348_0242ac1c0002row0_col1 {\n",
              "            background-color:  #3b4cc0;\n",
              "            color:  #f1f1f1;\n",
              "        }    #T_2ac2d390_b715_11ea_b348_0242ac1c0002row0_col2 {\n",
              "            background-color:  #4358cb;\n",
              "            color:  #f1f1f1;\n",
              "        }    #T_2ac2d390_b715_11ea_b348_0242ac1c0002row0_col3 {\n",
              "            background-color:  #465ecf;\n",
              "            color:  #f1f1f1;\n",
              "        }    #T_2ac2d390_b715_11ea_b348_0242ac1c0002row0_col4 {\n",
              "            background-color:  #485fd1;\n",
              "            color:  #f1f1f1;\n",
              "        }    #T_2ac2d390_b715_11ea_b348_0242ac1c0002row0_col5 {\n",
              "            background-color:  #465ecf;\n",
              "            color:  #f1f1f1;\n",
              "        }    #T_2ac2d390_b715_11ea_b348_0242ac1c0002row0_col6 {\n",
              "            background-color:  #465ecf;\n",
              "            color:  #f1f1f1;\n",
              "        }    #T_2ac2d390_b715_11ea_b348_0242ac1c0002row0_col7 {\n",
              "            background-color:  #4257c9;\n",
              "            color:  #f1f1f1;\n",
              "        }    #T_2ac2d390_b715_11ea_b348_0242ac1c0002row1_col0 {\n",
              "            background-color:  #3b4cc0;\n",
              "            color:  #f1f1f1;\n",
              "        }    #T_2ac2d390_b715_11ea_b348_0242ac1c0002row1_col1 {\n",
              "            background-color:  #b40426;\n",
              "            color:  #f1f1f1;\n",
              "        }    #T_2ac2d390_b715_11ea_b348_0242ac1c0002row1_col2 {\n",
              "            background-color:  #445acc;\n",
              "            color:  #f1f1f1;\n",
              "        }    #T_2ac2d390_b715_11ea_b348_0242ac1c0002row1_col3 {\n",
              "            background-color:  #4b64d5;\n",
              "            color:  #f1f1f1;\n",
              "        }    #T_2ac2d390_b715_11ea_b348_0242ac1c0002row1_col4 {\n",
              "            background-color:  #4c66d6;\n",
              "            color:  #000000;\n",
              "        }    #T_2ac2d390_b715_11ea_b348_0242ac1c0002row1_col5 {\n",
              "            background-color:  #4b64d5;\n",
              "            color:  #f1f1f1;\n",
              "        }    #T_2ac2d390_b715_11ea_b348_0242ac1c0002row1_col6 {\n",
              "            background-color:  #4a63d3;\n",
              "            color:  #f1f1f1;\n",
              "        }    #T_2ac2d390_b715_11ea_b348_0242ac1c0002row1_col7 {\n",
              "            background-color:  #4e68d8;\n",
              "            color:  #000000;\n",
              "        }    #T_2ac2d390_b715_11ea_b348_0242ac1c0002row2_col0 {\n",
              "            background-color:  #4358cb;\n",
              "            color:  #f1f1f1;\n",
              "        }    #T_2ac2d390_b715_11ea_b348_0242ac1c0002row2_col1 {\n",
              "            background-color:  #445acc;\n",
              "            color:  #f1f1f1;\n",
              "        }    #T_2ac2d390_b715_11ea_b348_0242ac1c0002row2_col2 {\n",
              "            background-color:  #b40426;\n",
              "            color:  #f1f1f1;\n",
              "        }    #T_2ac2d390_b715_11ea_b348_0242ac1c0002row2_col3 {\n",
              "            background-color:  #e36c55;\n",
              "            color:  #000000;\n",
              "        }    #T_2ac2d390_b715_11ea_b348_0242ac1c0002row2_col4 {\n",
              "            background-color:  #f7b093;\n",
              "            color:  #000000;\n",
              "        }    #T_2ac2d390_b715_11ea_b348_0242ac1c0002row2_col5 {\n",
              "            background-color:  #f2cbb7;\n",
              "            color:  #000000;\n",
              "        }    #T_2ac2d390_b715_11ea_b348_0242ac1c0002row2_col6 {\n",
              "            background-color:  #e9d5cb;\n",
              "            color:  #000000;\n",
              "        }    #T_2ac2d390_b715_11ea_b348_0242ac1c0002row2_col7 {\n",
              "            background-color:  #6e90f2;\n",
              "            color:  #000000;\n",
              "        }    #T_2ac2d390_b715_11ea_b348_0242ac1c0002row3_col0 {\n",
              "            background-color:  #465ecf;\n",
              "            color:  #f1f1f1;\n",
              "        }    #T_2ac2d390_b715_11ea_b348_0242ac1c0002row3_col1 {\n",
              "            background-color:  #4b64d5;\n",
              "            color:  #f1f1f1;\n",
              "        }    #T_2ac2d390_b715_11ea_b348_0242ac1c0002row3_col2 {\n",
              "            background-color:  #e36c55;\n",
              "            color:  #000000;\n",
              "        }    #T_2ac2d390_b715_11ea_b348_0242ac1c0002row3_col3 {\n",
              "            background-color:  #b40426;\n",
              "            color:  #f1f1f1;\n",
              "        }    #T_2ac2d390_b715_11ea_b348_0242ac1c0002row3_col4 {\n",
              "            background-color:  #c32e31;\n",
              "            color:  #f1f1f1;\n",
              "        }    #T_2ac2d390_b715_11ea_b348_0242ac1c0002row3_col5 {\n",
              "            background-color:  #d44e41;\n",
              "            color:  #000000;\n",
              "        }    #T_2ac2d390_b715_11ea_b348_0242ac1c0002row3_col6 {\n",
              "            background-color:  #dc5d4a;\n",
              "            color:  #000000;\n",
              "        }    #T_2ac2d390_b715_11ea_b348_0242ac1c0002row3_col7 {\n",
              "            background-color:  #c1d4f4;\n",
              "            color:  #000000;\n",
              "        }    #T_2ac2d390_b715_11ea_b348_0242ac1c0002row4_col0 {\n",
              "            background-color:  #485fd1;\n",
              "            color:  #f1f1f1;\n",
              "        }    #T_2ac2d390_b715_11ea_b348_0242ac1c0002row4_col1 {\n",
              "            background-color:  #4c66d6;\n",
              "            color:  #000000;\n",
              "        }    #T_2ac2d390_b715_11ea_b348_0242ac1c0002row4_col2 {\n",
              "            background-color:  #f7b093;\n",
              "            color:  #000000;\n",
              "        }    #T_2ac2d390_b715_11ea_b348_0242ac1c0002row4_col3 {\n",
              "            background-color:  #c32e31;\n",
              "            color:  #f1f1f1;\n",
              "        }    #T_2ac2d390_b715_11ea_b348_0242ac1c0002row4_col4 {\n",
              "            background-color:  #b40426;\n",
              "            color:  #f1f1f1;\n",
              "        }    #T_2ac2d390_b715_11ea_b348_0242ac1c0002row4_col5 {\n",
              "            background-color:  #bb1b2c;\n",
              "            color:  #f1f1f1;\n",
              "        }    #T_2ac2d390_b715_11ea_b348_0242ac1c0002row4_col6 {\n",
              "            background-color:  #be242e;\n",
              "            color:  #f1f1f1;\n",
              "        }    #T_2ac2d390_b715_11ea_b348_0242ac1c0002row4_col7 {\n",
              "            background-color:  #ccd9ed;\n",
              "            color:  #000000;\n",
              "        }    #T_2ac2d390_b715_11ea_b348_0242ac1c0002row5_col0 {\n",
              "            background-color:  #465ecf;\n",
              "            color:  #f1f1f1;\n",
              "        }    #T_2ac2d390_b715_11ea_b348_0242ac1c0002row5_col1 {\n",
              "            background-color:  #4b64d5;\n",
              "            color:  #f1f1f1;\n",
              "        }    #T_2ac2d390_b715_11ea_b348_0242ac1c0002row5_col2 {\n",
              "            background-color:  #f2cbb7;\n",
              "            color:  #000000;\n",
              "        }    #T_2ac2d390_b715_11ea_b348_0242ac1c0002row5_col3 {\n",
              "            background-color:  #d44e41;\n",
              "            color:  #000000;\n",
              "        }    #T_2ac2d390_b715_11ea_b348_0242ac1c0002row5_col4 {\n",
              "            background-color:  #bb1b2c;\n",
              "            color:  #f1f1f1;\n",
              "        }    #T_2ac2d390_b715_11ea_b348_0242ac1c0002row5_col5 {\n",
              "            background-color:  #b40426;\n",
              "            color:  #f1f1f1;\n",
              "        }    #T_2ac2d390_b715_11ea_b348_0242ac1c0002row5_col6 {\n",
              "            background-color:  #ba162b;\n",
              "            color:  #f1f1f1;\n",
              "        }    #T_2ac2d390_b715_11ea_b348_0242ac1c0002row5_col7 {\n",
              "            background-color:  #c9d7f0;\n",
              "            color:  #000000;\n",
              "        }    #T_2ac2d390_b715_11ea_b348_0242ac1c0002row6_col0 {\n",
              "            background-color:  #465ecf;\n",
              "            color:  #f1f1f1;\n",
              "        }    #T_2ac2d390_b715_11ea_b348_0242ac1c0002row6_col1 {\n",
              "            background-color:  #4a63d3;\n",
              "            color:  #f1f1f1;\n",
              "        }    #T_2ac2d390_b715_11ea_b348_0242ac1c0002row6_col2 {\n",
              "            background-color:  #e9d5cb;\n",
              "            color:  #000000;\n",
              "        }    #T_2ac2d390_b715_11ea_b348_0242ac1c0002row6_col3 {\n",
              "            background-color:  #dc5d4a;\n",
              "            color:  #000000;\n",
              "        }    #T_2ac2d390_b715_11ea_b348_0242ac1c0002row6_col4 {\n",
              "            background-color:  #be242e;\n",
              "            color:  #f1f1f1;\n",
              "        }    #T_2ac2d390_b715_11ea_b348_0242ac1c0002row6_col5 {\n",
              "            background-color:  #ba162b;\n",
              "            color:  #f1f1f1;\n",
              "        }    #T_2ac2d390_b715_11ea_b348_0242ac1c0002row6_col6 {\n",
              "            background-color:  #b40426;\n",
              "            color:  #f1f1f1;\n",
              "        }    #T_2ac2d390_b715_11ea_b348_0242ac1c0002row6_col7 {\n",
              "            background-color:  #c7d7f0;\n",
              "            color:  #000000;\n",
              "        }    #T_2ac2d390_b715_11ea_b348_0242ac1c0002row7_col0 {\n",
              "            background-color:  #4257c9;\n",
              "            color:  #f1f1f1;\n",
              "        }    #T_2ac2d390_b715_11ea_b348_0242ac1c0002row7_col1 {\n",
              "            background-color:  #4e68d8;\n",
              "            color:  #000000;\n",
              "        }    #T_2ac2d390_b715_11ea_b348_0242ac1c0002row7_col2 {\n",
              "            background-color:  #6e90f2;\n",
              "            color:  #000000;\n",
              "        }    #T_2ac2d390_b715_11ea_b348_0242ac1c0002row7_col3 {\n",
              "            background-color:  #c1d4f4;\n",
              "            color:  #000000;\n",
              "        }    #T_2ac2d390_b715_11ea_b348_0242ac1c0002row7_col4 {\n",
              "            background-color:  #ccd9ed;\n",
              "            color:  #000000;\n",
              "        }    #T_2ac2d390_b715_11ea_b348_0242ac1c0002row7_col5 {\n",
              "            background-color:  #c9d7f0;\n",
              "            color:  #000000;\n",
              "        }    #T_2ac2d390_b715_11ea_b348_0242ac1c0002row7_col6 {\n",
              "            background-color:  #c7d7f0;\n",
              "            color:  #000000;\n",
              "        }    #T_2ac2d390_b715_11ea_b348_0242ac1c0002row7_col7 {\n",
              "            background-color:  #b40426;\n",
              "            color:  #f1f1f1;\n",
              "        }</style><table id=\"T_2ac2d390_b715_11ea_b348_0242ac1c0002\" ><thead>    <tr>        <th class=\"blank level0\" ></th>        <th class=\"col_heading level0 col0\" >ra</th>        <th class=\"col_heading level0 col1\" >dec</th>        <th class=\"col_heading level0 col2\" >u</th>        <th class=\"col_heading level0 col3\" >g</th>        <th class=\"col_heading level0 col4\" >r</th>        <th class=\"col_heading level0 col5\" >i</th>        <th class=\"col_heading level0 col6\" >z</th>        <th class=\"col_heading level0 col7\" >redshift</th>    </tr></thead><tbody>\n",
              "                <tr>\n",
              "                        <th id=\"T_2ac2d390_b715_11ea_b348_0242ac1c0002level0_row0\" class=\"row_heading level0 row0\" >ra</th>\n",
              "                        <td id=\"T_2ac2d390_b715_11ea_b348_0242ac1c0002row0_col0\" class=\"data row0 col0\" >1.000000</td>\n",
              "                        <td id=\"T_2ac2d390_b715_11ea_b348_0242ac1c0002row0_col1\" class=\"data row0 col1\" >0.003596</td>\n",
              "                        <td id=\"T_2ac2d390_b715_11ea_b348_0242ac1c0002row0_col2\" class=\"data row0 col2\" >0.031238</td>\n",
              "                        <td id=\"T_2ac2d390_b715_11ea_b348_0242ac1c0002row0_col3\" class=\"data row0 col3\" >0.043909</td>\n",
              "                        <td id=\"T_2ac2d390_b715_11ea_b348_0242ac1c0002row0_col4\" class=\"data row0 col4\" >0.047103</td>\n",
              "                        <td id=\"T_2ac2d390_b715_11ea_b348_0242ac1c0002row0_col5\" class=\"data row0 col5\" >0.045731</td>\n",
              "                        <td id=\"T_2ac2d390_b715_11ea_b348_0242ac1c0002row0_col6\" class=\"data row0 col6\" >0.042950</td>\n",
              "                        <td id=\"T_2ac2d390_b715_11ea_b348_0242ac1c0002row0_col7\" class=\"data row0 col7\" >0.030307</td>\n",
              "            </tr>\n",
              "            <tr>\n",
              "                        <th id=\"T_2ac2d390_b715_11ea_b348_0242ac1c0002level0_row1\" class=\"row_heading level0 row1\" >dec</th>\n",
              "                        <td id=\"T_2ac2d390_b715_11ea_b348_0242ac1c0002row1_col0\" class=\"data row1 col0\" >0.003596</td>\n",
              "                        <td id=\"T_2ac2d390_b715_11ea_b348_0242ac1c0002row1_col1\" class=\"data row1 col1\" >1.000000</td>\n",
              "                        <td id=\"T_2ac2d390_b715_11ea_b348_0242ac1c0002row1_col2\" class=\"data row1 col2\" >0.035279</td>\n",
              "                        <td id=\"T_2ac2d390_b715_11ea_b348_0242ac1c0002row1_col3\" class=\"data row1 col3\" >0.061875</td>\n",
              "                        <td id=\"T_2ac2d390_b715_11ea_b348_0242ac1c0002row1_col4\" class=\"data row1 col4\" >0.063404</td>\n",
              "                        <td id=\"T_2ac2d390_b715_11ea_b348_0242ac1c0002row1_col5\" class=\"data row1 col5\" >0.058292</td>\n",
              "                        <td id=\"T_2ac2d390_b715_11ea_b348_0242ac1c0002row1_col6\" class=\"data row1 col6\" >0.056870</td>\n",
              "                        <td id=\"T_2ac2d390_b715_11ea_b348_0242ac1c0002row1_col7\" class=\"data row1 col7\" >0.067021</td>\n",
              "            </tr>\n",
              "            <tr>\n",
              "                        <th id=\"T_2ac2d390_b715_11ea_b348_0242ac1c0002level0_row2\" class=\"row_heading level0 row2\" >u</th>\n",
              "                        <td id=\"T_2ac2d390_b715_11ea_b348_0242ac1c0002row2_col0\" class=\"data row2 col0\" >0.031238</td>\n",
              "                        <td id=\"T_2ac2d390_b715_11ea_b348_0242ac1c0002row2_col1\" class=\"data row2 col1\" >0.035279</td>\n",
              "                        <td id=\"T_2ac2d390_b715_11ea_b348_0242ac1c0002row2_col2\" class=\"data row2 col2\" >1.000000</td>\n",
              "                        <td id=\"T_2ac2d390_b715_11ea_b348_0242ac1c0002row2_col3\" class=\"data row2 col3\" >0.849232</td>\n",
              "                        <td id=\"T_2ac2d390_b715_11ea_b348_0242ac1c0002row2_col4\" class=\"data row2 col4\" >0.692379</td>\n",
              "                        <td id=\"T_2ac2d390_b715_11ea_b348_0242ac1c0002row2_col5\" class=\"data row2 col5\" >0.602630</td>\n",
              "                        <td id=\"T_2ac2d390_b715_11ea_b348_0242ac1c0002row2_col6\" class=\"data row2 col6\" >0.551483</td>\n",
              "                        <td id=\"T_2ac2d390_b715_11ea_b348_0242ac1c0002row2_col7\" class=\"data row2 col7\" >0.163741</td>\n",
              "            </tr>\n",
              "            <tr>\n",
              "                        <th id=\"T_2ac2d390_b715_11ea_b348_0242ac1c0002level0_row3\" class=\"row_heading level0 row3\" >g</th>\n",
              "                        <td id=\"T_2ac2d390_b715_11ea_b348_0242ac1c0002row3_col0\" class=\"data row3 col0\" >0.043909</td>\n",
              "                        <td id=\"T_2ac2d390_b715_11ea_b348_0242ac1c0002row3_col1\" class=\"data row3 col1\" >0.061875</td>\n",
              "                        <td id=\"T_2ac2d390_b715_11ea_b348_0242ac1c0002row3_col2\" class=\"data row3 col2\" >0.849232</td>\n",
              "                        <td id=\"T_2ac2d390_b715_11ea_b348_0242ac1c0002row3_col3\" class=\"data row3 col3\" >1.000000</td>\n",
              "                        <td id=\"T_2ac2d390_b715_11ea_b348_0242ac1c0002row3_col4\" class=\"data row3 col4\" >0.958106</td>\n",
              "                        <td id=\"T_2ac2d390_b715_11ea_b348_0242ac1c0002row3_col5\" class=\"data row3 col5\" >0.907419</td>\n",
              "                        <td id=\"T_2ac2d390_b715_11ea_b348_0242ac1c0002row3_col6\" class=\"data row3 col6\" >0.879622</td>\n",
              "                        <td id=\"T_2ac2d390_b715_11ea_b348_0242ac1c0002row3_col7\" class=\"data row3 col7\" >0.407576</td>\n",
              "            </tr>\n",
              "            <tr>\n",
              "                        <th id=\"T_2ac2d390_b715_11ea_b348_0242ac1c0002level0_row4\" class=\"row_heading level0 row4\" >r</th>\n",
              "                        <td id=\"T_2ac2d390_b715_11ea_b348_0242ac1c0002row4_col0\" class=\"data row4 col0\" >0.047103</td>\n",
              "                        <td id=\"T_2ac2d390_b715_11ea_b348_0242ac1c0002row4_col1\" class=\"data row4 col1\" >0.063404</td>\n",
              "                        <td id=\"T_2ac2d390_b715_11ea_b348_0242ac1c0002row4_col2\" class=\"data row4 col2\" >0.692379</td>\n",
              "                        <td id=\"T_2ac2d390_b715_11ea_b348_0242ac1c0002row4_col3\" class=\"data row4 col3\" >0.958106</td>\n",
              "                        <td id=\"T_2ac2d390_b715_11ea_b348_0242ac1c0002row4_col4\" class=\"data row4 col4\" >1.000000</td>\n",
              "                        <td id=\"T_2ac2d390_b715_11ea_b348_0242ac1c0002row4_col5\" class=\"data row4 col5\" >0.977672</td>\n",
              "                        <td id=\"T_2ac2d390_b715_11ea_b348_0242ac1c0002row4_col6\" class=\"data row4 col6\" >0.969197</td>\n",
              "                        <td id=\"T_2ac2d390_b715_11ea_b348_0242ac1c0002row4_col7\" class=\"data row4 col7\" >0.441080</td>\n",
              "            </tr>\n",
              "            <tr>\n",
              "                        <th id=\"T_2ac2d390_b715_11ea_b348_0242ac1c0002level0_row5\" class=\"row_heading level0 row5\" >i</th>\n",
              "                        <td id=\"T_2ac2d390_b715_11ea_b348_0242ac1c0002row5_col0\" class=\"data row5 col0\" >0.045731</td>\n",
              "                        <td id=\"T_2ac2d390_b715_11ea_b348_0242ac1c0002row5_col1\" class=\"data row5 col1\" >0.058292</td>\n",
              "                        <td id=\"T_2ac2d390_b715_11ea_b348_0242ac1c0002row5_col2\" class=\"data row5 col2\" >0.602630</td>\n",
              "                        <td id=\"T_2ac2d390_b715_11ea_b348_0242ac1c0002row5_col3\" class=\"data row5 col3\" >0.907419</td>\n",
              "                        <td id=\"T_2ac2d390_b715_11ea_b348_0242ac1c0002row5_col4\" class=\"data row5 col4\" >0.977672</td>\n",
              "                        <td id=\"T_2ac2d390_b715_11ea_b348_0242ac1c0002row5_col5\" class=\"data row5 col5\" >1.000000</td>\n",
              "                        <td id=\"T_2ac2d390_b715_11ea_b348_0242ac1c0002row5_col6\" class=\"data row5 col6\" >0.981507</td>\n",
              "                        <td id=\"T_2ac2d390_b715_11ea_b348_0242ac1c0002row5_col7\" class=\"data row5 col7\" >0.431450</td>\n",
              "            </tr>\n",
              "            <tr>\n",
              "                        <th id=\"T_2ac2d390_b715_11ea_b348_0242ac1c0002level0_row6\" class=\"row_heading level0 row6\" >z</th>\n",
              "                        <td id=\"T_2ac2d390_b715_11ea_b348_0242ac1c0002row6_col0\" class=\"data row6 col0\" >0.042950</td>\n",
              "                        <td id=\"T_2ac2d390_b715_11ea_b348_0242ac1c0002row6_col1\" class=\"data row6 col1\" >0.056870</td>\n",
              "                        <td id=\"T_2ac2d390_b715_11ea_b348_0242ac1c0002row6_col2\" class=\"data row6 col2\" >0.551483</td>\n",
              "                        <td id=\"T_2ac2d390_b715_11ea_b348_0242ac1c0002row6_col3\" class=\"data row6 col3\" >0.879622</td>\n",
              "                        <td id=\"T_2ac2d390_b715_11ea_b348_0242ac1c0002row6_col4\" class=\"data row6 col4\" >0.969197</td>\n",
              "                        <td id=\"T_2ac2d390_b715_11ea_b348_0242ac1c0002row6_col5\" class=\"data row6 col5\" >0.981507</td>\n",
              "                        <td id=\"T_2ac2d390_b715_11ea_b348_0242ac1c0002row6_col6\" class=\"data row6 col6\" >1.000000</td>\n",
              "                        <td id=\"T_2ac2d390_b715_11ea_b348_0242ac1c0002row6_col7\" class=\"data row6 col7\" >0.424034</td>\n",
              "            </tr>\n",
              "            <tr>\n",
              "                        <th id=\"T_2ac2d390_b715_11ea_b348_0242ac1c0002level0_row7\" class=\"row_heading level0 row7\" >redshift</th>\n",
              "                        <td id=\"T_2ac2d390_b715_11ea_b348_0242ac1c0002row7_col0\" class=\"data row7 col0\" >0.030307</td>\n",
              "                        <td id=\"T_2ac2d390_b715_11ea_b348_0242ac1c0002row7_col1\" class=\"data row7 col1\" >0.067021</td>\n",
              "                        <td id=\"T_2ac2d390_b715_11ea_b348_0242ac1c0002row7_col2\" class=\"data row7 col2\" >0.163741</td>\n",
              "                        <td id=\"T_2ac2d390_b715_11ea_b348_0242ac1c0002row7_col3\" class=\"data row7 col3\" >0.407576</td>\n",
              "                        <td id=\"T_2ac2d390_b715_11ea_b348_0242ac1c0002row7_col4\" class=\"data row7 col4\" >0.441080</td>\n",
              "                        <td id=\"T_2ac2d390_b715_11ea_b348_0242ac1c0002row7_col5\" class=\"data row7 col5\" >0.431450</td>\n",
              "                        <td id=\"T_2ac2d390_b715_11ea_b348_0242ac1c0002row7_col6\" class=\"data row7 col6\" >0.424034</td>\n",
              "                        <td id=\"T_2ac2d390_b715_11ea_b348_0242ac1c0002row7_col7\" class=\"data row7 col7\" >1.000000</td>\n",
              "            </tr>\n",
              "    </tbody></table>"
            ],
            "text/plain": [
              "<pandas.io.formats.style.Styler at 0x7fa84d4e48d0>"
            ]
          },
          "metadata": {
            "tags": []
          },
          "execution_count": 6
        }
      ]
    },
    {
      "cell_type": "markdown",
      "metadata": {
        "id": "WZO5cuTPChm7",
        "colab_type": "text"
      },
      "source": [
        "---\n",
        "## Dividiendo los datos de entrenamiento y de validación\n",
        "---"
      ]
    },
    {
      "cell_type": "code",
      "metadata": {
        "id": "nC4r1XX2BCrh",
        "colab_type": "code",
        "colab": {}
      },
      "source": [
        "from tensorflow.keras.utils import to_categorical\n",
        "from sklearn.preprocessing import StandardScaler"
      ],
      "execution_count": 9,
      "outputs": []
    },
    {
      "cell_type": "code",
      "metadata": {
        "id": "zFUEhybjBiZx",
        "colab_type": "code",
        "colab": {}
      },
      "source": [
        "y = to_categorical(Y)\n",
        "X_std = StandardScaler().fit_transform(X)"
      ],
      "execution_count": 10,
      "outputs": []
    },
    {
      "cell_type": "code",
      "metadata": {
        "id": "fpvx036GBxDv",
        "colab_type": "code",
        "colab": {
          "base_uri": "https://localhost:8080/",
          "height": 340
        },
        "outputId": "7bcfc28c-aeaa-41e5-97a0-0109b597bc07"
      },
      "source": [
        "print(X_std,y)"
      ],
      "execution_count": 11,
      "outputs": [
        {
          "output_type": "stream",
          "text": [
            "[[ 0.16745842 -0.58492272  1.03148637 ... -0.94605772 -0.99534154\n",
            "  -0.36973112]\n",
            " [ 0.16886159 -0.58311429  0.05243046 ... -0.08264457 -0.02604308\n",
            "  -0.36984929]\n",
            " [ 0.17057433 -0.58347525  0.92156796 ...  0.44120145  0.31452753\n",
            "  -0.05302706]\n",
            " ...\n",
            " [-0.92039468  1.46090664  0.16753826 ...  0.74398287  0.82921097\n",
            "  -0.37074104]\n",
            " [-0.92197294  1.46432109  0.31801835 ...  0.6825157   0.59598555\n",
            "  -0.33364691]\n",
            " [-0.91804124  1.46639319  0.79229193 ... -0.65522289 -0.76214106\n",
            "  -0.06510125]] [[0. 1. 0.]\n",
            " [0. 1. 0.]\n",
            " [1. 0. 0.]\n",
            " ...\n",
            " [0. 1. 0.]\n",
            " [1. 0. 0.]\n",
            " [1. 0. 0.]]\n"
          ],
          "name": "stdout"
        }
      ]
    },
    {
      "cell_type": "markdown",
      "metadata": {
        "id": "3Pt3HyjkOFbz",
        "colab_type": "text"
      },
      "source": [
        "*train_test_split* es una función en la selección del modelo de Sklearn para dividir matrices de datos en dos subconjuntos : datos para entrenamiento y datos para prueba. No obstante, *train_test_split* hará particiones aleatorias para los dos subconjuntos. Esta función toma como parámetros el conjunto de datos *X_std* y las etiquetas *y*.\n",
        "\n",
        "*train_size* es el otro parámetro y establece el tamaño del conjunto de datos de entrenamiento, en este caso se usa 0.2 el cual hace referencia a 80% para test y 20% para prueba."
      ]
    },
    {
      "cell_type": "code",
      "metadata": {
        "id": "z-9I_SqTCFF3",
        "colab_type": "code",
        "colab": {}
      },
      "source": [
        "X_trainT , X_test ,Y_trainT, Y_test = train_test_split(X_std , y , test_size=0.2)\n",
        "X_train , X_test10 ,Y_train, Y_test10 = train_test_split(X_trainT , Y_trainT , test_size=0.125)"
      ],
      "execution_count": 12,
      "outputs": []
    },
    {
      "cell_type": "markdown",
      "metadata": {
        "id": "X7np-t9tF5Lk",
        "colab_type": "text"
      },
      "source": [
        "---\n",
        "## Modelo perceptrón multicapa\n",
        "---"
      ]
    },
    {
      "cell_type": "markdown",
      "metadata": {
        "id": "KZnxh5VMQeLQ",
        "colab_type": "text"
      },
      "source": [
        "Considerando que las redes neuronales son grupo de neuronas distribuidas en capas y conectadas por sus pesos (salidas con un valor asignado a la información que recibieron) se procede a describir el modelo ANN por medio de:\n",
        "\n",
        "**Primera capa**\n",
        "\n",
        "* Capa densa de 5 neuronas y entrada de tamaño 8, con función de activación ReLu (Unidad rectificada lineal). Además un dropout de 0.45.\n",
        "\n",
        "**Segunda capa**\n",
        "\n",
        "* Una capa densa con 256 neuronas y función de activación ReLu (Unidad rectificada lineal) y dropout de 0.45.\n",
        "\n",
        "**Tercera capa**\n",
        "\n",
        "* Una capa densa con 3 neuronas y función de activación Softmax.\n",
        "\n",
        "Caba aclarar que los lotes son de tamaño 128.\n"
      ]
    },
    {
      "cell_type": "code",
      "metadata": {
        "id": "YdZ5npSu02-h",
        "colab_type": "code",
        "colab": {}
      },
      "source": [
        "from tensorflow.keras.models import Sequential\n",
        "from tensorflow.keras.layers import Dense, Activation, Dropout\n",
        "from tensorflow.keras.utils import to_categorical, plot_model"
      ],
      "execution_count": 16,
      "outputs": []
    },
    {
      "cell_type": "code",
      "metadata": {
        "id": "bQh-g6pkDq4o",
        "colab_type": "code",
        "colab": {}
      },
      "source": [
        "input_size = 8\n",
        "num_labels = 3\n",
        "batch_size = 128\n",
        "dropout = 0.45"
      ],
      "execution_count": 17,
      "outputs": []
    },
    {
      "cell_type": "code",
      "metadata": {
        "id": "kPckjOzIEoL8",
        "colab_type": "code",
        "colab": {
          "base_uri": "https://localhost:8080/",
          "height": 425
        },
        "outputId": "774c234e-5b8d-423d-e613-b78dbe1a41a8"
      },
      "source": [
        "from tensorflow.keras.regularizers import l2\n",
        "\n",
        "model = Sequential()\n",
        "\n",
        "model.add(Dense(5, input_dim=input_size))\n",
        "model.add(Activation('relu'))\n",
        "model.add(Dropout(dropout))\n",
        "\n",
        "model.add(Dense(256))\n",
        "model.add(Activation('relu'))\n",
        "model.add(Dropout(dropout))\n",
        "\n",
        "model.add(Dense(num_labels))\n",
        "model.add(Activation('softmax'))\n",
        "\n",
        "model.summary()"
      ],
      "execution_count": 18,
      "outputs": [
        {
          "output_type": "stream",
          "text": [
            "Model: \"sequential_1\"\n",
            "_________________________________________________________________\n",
            "Layer (type)                 Output Shape              Param #   \n",
            "=================================================================\n",
            "dense_3 (Dense)              (None, 5)                 45        \n",
            "_________________________________________________________________\n",
            "activation_3 (Activation)    (None, 5)                 0         \n",
            "_________________________________________________________________\n",
            "dropout_2 (Dropout)          (None, 5)                 0         \n",
            "_________________________________________________________________\n",
            "dense_4 (Dense)              (None, 256)               1536      \n",
            "_________________________________________________________________\n",
            "activation_4 (Activation)    (None, 256)               0         \n",
            "_________________________________________________________________\n",
            "dropout_3 (Dropout)          (None, 256)               0         \n",
            "_________________________________________________________________\n",
            "dense_5 (Dense)              (None, 3)                 771       \n",
            "_________________________________________________________________\n",
            "activation_5 (Activation)    (None, 3)                 0         \n",
            "=================================================================\n",
            "Total params: 2,352\n",
            "Trainable params: 2,352\n",
            "Non-trainable params: 0\n",
            "_________________________________________________________________\n"
          ],
          "name": "stdout"
        }
      ]
    },
    {
      "cell_type": "code",
      "metadata": {
        "id": "c13UUwyvFZJh",
        "colab_type": "code",
        "colab": {
          "base_uri": "https://localhost:8080/",
          "height": 976
        },
        "outputId": "ca23b394-fd4e-49cf-fdb9-da022a21e622"
      },
      "source": [
        "plot_model(model, show_shapes=True)"
      ],
      "execution_count": 19,
      "outputs": [
        {
          "output_type": "execute_result",
          "data": {
            "image/png": "[encoded data removed]",
            "text/plain": [
              "<IPython.core.display.Image object>"
            ]
          },
          "metadata": {
            "tags": []
          },
          "execution_count": 19
        }
      ]
    },
    {
      "cell_type": "markdown",
      "metadata": {
        "id": "Abyf7sHmFnTC",
        "colab_type": "text"
      },
      "source": [
        "---\n",
        "## Compilación\n",
        "---\n",
        "\n",
        "Un algoritmo de deep learning demora tanto en entrenar (entre otras cosas) porque eventualmente encuentra muchos mínimos locales en la superficie de error. \n",
        "\n",
        "###  Función de activación\n",
        "\n",
        "En este proceso de entrenamiento, la función de Activación softmax\n",
        "se describe matemáticamente como:\n",
        "\n",
        "$$\n",
        "\\begin{equation}\n",
        "Prob[y=j|x] = \\frac{\\exp(x_j)}{\\sum_{k=1}^{n}\\exp(x_j)}\n",
        "\\end{equation}\n",
        "$$\n",
        "\n",
        "Un cálculo muy estable computacionalmente de estos valores se obtiene de la siguente manera. Sea $\\eta = \\underset{i}{\\text{max}} \\hspace{2mm} \\{x_i\\}$. Es fácil verificar que\n",
        "\n",
        "$$\n",
        "\\begin{equation}\n",
        "Prob[y=j|x] = \\frac{\\exp(x_j-\\eta)}{\\sum_{k=1}^{n}\\exp(x_k-\\eta)} = \\text{softmax}_j(x)\n",
        "\\end{equation}\n",
        "$$\n",
        "\n",
        "Observe que $\\log \\text{softmax}_j(x)  = x_j - \\eta - \\log(\\sum_{k=1}^n \\exp(x_k-\\eta))$.\n",
        "\n",
        "\n",
        "La variable *eta* en la función corresponde al máximo de los valores, no obstante para un conjunto de valores $x_1,\\ldots,x_n$, la función softwax transforma estos valores en la escala (0,1), que pueden interpretarse como probabilidades. Cada componente de softmax es interpretada como la probabilidad que la imagen pertenezca a la clase representada por dicha componente.\n",
        "\n",
        "No obstante en el procedimiento se procede a:\n",
        "\n",
        "* Usar el **Backpropagation** que es un método para actualizar los pesos en la dirección (gradiente) que minimiza una métrica de error predefinida (en este caso relu), también es conocida como Función de Pérdida o Función de costo, dado un conjunto de observaciones etiquetadas. Este algoritmo ha sido repetidamente redescubierto y es un caso especial de una técnica más general llamada diferenciación automática en modo acumulativo reverso.\n",
        "\n",
        "* En este proceso de compilación se especifica el optimizador, en este caso **Adam**\n",
        "* Así mismo, se especifica la función de pérdida el cual puede ser (categorical_crossentropy o mse), aquí se considerará *categorical_crossentropy*\n",
        "\n",
        "* Como se trata de un problema de clasificación,se establece que la métrica para evaluar el modelo está caracterizada por el  *accuracy*"
      ]
    },
    {
      "cell_type": "code",
      "metadata": {
        "id": "iFg3M9KGEqMW",
        "colab_type": "code",
        "colab": {}
      },
      "source": [
        "model.compile(optimizer='adam', \n",
        "              loss='categorical_crossentropy',\n",
        "              metrics=['accuracy'])"
      ],
      "execution_count": null,
      "outputs": []
    },
    {
      "cell_type": "markdown",
      "metadata": {
        "id": "ThGaHXuS0iwz",
        "colab_type": "text"
      },
      "source": [
        "---\n",
        "## Entrenamiento del modelo\n",
        "---\n",
        "\n",
        "Aquí se caracterizará el checkpoint para poder guardar el modelo y después poder usarlo para hacer predicciones."
      ]
    },
    {
      "cell_type": "code",
      "metadata": {
        "id": "4shv9z8wFE1r",
        "colab_type": "code",
        "colab": {}
      },
      "source": [
        "from __future__ import absolute_import, division, print_function, unicode_literals\n",
        "import tensorflow as tf\n",
        "from tensorflow.keras import backend as K\n",
        "\n",
        "class myCallback(tf.keras.callbacks.Callback):\n",
        "    def on_epoch_end(self, epoch, logs={}):\n",
        "        if(logs.get('accuracy')>0.99):\n",
        "            print(\"\\nReached 0.99 accuracy so cancelling training!\")\n",
        "            self.model.stop_training = True\n",
        "\n",
        "# crea una instancia de clase\n",
        "accu_callback = myCallback()"
      ],
      "execution_count": null,
      "outputs": []
    },
    {
      "cell_type": "code",
      "metadata": {
        "id": "_Tc3oP4-GXoX",
        "colab_type": "code",
        "colab": {}
      },
      "source": [
        "# Directory where the checkpoints will be saved\n",
        "import os \n",
        "checkpoint_dir = './training_checkpoints_mnist_mlp'\n",
        "# Name of the checkpoint files\n",
        "checkpoint_prefix = os.path.join(checkpoint_dir, \"mnist_mlp_ckpt_{epoch}\")\n",
        "\n",
        "checkpoint_callback=tf.keras.callbacks.ModelCheckpoint(\n",
        "    filepath=checkpoint_prefix,\n",
        "    save_weights_only=True, \n",
        "    monitor='val_accuracy', mode='max',\n",
        "    save_best_only=True)"
      ],
      "execution_count": null,
      "outputs": []
    },
    {
      "cell_type": "markdown",
      "metadata": {
        "id": "jH7ZXoBi7hFU",
        "colab_type": "text"
      },
      "source": [
        "Se procede a realizar el entrenamiento del modelo ANN que fue caracterizado en lineas anteriores con epoch de tamaño 20 y un tamaño de validación de 0.2. "
      ]
    },
    {
      "cell_type": "code",
      "metadata": {
        "id": "G_0qoDlIGxov",
        "colab_type": "code",
        "colab": {
          "base_uri": "https://localhost:8080/",
          "height": 1000
        },
        "outputId": "3dac2839-acb1-4fde-94b8-1948ea1e38b4"
      },
      "source": [
        "epochs = 50\n",
        "validation_size =0.2\n",
        "\n",
        "history = model.fit(X_train, Y_train, \n",
        "                    epochs=epochs, \n",
        "                    batch_size=batch_size, \n",
        "                    validation_split=validation_size,\n",
        "                    callbacks=[accu_callback,checkpoint_callback],\n",
        "                    verbose=2)"
      ],
      "execution_count": null,
      "outputs": [
        {
          "output_type": "stream",
          "text": [
            "Epoch 1/50\n",
            "44/44 - 0s - loss: 1.0041 - accuracy: 0.5093 - val_loss: 0.8589 - val_accuracy: 0.6629\n",
            "Epoch 2/50\n",
            "44/44 - 0s - loss: 0.8415 - accuracy: 0.5791 - val_loss: 0.7252 - val_accuracy: 0.6629\n",
            "Epoch 3/50\n",
            "44/44 - 0s - loss: 0.7623 - accuracy: 0.5943 - val_loss: 0.6688 - val_accuracy: 0.6736\n",
            "Epoch 4/50\n",
            "44/44 - 0s - loss: 0.7218 - accuracy: 0.6036 - val_loss: 0.6330 - val_accuracy: 0.6836\n",
            "Epoch 5/50\n",
            "44/44 - 0s - loss: 0.6737 - accuracy: 0.6223 - val_loss: 0.5964 - val_accuracy: 0.6900\n",
            "Epoch 6/50\n",
            "44/44 - 0s - loss: 0.6464 - accuracy: 0.6425 - val_loss: 0.5550 - val_accuracy: 0.7350\n",
            "Epoch 7/50\n",
            "44/44 - 0s - loss: 0.6235 - accuracy: 0.6523 - val_loss: 0.5291 - val_accuracy: 0.7164\n",
            "Epoch 8/50\n",
            "44/44 - 0s - loss: 0.5987 - accuracy: 0.6745 - val_loss: 0.4897 - val_accuracy: 0.8621\n",
            "Epoch 9/50\n",
            "44/44 - 0s - loss: 0.5872 - accuracy: 0.7018 - val_loss: 0.4588 - val_accuracy: 0.8771\n",
            "Epoch 10/50\n",
            "44/44 - 0s - loss: 0.5528 - accuracy: 0.7254 - val_loss: 0.4249 - val_accuracy: 0.8936\n",
            "Epoch 11/50\n",
            "44/44 - 0s - loss: 0.5303 - accuracy: 0.7473 - val_loss: 0.4079 - val_accuracy: 0.8993\n",
            "Epoch 12/50\n",
            "44/44 - 0s - loss: 0.5128 - accuracy: 0.7523 - val_loss: 0.3816 - val_accuracy: 0.9107\n",
            "Epoch 13/50\n",
            "44/44 - 0s - loss: 0.4862 - accuracy: 0.7754 - val_loss: 0.3545 - val_accuracy: 0.9157\n",
            "Epoch 14/50\n",
            "44/44 - 0s - loss: 0.4841 - accuracy: 0.7720 - val_loss: 0.3436 - val_accuracy: 0.9271\n",
            "Epoch 15/50\n",
            "44/44 - 0s - loss: 0.4608 - accuracy: 0.7977 - val_loss: 0.3145 - val_accuracy: 0.9364\n",
            "Epoch 16/50\n",
            "44/44 - 0s - loss: 0.4522 - accuracy: 0.7996 - val_loss: 0.2988 - val_accuracy: 0.9529\n",
            "Epoch 17/50\n",
            "44/44 - 0s - loss: 0.4295 - accuracy: 0.8150 - val_loss: 0.2766 - val_accuracy: 0.9600\n",
            "Epoch 18/50\n",
            "44/44 - 0s - loss: 0.4060 - accuracy: 0.8270 - val_loss: 0.2637 - val_accuracy: 0.9671\n",
            "Epoch 19/50\n",
            "44/44 - 0s - loss: 0.4068 - accuracy: 0.8261 - val_loss: 0.2511 - val_accuracy: 0.9693\n",
            "Epoch 20/50\n",
            "44/44 - 0s - loss: 0.4013 - accuracy: 0.8264 - val_loss: 0.2457 - val_accuracy: 0.9679\n",
            "Epoch 21/50\n",
            "44/44 - 0s - loss: 0.4046 - accuracy: 0.8248 - val_loss: 0.2447 - val_accuracy: 0.9679\n",
            "Epoch 22/50\n",
            "44/44 - 0s - loss: 0.3955 - accuracy: 0.8355 - val_loss: 0.2315 - val_accuracy: 0.9686\n",
            "Epoch 23/50\n",
            "44/44 - 0s - loss: 0.3924 - accuracy: 0.8334 - val_loss: 0.2299 - val_accuracy: 0.9693\n",
            "Epoch 24/50\n",
            "44/44 - 0s - loss: 0.3765 - accuracy: 0.8430 - val_loss: 0.2238 - val_accuracy: 0.9700\n",
            "Epoch 25/50\n",
            "44/44 - 0s - loss: 0.3747 - accuracy: 0.8464 - val_loss: 0.2153 - val_accuracy: 0.9714\n",
            "Epoch 26/50\n",
            "44/44 - 0s - loss: 0.3730 - accuracy: 0.8484 - val_loss: 0.2039 - val_accuracy: 0.9700\n",
            "Epoch 27/50\n",
            "44/44 - 0s - loss: 0.3681 - accuracy: 0.8593 - val_loss: 0.1921 - val_accuracy: 0.9700\n",
            "Epoch 28/50\n",
            "44/44 - 0s - loss: 0.3501 - accuracy: 0.8662 - val_loss: 0.1978 - val_accuracy: 0.9700\n",
            "Epoch 29/50\n",
            "44/44 - 0s - loss: 0.3427 - accuracy: 0.8679 - val_loss: 0.1897 - val_accuracy: 0.9714\n",
            "Epoch 30/50\n",
            "44/44 - 0s - loss: 0.3500 - accuracy: 0.8630 - val_loss: 0.1873 - val_accuracy: 0.9721\n",
            "Epoch 31/50\n",
            "44/44 - 0s - loss: 0.3284 - accuracy: 0.8729 - val_loss: 0.1808 - val_accuracy: 0.9714\n",
            "Epoch 32/50\n",
            "44/44 - 0s - loss: 0.3296 - accuracy: 0.8750 - val_loss: 0.1780 - val_accuracy: 0.9736\n",
            "Epoch 33/50\n",
            "44/44 - 0s - loss: 0.3513 - accuracy: 0.8668 - val_loss: 0.1882 - val_accuracy: 0.9721\n",
            "Epoch 34/50\n",
            "44/44 - 0s - loss: 0.3306 - accuracy: 0.8704 - val_loss: 0.1834 - val_accuracy: 0.9714\n",
            "Epoch 35/50\n",
            "44/44 - 0s - loss: 0.3267 - accuracy: 0.8714 - val_loss: 0.1744 - val_accuracy: 0.9736\n",
            "Epoch 36/50\n",
            "44/44 - 0s - loss: 0.3439 - accuracy: 0.8668 - val_loss: 0.1890 - val_accuracy: 0.9729\n",
            "Epoch 37/50\n",
            "44/44 - 0s - loss: 0.3352 - accuracy: 0.8662 - val_loss: 0.1858 - val_accuracy: 0.9714\n",
            "Epoch 38/50\n",
            "44/44 - 0s - loss: 0.3180 - accuracy: 0.8746 - val_loss: 0.1706 - val_accuracy: 0.9750\n",
            "Epoch 39/50\n",
            "44/44 - 0s - loss: 0.3309 - accuracy: 0.8736 - val_loss: 0.1844 - val_accuracy: 0.9707\n",
            "Epoch 40/50\n",
            "44/44 - 0s - loss: 0.3382 - accuracy: 0.8668 - val_loss: 0.1878 - val_accuracy: 0.9693\n",
            "Epoch 41/50\n",
            "44/44 - 0s - loss: 0.3206 - accuracy: 0.8748 - val_loss: 0.1675 - val_accuracy: 0.9714\n",
            "Epoch 42/50\n",
            "44/44 - 0s - loss: 0.3258 - accuracy: 0.8702 - val_loss: 0.1759 - val_accuracy: 0.9707\n",
            "Epoch 43/50\n",
            "44/44 - 0s - loss: 0.3326 - accuracy: 0.8698 - val_loss: 0.1824 - val_accuracy: 0.9700\n",
            "Epoch 44/50\n",
            "44/44 - 0s - loss: 0.3194 - accuracy: 0.8661 - val_loss: 0.1842 - val_accuracy: 0.9729\n",
            "Epoch 45/50\n",
            "44/44 - 0s - loss: 0.3197 - accuracy: 0.8687 - val_loss: 0.1759 - val_accuracy: 0.9707\n",
            "Epoch 46/50\n",
            "44/44 - 0s - loss: 0.3119 - accuracy: 0.8711 - val_loss: 0.1807 - val_accuracy: 0.9700\n",
            "Epoch 47/50\n",
            "44/44 - 0s - loss: 0.3016 - accuracy: 0.8755 - val_loss: 0.1937 - val_accuracy: 0.9643\n",
            "Epoch 48/50\n",
            "44/44 - 0s - loss: 0.2901 - accuracy: 0.8930 - val_loss: 0.1619 - val_accuracy: 0.9700\n",
            "Epoch 49/50\n",
            "44/44 - 0s - loss: 0.2904 - accuracy: 0.8954 - val_loss: 0.1634 - val_accuracy: 0.9657\n",
            "Epoch 50/50\n",
            "44/44 - 0s - loss: 0.2727 - accuracy: 0.9171 - val_loss: 0.1567 - val_accuracy: 0.9679\n"
          ],
          "name": "stdout"
        }
      ]
    },
    {
      "cell_type": "markdown",
      "metadata": {
        "id": "4dl6iEHExIde",
        "colab_type": "text"
      },
      "source": [
        "---\n",
        "### Evaluación del modelo ANN\n",
        "---"
      ]
    },
    {
      "cell_type": "code",
      "metadata": {
        "id": "KoPvsVL6G2GG",
        "colab_type": "code",
        "colab": {
          "base_uri": "https://localhost:8080/",
          "height": 410
        },
        "outputId": "39b6251b-6b90-4e5b-fb65-2737762c53f9"
      },
      "source": [
        "import matplotlib.pyplot as plt\n",
        "acc = history.history['accuracy']\n",
        "val_acc = history.history['val_accuracy']\n",
        "loss = history.history['loss']\n",
        "val_loss = history.history['val_loss']\n",
        "\n",
        "epochs = range(len(acc))\n",
        "\n",
        "n_row = 1\n",
        "n_col = 2\n",
        "fig, ax = plt.subplots(n_row, n_col, sharex = False, sharey = False, figsize=(12,6))\n",
        "\n",
        "\n",
        "ax[0].plot(epochs, acc, 'r', label='Training accuracy', color = 'green')\n",
        "ax[0].plot(epochs, val_acc, 'b', label='Validation accuracy')\n",
        "ax[0].legend(fontsize=12,loc=0)\n",
        "ax[0].set_title('Training and Validation Accuracy',fontsize=16)\n",
        "ax[0].set_ylabel('measure',fontsize=14)\n",
        "ax[0].set_xlabel('epoch', fontsize = 14)\n",
        "ax[0].set_xlim([1, len(acc)])\n",
        "\n",
        "ax[1].plot(epochs, loss, 'r', label='Training Loss', color = 'green')\n",
        "ax[1].plot(epochs, val_loss, 'b', label='Validation Loss')\n",
        "ax[1].legend(fontsize=12)\n",
        "ax[1].set_title('Training and Validation Loss',fontsize=16)\n",
        "ax[1].set_ylabel('measure',fontsize=14)\n",
        "ax[1].set_xlabel('epoch', fontsize = 14)\n",
        "ax[1].set_xlim([1, len(acc)])\n",
        "\n",
        "\n",
        "plt.show()\n",
        "\n"
      ],
      "execution_count": null,
      "outputs": [
        {
          "output_type": "display_data",
          "data": {
            "image/png": "[encoded data removed]",
            "text/plain": [
              "<Figure size 864x432 with 2 Axes>"
            ]
          },
          "metadata": {
            "tags": [],
            "needs_background": "light"
          }
        }
      ]
    },
    {
      "cell_type": "markdown",
      "metadata": {
        "id": "SrhQfGSD_oOt",
        "colab_type": "text"
      },
      "source": [
        "En las gráficas de entrenamiento y pérdida se logra identificar que:\n",
        "\n",
        "* En el gráfica de presición ambos conjuntos de datos (validación y entrenamiento) siguen aumentando, asi mismo se logra identificar que no se ha sobre-aprendido, en otras palabras no existe overfitting.\n",
        "\n",
        "* A partir del gráfico de perdidas se puede observar que el modelo tiene un buen rendimiento en cuanto a los conjuntos de datos de validación."
      ]
    },
    {
      "cell_type": "markdown",
      "metadata": {
        "id": "Jm3Aq7v2xnNP",
        "colab_type": "text"
      },
      "source": [
        "---\n",
        "## Evaluación del modelo\n",
        "---"
      ]
    },
    {
      "cell_type": "code",
      "metadata": {
        "id": "e5cILMdbHHa3",
        "colab_type": "code",
        "colab": {
          "base_uri": "https://localhost:8080/",
          "height": 86
        },
        "outputId": "425dd790-094f-480e-ef32-0ef4c083455f"
      },
      "source": [
        "#validate the model on test dataset to determine generalization\n",
        "loss, acc = model.evaluate(X_test, \n",
        "                        Y_test,\n",
        "                        batch_size=batch_size,\n",
        "                        verbose=0)\n",
        "print(\"\\nTest accuracy: %.1f%%\" % (100.0 * acc))\n",
        "print(\"\\nTest loss: %.1f%%\" % (loss))"
      ],
      "execution_count": null,
      "outputs": [
        {
          "output_type": "stream",
          "text": [
            "\n",
            "Test accuracy: 96.7%\n",
            "\n",
            "Test loss: 0.2%\n"
          ],
          "name": "stdout"
        }
      ]
    },
    {
      "cell_type": "code",
      "metadata": {
        "id": "kiYfamDIHQzJ",
        "colab_type": "code",
        "colab": {}
      },
      "source": [
        ""
      ],
      "execution_count": null,
      "outputs": []
    },
    {
      "cell_type": "markdown",
      "metadata": {
        "id": "OLfH5eT3EKuJ",
        "colab_type": "text"
      },
      "source": [
        "Datos X_test10 & Y_test10 (pos validación)"
      ]
    },
    {
      "cell_type": "code",
      "metadata": {
        "id": "mC_q44CZESw0",
        "colab_type": "code",
        "colab": {
          "base_uri": "https://localhost:8080/",
          "height": 86
        },
        "outputId": "eb074d56-20fc-40c9-b19c-158aed45116d"
      },
      "source": [
        "#validate the model on test dataset to determine generalization\n",
        "loss, acc = model.evaluate(X_test10, \n",
        "                        Y_test10,\n",
        "                        batch_size=batch_size,\n",
        "                        verbose=0)\n",
        "print(\"\\nTest accuracy: %.1f%%\" % (100.0 * acc))\n",
        "print(\"\\nTest loss: %.1f%%\" % (loss))"
      ],
      "execution_count": null,
      "outputs": [
        {
          "output_type": "stream",
          "text": [
            "\n",
            "Test accuracy: 98.1%\n",
            "\n",
            "Test loss: 0.1%\n"
          ],
          "name": "stdout"
        }
      ]
    }
  ]
}