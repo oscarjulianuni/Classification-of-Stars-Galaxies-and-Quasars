{
  "nbformat": 4,
  "nbformat_minor": 0,
  "metadata": {
    "colab": {
      "name": "pruebas2_cinematico.ipynb",
      "provenance": []
    },
    "kernelspec": {
      "name": "python3",
      "display_name": "Python 3"
    }
  },
  "cells": [
    {
      "cell_type": "code",
      "metadata": {
        "id": "27z83tMyZtyW",
        "colab_type": "code",
        "colab": {
          "base_uri": "https://localhost:8080/",
          "height": 72
        },
        "outputId": "37d8c361-5a0e-42a6-f878-fa5b8bbe0662"
      },
      "source": [
        "import numpy as np\n",
        "import pandas as pd\n",
        "import seaborn as sns\n",
        "import matplotlib.pyplot as plt\n",
        "from sklearn.model_selection import train_test_split\n",
        "\n",
        "%matplotlib inline"
      ],
      "execution_count": null,
      "outputs": [
        {
          "output_type": "stream",
          "text": [
            "/usr/local/lib/python3.6/dist-packages/statsmodels/tools/_testing.py:19: FutureWarning: pandas.util.testing is deprecated. Use the functions in the public API at pandas.testing instead.\n",
            "  import pandas.util.testing as tm\n"
          ],
          "name": "stderr"
        }
      ]
    },
    {
      "cell_type": "code",
      "metadata": {
        "id": "LS-HP6-qZzN5",
        "colab_type": "code",
        "colab": {
          "base_uri": "https://localhost:8080/",
          "height": 226
        },
        "outputId": "a676a92b-0e94-414e-8158-ffd75d4fd49a"
      },
      "source": [
        "import pandas as pd\n",
        "url = 'https://raw.githubusercontent.com/joaramirezcu/Mineria_Proyecto/master/Skyserver_SQL2_27_2018%206_51_39%20PM.csv'\n",
        "data_f1 = pd.read_csv(url, error_bad_lines=False)\n",
        "data_f1=data_f1.drop(['rerun'], axis=1)\n",
        "data_f1.head()"
      ],
      "execution_count": null,
      "outputs": [
        {
          "output_type": "execute_result",
          "data": {
            "text/html": [
              "<div>\n",
              "<style scoped>\n",
              "    .dataframe tbody tr th:only-of-type {\n",
              "        vertical-align: middle;\n",
              "    }\n",
              "\n",
              "    .dataframe tbody tr th {\n",
              "        vertical-align: top;\n",
              "    }\n",
              "\n",
              "    .dataframe thead th {\n",
              "        text-align: right;\n",
              "    }\n",
              "</style>\n",
              "<table border=\"1\" class=\"dataframe\">\n",
              "  <thead>\n",
              "    <tr style=\"text-align: right;\">\n",
              "      <th></th>\n",
              "      <th>objid</th>\n",
              "      <th>ra</th>\n",
              "      <th>dec</th>\n",
              "      <th>u</th>\n",
              "      <th>g</th>\n",
              "      <th>r</th>\n",
              "      <th>i</th>\n",
              "      <th>z</th>\n",
              "      <th>run</th>\n",
              "      <th>camcol</th>\n",
              "      <th>field</th>\n",
              "      <th>specobjid</th>\n",
              "      <th>class</th>\n",
              "      <th>redshift</th>\n",
              "      <th>plate</th>\n",
              "      <th>mjd</th>\n",
              "      <th>fiberid</th>\n",
              "    </tr>\n",
              "  </thead>\n",
              "  <tbody>\n",
              "    <tr>\n",
              "      <th>0</th>\n",
              "      <td>1.237650e+18</td>\n",
              "      <td>183.531326</td>\n",
              "      <td>0.089693</td>\n",
              "      <td>19.47406</td>\n",
              "      <td>17.04240</td>\n",
              "      <td>15.94699</td>\n",
              "      <td>15.50342</td>\n",
              "      <td>15.22531</td>\n",
              "      <td>752</td>\n",
              "      <td>4</td>\n",
              "      <td>267</td>\n",
              "      <td>3.722360e+18</td>\n",
              "      <td>STAR</td>\n",
              "      <td>-0.000009</td>\n",
              "      <td>3306</td>\n",
              "      <td>54922</td>\n",
              "      <td>491</td>\n",
              "    </tr>\n",
              "    <tr>\n",
              "      <th>1</th>\n",
              "      <td>1.237650e+18</td>\n",
              "      <td>183.598371</td>\n",
              "      <td>0.135285</td>\n",
              "      <td>18.66280</td>\n",
              "      <td>17.21449</td>\n",
              "      <td>16.67637</td>\n",
              "      <td>16.48922</td>\n",
              "      <td>16.39150</td>\n",
              "      <td>752</td>\n",
              "      <td>4</td>\n",
              "      <td>267</td>\n",
              "      <td>3.638140e+17</td>\n",
              "      <td>STAR</td>\n",
              "      <td>-0.000055</td>\n",
              "      <td>323</td>\n",
              "      <td>51615</td>\n",
              "      <td>541</td>\n",
              "    </tr>\n",
              "    <tr>\n",
              "      <th>2</th>\n",
              "      <td>1.237650e+18</td>\n",
              "      <td>183.680207</td>\n",
              "      <td>0.126185</td>\n",
              "      <td>19.38298</td>\n",
              "      <td>18.19169</td>\n",
              "      <td>17.47428</td>\n",
              "      <td>17.08732</td>\n",
              "      <td>16.80125</td>\n",
              "      <td>752</td>\n",
              "      <td>4</td>\n",
              "      <td>268</td>\n",
              "      <td>3.232740e+17</td>\n",
              "      <td>GALAXY</td>\n",
              "      <td>0.123111</td>\n",
              "      <td>287</td>\n",
              "      <td>52023</td>\n",
              "      <td>513</td>\n",
              "    </tr>\n",
              "    <tr>\n",
              "      <th>3</th>\n",
              "      <td>1.237650e+18</td>\n",
              "      <td>183.870529</td>\n",
              "      <td>0.049911</td>\n",
              "      <td>17.76536</td>\n",
              "      <td>16.60272</td>\n",
              "      <td>16.16116</td>\n",
              "      <td>15.98233</td>\n",
              "      <td>15.90438</td>\n",
              "      <td>752</td>\n",
              "      <td>4</td>\n",
              "      <td>269</td>\n",
              "      <td>3.722370e+18</td>\n",
              "      <td>STAR</td>\n",
              "      <td>-0.000111</td>\n",
              "      <td>3306</td>\n",
              "      <td>54922</td>\n",
              "      <td>510</td>\n",
              "    </tr>\n",
              "    <tr>\n",
              "      <th>4</th>\n",
              "      <td>1.237650e+18</td>\n",
              "      <td>183.883288</td>\n",
              "      <td>0.102557</td>\n",
              "      <td>17.55025</td>\n",
              "      <td>16.26342</td>\n",
              "      <td>16.43869</td>\n",
              "      <td>16.55492</td>\n",
              "      <td>16.61326</td>\n",
              "      <td>752</td>\n",
              "      <td>4</td>\n",
              "      <td>269</td>\n",
              "      <td>3.722370e+18</td>\n",
              "      <td>STAR</td>\n",
              "      <td>0.000590</td>\n",
              "      <td>3306</td>\n",
              "      <td>54922</td>\n",
              "      <td>512</td>\n",
              "    </tr>\n",
              "  </tbody>\n",
              "</table>\n",
              "</div>"
            ],
            "text/plain": [
              "          objid          ra       dec  ...  plate    mjd  fiberid\n",
              "0  1.237650e+18  183.531326  0.089693  ...   3306  54922      491\n",
              "1  1.237650e+18  183.598371  0.135285  ...    323  51615      541\n",
              "2  1.237650e+18  183.680207  0.126185  ...    287  52023      513\n",
              "3  1.237650e+18  183.870529  0.049911  ...   3306  54922      510\n",
              "4  1.237650e+18  183.883288  0.102557  ...   3306  54922      512\n",
              "\n",
              "[5 rows x 17 columns]"
            ]
          },
          "metadata": {
            "tags": []
          },
          "execution_count": 3
        }
      ]
    },
    {
      "cell_type": "code",
      "metadata": {
        "id": "YCdRK6eDZ662",
        "colab_type": "code",
        "colab": {
          "base_uri": "https://localhost:8080/",
          "height": 34
        },
        "outputId": "ee60a904-eee8-4b60-f263-b2cb8776364b"
      },
      "source": [
        "dim=display(data_f1.shape)"
      ],
      "execution_count": null,
      "outputs": [
        {
          "output_type": "display_data",
          "data": {
            "text/plain": [
              "(10000, 17)"
            ]
          },
          "metadata": {
            "tags": []
          }
        }
      ]
    },
    {
      "cell_type": "code",
      "metadata": {
        "id": "9ZHNycTEZ7S3",
        "colab_type": "code",
        "colab": {
          "base_uri": "https://localhost:8080/",
          "height": 121
        },
        "outputId": "b44f9ad5-b02b-472d-93c2-fd795b053ce9"
      },
      "source": [
        "X = data_f1.iloc[:, [1,2,13]]\n",
        "Y = data_f1.iloc[:, [12]]\n",
        "Y = Y.replace({\"GALAXY\":0, \"STAR\":1,\"QSO\":2})\n",
        "print(X.head())"
      ],
      "execution_count": null,
      "outputs": [
        {
          "output_type": "stream",
          "text": [
            "           ra       dec  redshift\n",
            "0  183.531326  0.089693 -0.000009\n",
            "1  183.598371  0.135285 -0.000055\n",
            "2  183.680207  0.126185  0.123111\n",
            "3  183.870529  0.049911 -0.000111\n",
            "4  183.883288  0.102557  0.000590\n"
          ],
          "name": "stdout"
        }
      ]
    },
    {
      "cell_type": "code",
      "metadata": {
        "id": "unrJJqOSZ_ZM",
        "colab_type": "code",
        "colab": {
          "base_uri": "https://localhost:8080/",
          "height": 438
        },
        "outputId": "20cab5c6-e1d9-4799-90d2-5eb66836722b"
      },
      "source": [
        "sns.catplot(x=\"class\", kind=\"count\", palette=\"ch:.25\", data=data_f1);\n",
        "print(Y[\"class\"].value_counts())"
      ],
      "execution_count": null,
      "outputs": [
        {
          "output_type": "stream",
          "text": [
            "0    4998\n",
            "1    4152\n",
            "2     850\n",
            "Name: class, dtype: int64\n"
          ],
          "name": "stdout"
        },
        {
          "output_type": "display_data",
          "data": {
            "image/png": "[encoded data removed]",
            "text/plain": [
              "<Figure size 360x360 with 1 Axes>"
            ]
          },
          "metadata": {
            "tags": [],
            "needs_background": "light"
          }
        }
      ]
    },
    {
      "cell_type": "code",
      "metadata": {
        "id": "1mZ-vdjSaBx6",
        "colab_type": "code",
        "colab": {
          "base_uri": "https://localhost:8080/",
          "height": 104
        },
        "outputId": "63ce89b3-7a74-46f6-c406-09b09a6cb882"
      },
      "source": [
        "correlation_dat = X.corr()\n",
        "correlation_dat.style.background_gradient(cmap='coolwarm', axis=None)"
      ],
      "execution_count": null,
      "outputs": [
        {
          "output_type": "execute_result",
          "data": {
            "text/html": [
              "<style  type=\"text/css\" >\n",
              "    #T_1c1e9252_b706_11ea_91b7_0242ac1c0002row0_col0 {\n",
              "            background-color:  #b40426;\n",
              "            color:  #f1f1f1;\n",
              "        }    #T_1c1e9252_b706_11ea_91b7_0242ac1c0002row0_col1 {\n",
              "            background-color:  #3b4cc0;\n",
              "            color:  #f1f1f1;\n",
              "        }    #T_1c1e9252_b706_11ea_91b7_0242ac1c0002row0_col2 {\n",
              "            background-color:  #4257c9;\n",
              "            color:  #f1f1f1;\n",
              "        }    #T_1c1e9252_b706_11ea_91b7_0242ac1c0002row1_col0 {\n",
              "            background-color:  #3b4cc0;\n",
              "            color:  #f1f1f1;\n",
              "        }    #T_1c1e9252_b706_11ea_91b7_0242ac1c0002row1_col1 {\n",
              "            background-color:  #b40426;\n",
              "            color:  #f1f1f1;\n",
              "        }    #T_1c1e9252_b706_11ea_91b7_0242ac1c0002row1_col2 {\n",
              "            background-color:  #4e68d8;\n",
              "            color:  #000000;\n",
              "        }    #T_1c1e9252_b706_11ea_91b7_0242ac1c0002row2_col0 {\n",
              "            background-color:  #4257c9;\n",
              "            color:  #f1f1f1;\n",
              "        }    #T_1c1e9252_b706_11ea_91b7_0242ac1c0002row2_col1 {\n",
              "            background-color:  #4e68d8;\n",
              "            color:  #000000;\n",
              "        }    #T_1c1e9252_b706_11ea_91b7_0242ac1c0002row2_col2 {\n",
              "            background-color:  #b40426;\n",
              "            color:  #f1f1f1;\n",
              "        }</style><table id=\"T_1c1e9252_b706_11ea_91b7_0242ac1c0002\" ><thead>    <tr>        <th class=\"blank level0\" ></th>        <th class=\"col_heading level0 col0\" >ra</th>        <th class=\"col_heading level0 col1\" >dec</th>        <th class=\"col_heading level0 col2\" >redshift</th>    </tr></thead><tbody>\n",
              "                <tr>\n",
              "                        <th id=\"T_1c1e9252_b706_11ea_91b7_0242ac1c0002level0_row0\" class=\"row_heading level0 row0\" >ra</th>\n",
              "                        <td id=\"T_1c1e9252_b706_11ea_91b7_0242ac1c0002row0_col0\" class=\"data row0 col0\" >1.000000</td>\n",
              "                        <td id=\"T_1c1e9252_b706_11ea_91b7_0242ac1c0002row0_col1\" class=\"data row0 col1\" >0.003596</td>\n",
              "                        <td id=\"T_1c1e9252_b706_11ea_91b7_0242ac1c0002row0_col2\" class=\"data row0 col2\" >0.030307</td>\n",
              "            </tr>\n",
              "            <tr>\n",
              "                        <th id=\"T_1c1e9252_b706_11ea_91b7_0242ac1c0002level0_row1\" class=\"row_heading level0 row1\" >dec</th>\n",
              "                        <td id=\"T_1c1e9252_b706_11ea_91b7_0242ac1c0002row1_col0\" class=\"data row1 col0\" >0.003596</td>\n",
              "                        <td id=\"T_1c1e9252_b706_11ea_91b7_0242ac1c0002row1_col1\" class=\"data row1 col1\" >1.000000</td>\n",
              "                        <td id=\"T_1c1e9252_b706_11ea_91b7_0242ac1c0002row1_col2\" class=\"data row1 col2\" >0.067021</td>\n",
              "            </tr>\n",
              "            <tr>\n",
              "                        <th id=\"T_1c1e9252_b706_11ea_91b7_0242ac1c0002level0_row2\" class=\"row_heading level0 row2\" >redshift</th>\n",
              "                        <td id=\"T_1c1e9252_b706_11ea_91b7_0242ac1c0002row2_col0\" class=\"data row2 col0\" >0.030307</td>\n",
              "                        <td id=\"T_1c1e9252_b706_11ea_91b7_0242ac1c0002row2_col1\" class=\"data row2 col1\" >0.067021</td>\n",
              "                        <td id=\"T_1c1e9252_b706_11ea_91b7_0242ac1c0002row2_col2\" class=\"data row2 col2\" >1.000000</td>\n",
              "            </tr>\n",
              "    </tbody></table>"
            ],
            "text/plain": [
              "<pandas.io.formats.style.Styler at 0x7f0699a18e10>"
            ]
          },
          "metadata": {
            "tags": []
          },
          "execution_count": 25
        }
      ]
    },
    {
      "cell_type": "code",
      "metadata": {
        "id": "NRDT8_vfaD4p",
        "colab_type": "code",
        "colab": {}
      },
      "source": [
        "import numpy as np\n",
        "from tensorflow.keras.models import Sequential\n",
        "from tensorflow.keras.layers import Dense, Activation, Dropout\n",
        "from tensorflow.keras.utils import to_categorical, plot_model\n",
        "from sklearn.preprocessing import StandardScaler"
      ],
      "execution_count": null,
      "outputs": []
    },
    {
      "cell_type": "code",
      "metadata": {
        "id": "9QEwYPkSaGRT",
        "colab_type": "code",
        "colab": {}
      },
      "source": [
        "y = to_categorical(Y)\n",
        "X_std = StandardScaler().fit_transform(X)"
      ],
      "execution_count": null,
      "outputs": []
    },
    {
      "cell_type": "code",
      "metadata": {
        "id": "1-p_u39daH9U",
        "colab_type": "code",
        "colab": {}
      },
      "source": [
        "X_trainT , X_test ,Y_trainT, Y_test = train_test_split(X_std , y , test_size=0.2)\n",
        "X_train , X_test10 ,Y_train, Y_test10 = train_test_split(X_trainT , Y_trainT , test_size=0.125)"
      ],
      "execution_count": null,
      "outputs": []
    },
    {
      "cell_type": "code",
      "metadata": {
        "id": "jgc4CdyoaONv",
        "colab_type": "code",
        "colab": {}
      },
      "source": [
        "input_size = 3\n",
        "num_labels = 3\n",
        "batch_size = 128\n",
        "dropout = 0.45"
      ],
      "execution_count": null,
      "outputs": []
    },
    {
      "cell_type": "code",
      "metadata": {
        "id": "6udvNr5caTIN",
        "colab_type": "code",
        "colab": {
          "base_uri": "https://localhost:8080/",
          "height": 434
        },
        "outputId": "ed0ec18c-1cc4-49bc-c795-926e4d152933"
      },
      "source": [
        "from tensorflow.keras.regularizers import l2\n",
        "\n",
        "model = Sequential()\n",
        "\n",
        "model.add(Dense(5, input_dim=input_size))\n",
        "model.add(Activation('relu'))\n",
        "model.add(Dropout(dropout))\n",
        "\n",
        "model.add(Dense(256))\n",
        "model.add(Activation('relu'))\n",
        "model.add(Dropout(dropout))\n",
        "\n",
        "model.add(Dense(num_labels))\n",
        "model.add(Activation('softmax'))\n",
        "\n",
        "model.summary()"
      ],
      "execution_count": null,
      "outputs": [
        {
          "output_type": "stream",
          "text": [
            "Model: \"sequential_2\"\n",
            "_________________________________________________________________\n",
            "Layer (type)                 Output Shape              Param #   \n",
            "=================================================================\n",
            "dense_3 (Dense)              (None, 5)                 20        \n",
            "_________________________________________________________________\n",
            "activation_3 (Activation)    (None, 5)                 0         \n",
            "_________________________________________________________________\n",
            "dropout_2 (Dropout)          (None, 5)                 0         \n",
            "_________________________________________________________________\n",
            "dense_4 (Dense)              (None, 256)               1536      \n",
            "_________________________________________________________________\n",
            "activation_4 (Activation)    (None, 256)               0         \n",
            "_________________________________________________________________\n",
            "dropout_3 (Dropout)          (None, 256)               0         \n",
            "_________________________________________________________________\n",
            "dense_5 (Dense)              (None, 3)                 771       \n",
            "_________________________________________________________________\n",
            "activation_5 (Activation)    (None, 3)                 0         \n",
            "=================================================================\n",
            "Total params: 2,327\n",
            "Trainable params: 2,327\n",
            "Non-trainable params: 0\n",
            "_________________________________________________________________\n"
          ],
          "name": "stdout"
        }
      ]
    },
    {
      "cell_type": "code",
      "metadata": {
        "id": "Sgm7R5GXaTiK",
        "colab_type": "code",
        "colab": {
          "base_uri": "https://localhost:8080/",
          "height": 976
        },
        "outputId": "9ed8b34f-fa1c-4b2c-b34f-912f26197a56"
      },
      "source": [
        "plot_model(model, show_shapes=True)"
      ],
      "execution_count": null,
      "outputs": [
        {
          "output_type": "execute_result",
          "data": {
            "image/png": "[encoded data removed]",
            "text/plain": [
              "<IPython.core.display.Image object>"
            ]
          },
          "metadata": {
            "tags": []
          },
          "execution_count": 31
        }
      ]
    },
    {
      "cell_type": "code",
      "metadata": {
        "id": "nO9LsxspaYF9",
        "colab_type": "code",
        "colab": {}
      },
      "source": [
        "model.compile(optimizer='adam', \n",
        "              loss='categorical_crossentropy',\n",
        "              metrics=['accuracy'])"
      ],
      "execution_count": null,
      "outputs": []
    },
    {
      "cell_type": "code",
      "metadata": {
        "id": "qWQx7AwuabG-",
        "colab_type": "code",
        "colab": {}
      },
      "source": [
        "from __future__ import absolute_import, division, print_function, unicode_literals\n",
        "import tensorflow as tf\n",
        "from tensorflow.keras import backend as K\n",
        "\n",
        "class myCallback(tf.keras.callbacks.Callback):\n",
        "    def on_epoch_end(self, epoch, logs={}):\n",
        "        if(logs.get('accuracy')>0.99):\n",
        "            print(\"\\nReached 0.99 accuracy so cancelling training!\")\n",
        "            self.model.stop_training = True\n",
        "\n",
        "# crea una instancia de clase\n",
        "accu_callback = myCallback()"
      ],
      "execution_count": null,
      "outputs": []
    },
    {
      "cell_type": "code",
      "metadata": {
        "id": "bUTUz-0vadMQ",
        "colab_type": "code",
        "colab": {}
      },
      "source": [
        "# Directory where the checkpoints will be saved\n",
        "import os \n",
        "checkpoint_dir = './training_checkpoints_mnist_mlp'\n",
        "# Name of the checkpoint files\n",
        "checkpoint_prefix = os.path.join(checkpoint_dir, \"mnist_mlp_ckpt_{epoch}\")\n",
        "\n",
        "checkpoint_callback=tf.keras.callbacks.ModelCheckpoint(\n",
        "    filepath=checkpoint_prefix,\n",
        "    save_weights_only=True, \n",
        "    monitor='val_accuracy', mode='max',\n",
        "    save_best_only=True)"
      ],
      "execution_count": null,
      "outputs": []
    },
    {
      "cell_type": "code",
      "metadata": {
        "id": "PoqwaYmdafL_",
        "colab_type": "code",
        "colab": {
          "base_uri": "https://localhost:8080/",
          "height": 1000
        },
        "outputId": "940aa149-9bc0-43d0-9794-ebb6215bbd59"
      },
      "source": [
        "epochs = 50\n",
        "validation_size =0.2\n",
        "\n",
        "history = model.fit(X_train, Y_train, \n",
        "                    epochs=epochs, \n",
        "                    batch_size=batch_size, \n",
        "                    validation_split=validation_size,\n",
        "                    callbacks=[accu_callback,checkpoint_callback],\n",
        "                    verbose=2)"
      ],
      "execution_count": null,
      "outputs": [
        {
          "output_type": "stream",
          "text": [
            "Epoch 1/50\n",
            "44/44 - 0s - loss: 1.0359 - accuracy: 0.4723 - val_loss: 0.9372 - val_accuracy: 0.5307\n",
            "Epoch 2/50\n",
            "44/44 - 0s - loss: 0.9026 - accuracy: 0.5184 - val_loss: 0.8147 - val_accuracy: 0.5600\n",
            "Epoch 3/50\n",
            "44/44 - 0s - loss: 0.8294 - accuracy: 0.5266 - val_loss: 0.7596 - val_accuracy: 0.5636\n",
            "Epoch 4/50\n",
            "44/44 - 0s - loss: 0.7782 - accuracy: 0.5366 - val_loss: 0.7270 - val_accuracy: 0.5936\n",
            "Epoch 5/50\n",
            "44/44 - 0s - loss: 0.7560 - accuracy: 0.5639 - val_loss: 0.7090 - val_accuracy: 0.6836\n",
            "Epoch 6/50\n",
            "44/44 - 0s - loss: 0.7284 - accuracy: 0.5796 - val_loss: 0.6920 - val_accuracy: 0.6614\n",
            "Epoch 7/50\n",
            "44/44 - 0s - loss: 0.7101 - accuracy: 0.6037 - val_loss: 0.6774 - val_accuracy: 0.6700\n",
            "Epoch 8/50\n",
            "44/44 - 0s - loss: 0.6784 - accuracy: 0.6480 - val_loss: 0.6594 - val_accuracy: 0.7164\n",
            "Epoch 9/50\n",
            "44/44 - 0s - loss: 0.6510 - accuracy: 0.6818 - val_loss: 0.6415 - val_accuracy: 0.7079\n",
            "Epoch 10/50\n",
            "44/44 - 0s - loss: 0.6287 - accuracy: 0.6920 - val_loss: 0.6050 - val_accuracy: 0.7464\n",
            "Epoch 11/50\n",
            "44/44 - 0s - loss: 0.6014 - accuracy: 0.7105 - val_loss: 0.5628 - val_accuracy: 0.8136\n",
            "Epoch 12/50\n",
            "44/44 - 0s - loss: 0.5716 - accuracy: 0.7418 - val_loss: 0.4996 - val_accuracy: 0.8550\n",
            "Epoch 13/50\n",
            "44/44 - 0s - loss: 0.5136 - accuracy: 0.7982 - val_loss: 0.4105 - val_accuracy: 0.9143\n",
            "Epoch 14/50\n",
            "44/44 - 0s - loss: 0.4572 - accuracy: 0.8384 - val_loss: 0.3294 - val_accuracy: 0.9464\n",
            "Epoch 15/50\n",
            "44/44 - 0s - loss: 0.4186 - accuracy: 0.8514 - val_loss: 0.2813 - val_accuracy: 0.9579\n",
            "Epoch 16/50\n",
            "44/44 - 0s - loss: 0.4062 - accuracy: 0.8623 - val_loss: 0.2525 - val_accuracy: 0.9643\n",
            "Epoch 17/50\n",
            "44/44 - 0s - loss: 0.3977 - accuracy: 0.8589 - val_loss: 0.2397 - val_accuracy: 0.9671\n",
            "Epoch 18/50\n",
            "44/44 - 0s - loss: 0.3874 - accuracy: 0.8686 - val_loss: 0.2243 - val_accuracy: 0.9693\n",
            "Epoch 19/50\n",
            "44/44 - 0s - loss: 0.3818 - accuracy: 0.8654 - val_loss: 0.2191 - val_accuracy: 0.9714\n",
            "Epoch 20/50\n",
            "44/44 - 0s - loss: 0.3697 - accuracy: 0.8707 - val_loss: 0.2165 - val_accuracy: 0.9757\n",
            "Epoch 21/50\n",
            "44/44 - 0s - loss: 0.3720 - accuracy: 0.8668 - val_loss: 0.2059 - val_accuracy: 0.9721\n",
            "Epoch 22/50\n",
            "44/44 - 0s - loss: 0.3609 - accuracy: 0.8725 - val_loss: 0.1922 - val_accuracy: 0.9721\n",
            "Epoch 23/50\n",
            "44/44 - 0s - loss: 0.3632 - accuracy: 0.8711 - val_loss: 0.1861 - val_accuracy: 0.9721\n",
            "Epoch 24/50\n",
            "44/44 - 0s - loss: 0.3543 - accuracy: 0.8779 - val_loss: 0.1942 - val_accuracy: 0.9764\n",
            "Epoch 25/50\n",
            "44/44 - 0s - loss: 0.3484 - accuracy: 0.8757 - val_loss: 0.1868 - val_accuracy: 0.9771\n",
            "Epoch 26/50\n",
            "44/44 - 0s - loss: 0.3394 - accuracy: 0.8807 - val_loss: 0.1763 - val_accuracy: 0.9757\n",
            "Epoch 27/50\n",
            "44/44 - 0s - loss: 0.3423 - accuracy: 0.8764 - val_loss: 0.1848 - val_accuracy: 0.9779\n",
            "Epoch 28/50\n",
            "44/44 - 0s - loss: 0.3587 - accuracy: 0.8720 - val_loss: 0.1862 - val_accuracy: 0.9807\n",
            "Epoch 29/50\n",
            "44/44 - 0s - loss: 0.3474 - accuracy: 0.8752 - val_loss: 0.1763 - val_accuracy: 0.9800\n",
            "Epoch 30/50\n",
            "44/44 - 0s - loss: 0.3395 - accuracy: 0.8830 - val_loss: 0.1759 - val_accuracy: 0.9800\n",
            "Epoch 31/50\n",
            "44/44 - 0s - loss: 0.3334 - accuracy: 0.8829 - val_loss: 0.1611 - val_accuracy: 0.9786\n",
            "Epoch 32/50\n",
            "44/44 - 0s - loss: 0.3355 - accuracy: 0.8811 - val_loss: 0.1764 - val_accuracy: 0.9786\n",
            "Epoch 33/50\n",
            "44/44 - 0s - loss: 0.3292 - accuracy: 0.8830 - val_loss: 0.1694 - val_accuracy: 0.9793\n",
            "Epoch 34/50\n",
            "44/44 - 0s - loss: 0.3393 - accuracy: 0.8804 - val_loss: 0.1583 - val_accuracy: 0.9786\n",
            "Epoch 35/50\n",
            "44/44 - 0s - loss: 0.3325 - accuracy: 0.8838 - val_loss: 0.1663 - val_accuracy: 0.9800\n",
            "Epoch 36/50\n",
            "44/44 - 0s - loss: 0.3278 - accuracy: 0.8839 - val_loss: 0.1520 - val_accuracy: 0.9800\n",
            "Epoch 37/50\n",
            "44/44 - 0s - loss: 0.3251 - accuracy: 0.8861 - val_loss: 0.1582 - val_accuracy: 0.9779\n",
            "Epoch 38/50\n",
            "44/44 - 0s - loss: 0.3288 - accuracy: 0.8880 - val_loss: 0.1525 - val_accuracy: 0.9814\n",
            "Epoch 39/50\n",
            "44/44 - 0s - loss: 0.3208 - accuracy: 0.8877 - val_loss: 0.1502 - val_accuracy: 0.9814\n",
            "Epoch 40/50\n",
            "44/44 - 0s - loss: 0.3010 - accuracy: 0.9023 - val_loss: 0.1447 - val_accuracy: 0.9786\n",
            "Epoch 41/50\n",
            "44/44 - 0s - loss: 0.2656 - accuracy: 0.9164 - val_loss: 0.1336 - val_accuracy: 0.9743\n",
            "Epoch 42/50\n",
            "44/44 - 0s - loss: 0.2379 - accuracy: 0.9255 - val_loss: 0.1242 - val_accuracy: 0.9779\n",
            "Epoch 43/50\n",
            "44/44 - 0s - loss: 0.2365 - accuracy: 0.9282 - val_loss: 0.1178 - val_accuracy: 0.9807\n",
            "Epoch 44/50\n",
            "44/44 - 0s - loss: 0.2427 - accuracy: 0.9270 - val_loss: 0.1177 - val_accuracy: 0.9793\n",
            "Epoch 45/50\n",
            "44/44 - 0s - loss: 0.2316 - accuracy: 0.9284 - val_loss: 0.1239 - val_accuracy: 0.9786\n",
            "Epoch 46/50\n",
            "44/44 - 0s - loss: 0.2253 - accuracy: 0.9302 - val_loss: 0.1144 - val_accuracy: 0.9807\n",
            "Epoch 47/50\n",
            "44/44 - 0s - loss: 0.2417 - accuracy: 0.9252 - val_loss: 0.1046 - val_accuracy: 0.9814\n",
            "Epoch 48/50\n",
            "44/44 - 0s - loss: 0.2336 - accuracy: 0.9254 - val_loss: 0.1185 - val_accuracy: 0.9807\n",
            "Epoch 49/50\n",
            "44/44 - 0s - loss: 0.2127 - accuracy: 0.9327 - val_loss: 0.1109 - val_accuracy: 0.9786\n",
            "Epoch 50/50\n",
            "44/44 - 0s - loss: 0.2380 - accuracy: 0.9232 - val_loss: 0.1130 - val_accuracy: 0.9786\n"
          ],
          "name": "stdout"
        }
      ]
    },
    {
      "cell_type": "code",
      "metadata": {
        "id": "bDfPayTBahJo",
        "colab_type": "code",
        "colab": {
          "base_uri": "https://localhost:8080/",
          "height": 410
        },
        "outputId": "a0ffb3e8-fa99-4822-cd58-5cca6951d8b1"
      },
      "source": [
        "import matplotlib.pyplot as plt\n",
        "acc = history.history['accuracy']\n",
        "val_acc = history.history['val_accuracy']\n",
        "loss = history.history['loss']\n",
        "val_loss = history.history['val_loss']\n",
        "\n",
        "epochs = range(len(acc))\n",
        "\n",
        "n_row = 1\n",
        "n_col = 2\n",
        "fig, ax = plt.subplots(n_row, n_col, sharex = False, sharey = False, figsize=(12,6))\n",
        "\n",
        "\n",
        "ax[0].plot(epochs, acc, 'r', label='Training accuracy', color = 'green')\n",
        "ax[0].plot(epochs, val_acc, 'b', label='Validation accuracy')\n",
        "ax[0].legend(fontsize=12,loc=0)\n",
        "ax[0].set_title('Training and Validation Accuracy',fontsize=16)\n",
        "ax[0].set_ylabel('measure',fontsize=14)\n",
        "ax[0].set_xlabel('epoch', fontsize = 14)\n",
        "ax[0].set_xlim([1, len(acc)])\n",
        "\n",
        "ax[1].plot(epochs, loss, 'r', label='Training Loss', color = 'green')\n",
        "ax[1].plot(epochs, val_loss, 'b', label='Validation Loss')\n",
        "ax[1].legend(fontsize=12)\n",
        "ax[1].set_title('Training and Validation Loss',fontsize=16)\n",
        "ax[1].set_ylabel('measure',fontsize=14)\n",
        "ax[1].set_xlabel('epoch', fontsize = 14)\n",
        "ax[1].set_xlim([1, len(acc)])\n",
        "\n",
        "\n",
        "plt.show()"
      ],
      "execution_count": null,
      "outputs": [
        {
          "output_type": "display_data",
          "data": {
            "image/png": "[encoded data removed]",
            "text/plain": [
              "<Figure size 864x432 with 2 Axes>"
            ]
          },
          "metadata": {
            "tags": [],
            "needs_background": "light"
          }
        }
      ]
    },
    {
      "cell_type": "code",
      "metadata": {
        "id": "GiPJw4boangb",
        "colab_type": "code",
        "colab": {
          "base_uri": "https://localhost:8080/",
          "height": 86
        },
        "outputId": "9b3ca1f5-bd33-4d67-c4e7-8f42b1bf8f18"
      },
      "source": [
        "#validate the model on test dataset to determine generalization\n",
        "loss, acc = model.evaluate(X_test, \n",
        "                        Y_test,\n",
        "                        batch_size=batch_size,\n",
        "                        verbose=0)\n",
        "print(\"\\nTest accuracy: %.1f%%\" % (100.0 * acc))\n",
        "print(\"\\nTest loss: %.1f%%\" % (loss))"
      ],
      "execution_count": null,
      "outputs": [
        {
          "output_type": "stream",
          "text": [
            "\n",
            "Test accuracy: 98.1%\n",
            "\n",
            "Test loss: 0.1%\n"
          ],
          "name": "stdout"
        }
      ]
    },
    {
      "cell_type": "code",
      "metadata": {
        "id": "odTTq4uWbDCn",
        "colab_type": "code",
        "colab": {
          "base_uri": "https://localhost:8080/",
          "height": 86
        },
        "outputId": "814424ab-b1ef-44c3-f6b7-cab37d9d94ff"
      },
      "source": [
        "#validate the model on test dataset to determine generalization\n",
        "loss, acc = model.evaluate(X_test10, \n",
        "                        Y_test10,\n",
        "                        batch_size=batch_size,\n",
        "                        verbose=0)\n",
        "print(\"\\nTest accuracy: %.1f%%\" % (100.0 * acc))\n",
        "print(\"\\nTest loss: %.1f%%\" % (loss))"
      ],
      "execution_count": null,
      "outputs": [
        {
          "output_type": "stream",
          "text": [
            "\n",
            "Test accuracy: 97.7%\n",
            "\n",
            "Test loss: 0.1%\n"
          ],
          "name": "stdout"
        }
      ]
    },
    {
      "cell_type": "code",
      "metadata": {
        "id": "5JxFCExDa_fA",
        "colab_type": "code",
        "colab": {}
      },
      "source": [
        ""
      ],
      "execution_count": null,
      "outputs": []
    }
  ]
}